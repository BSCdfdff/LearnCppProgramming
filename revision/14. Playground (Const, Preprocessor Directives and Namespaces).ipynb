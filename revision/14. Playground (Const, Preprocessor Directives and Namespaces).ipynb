{
 "cells": [
  {
   "cell_type": "markdown",
   "metadata": {},
   "source": [
    "# Messing with\n",
    "\n",
    "+ Const, Main point here. It comes in two variants. 1) Normal const, and other Preprocessor constant or Directives. 2nd one is done before compile time, and is global.\n",
    "    Also we see different formats fo Preprocessor Directives\n",
    "\n",
    "+ Constant pointers. Main essence here: It comes in 3 flavours: 1, 2, 3, with last one a combination of first two.\n",
    "\n",
    "\n",
    "$$\n",
    "\\newcommand\\T{\\Rule{0pt}{1em}{.3em}}\n",
    "\\begin{array}{|r|r|r|r|r|r|r|r|r|r|}\n",
    "\\hline \n",
    "\\T&\\color{green}{Data\\;is\\;constant}\\T&\\color{green}{Pointer\\;is\\;constant}\\T&\\color{green}{Pointer(Address)\\;is\\;constant} \\\\\\hline \n",
    "\\T&\\color{red}{Cant\\; change\\; *ptr(value)}\\T&\\color{red}{Cant\\; reassign\\; pointer} \\T&\\color{red}{Cant\\; change\\; pointer(Address)}\\\\\\hline \n",
    "\\text{int const *ptr = &x;}\\T&\\Large\\color{\\green}{\\unicode{10003}}\\T&\\Large\\color{\\red}{\\unicode{10008}}\\T&\\Large\\color{\\red}{\\unicode{10008}}  \\\\\\hline \n",
    "\\text{int *const ptr = &x;}\\T&\\Large\\color{\\red}{\\unicode{10008}}\\T&\\Large\\color{\\green}{\\unicode{10003}}\\T&\\Large\\color{\\green}{\\unicode{10003}} \\\\\\hline \n",
    "\\text{const int *const ptr = &x;}\\T&\\Large\\color{\\green}{\\unicode{10003}}\\T&\\Large\\color{\\green}{\\unicode{10003}}\\T&\\Large\\color{\\green}{\\unicode{10003}} \\\\\\hline \n",
    "\\end{array}\n",
    "$$\n",
    "+ Making Functions Constant\n",
    "    Main point here is that all variables in function cannot be changed\n",
    "+ Making Parameters of Function Constant\n",
    "    Main point here: especially with parameter pointer by reference, where pointer variable is an alias of pointer passed as parameter to function, you sometimes dont want to change ths value inside function. This is reason why you need ```int const &j ```\n",
    "    \n",
    "+ Namespaces, Main point here is to use functions (classes) with same name in code, and to differentiate it from other with same name, we add \"namespace\" in front of it. \n",
    "\n"
   ]
  },
  {
   "cell_type": "code",
   "execution_count": 1,
   "metadata": {},
   "outputs": [],
   "source": [
    "#include <exception>\n",
    "#include <string>\n",
    "#include <iostream>\n",
    "#include <climits>\n",
    "#include <math.h>\n",
    "#define INSERTION_OPERATOR operator<<\n",
    "#define EXTRACTION_OPERATOR operator>>\n",
    "#define ADDITION_OPERATOR operator+\n",
    "#define SUBTRACT_OPERATOR operator-\n",
    "#define y 10;\n",
    "using namespace std;"
   ]
  },
  {
   "cell_type": "markdown",
   "metadata": {},
   "source": [
    "## Normal Constant Variable\n",
    "____\n",
    "\n",
    "1. Cannot change the value.\n",
    "2. It is set till end of program\n",
    "3. Part of compile time\n",
    "4. Memory is assigned for it.\n"
   ]
  },
  {
   "cell_type": "code",
   "execution_count": 2,
   "metadata": {},
   "outputs": [],
   "source": [
    "const int x= 10;\n",
    "//x++';  NOT ALLOWED\n",
    "    \n",
    "    "
   ]
  },
  {
   "cell_type": "markdown",
   "metadata": {},
   "source": [
    "## Constant Preprocessor or Preprocessor Directives\n",
    "____\n",
    "\n",
    "1. Cannot change the value.\n",
    "2. Now it is global to the program\n",
    "\n",
    "in format\n",
    "\n",
    "#define <searchstring><replacestring>"
   ]
  },
  {
   "cell_type": "code",
   "execution_count": 3,
   "metadata": {},
   "outputs": [],
   "source": [
    "//Defined above as\n",
    "//#define y 10;\n",
    "\n",
    "//y++; NOT ALLOWED"
   ]
  },
  {
   "cell_type": "markdown",
   "metadata": {},
   "source": [
    "## Pointer 1 - \n",
    "____\n",
    "\n",
    "1. Data is constant\n",
    "2. Can reassign pointer"
   ]
  },
  {
   "cell_type": "code",
   "execution_count": 4,
   "metadata": {},
   "outputs": [
    {
     "name": "stdout",
     "output_type": "stream",
     "text": [
      "0x7fe6caa33000\n",
      "0x7fe6caa33004\n",
      "20\n"
     ]
    }
   ],
   "source": [
    "int const *p=&x;\n",
    "\n",
    "cout<<p<<endl;\n",
    "\n",
    "//++*p; NOT ALLOWED - DATA IS CONSTANT \n",
    "\n",
    "++p; //ALLOWED TO MODIFY POINTER ADDRESS\n",
    "cout<<p<<endl;\n",
    "\n",
    "int z = 20;\n",
    "p = &z;     //ALLOWED TO REASSIGN POINTER, BUT CANNOT UPDATE VALUE ONCE IS IT ASSIGNED\n",
    "\n",
    "cout<<*p<<endl;\n"
   ]
  },
  {
   "cell_type": "markdown",
   "metadata": {},
   "source": [
    "## ## Pointer 2 - \n",
    "____\n",
    "\n",
    "1. Can assign new data\n",
    "2. Pointer is constant"
   ]
  },
  {
   "cell_type": "code",
   "execution_count": 5,
   "metadata": {},
   "outputs": [
    {
     "name": "stdout",
     "output_type": "stream",
     "text": [
      "0x7fe6cfaac040\n",
      "11\n",
      "0x7fe6cfaac040\n"
     ]
    }
   ],
   "source": [
    "int x_1=10;\n",
    "int *const p_1=&x_1;\n",
    "cout<<p_1<<endl;\n",
    "\n",
    "++*p_1; //ALLOWED - DATA IS NOT CONSTANT \n",
    "\n",
    "cout<<*p_1<<endl;\n",
    "\n",
    "//p_1 = &z; //NOT ALLOWED - POINTER IS CONSTANT \n",
    "\n",
    "//++p_1; //NOT ALLOWED TO MODIFY POINTER ADDRESS\n",
    "cout<<p_1<<endl;\n"
   ]
  },
  {
   "cell_type": "markdown",
   "metadata": {},
   "source": [
    "## Pointer 3 - \n",
    "____\n",
    "\n",
    "1. Data is constant\n",
    "2. Pointer is constant\n",
    "\n"
   ]
  },
  {
   "cell_type": "code",
   "execution_count": 6,
   "metadata": {},
   "outputs": [],
   "source": [
    "int x_2=30;\n",
    "const int *const p_2=&x_2;\n",
    "\n",
    "//++*p_2; NOT ALLOWED - DATA IS CONSTANT \n",
    "//p_1 = &x_2; NOT ALLOWED - POINTER IS CONSTANT \n",
    "//++p_2; //NOT ALLOWED TO MODIFY POINTER ADDRESS"
   ]
  },
  {
   "cell_type": "markdown",
   "metadata": {},
   "source": [
    "## Making Functions Constant\n",
    "\n",
    "___"
   ]
  },
  {
   "cell_type": "code",
   "execution_count": 7,
   "metadata": {},
   "outputs": [
    {
     "name": "stdout",
     "output_type": "stream",
     "text": [
      "10\n"
     ]
    }
   ],
   "source": [
    "class Demo{\n",
    "public:\n",
    "    int x=10;\n",
    "    int f = 20;\n",
    "    \n",
    "    void Display() const{\n",
    "        //x++; //NOT ALLOWED - EVERYTHING INSIDE FUNCTION MUST NOT BE CHANGED\n",
    "        cout<<x<<endl;    \n",
    "    }\n",
    "    \n",
    "    //BELOW NOT ALLOWED\n",
    "//     void Swap(const int &a, const int &b){\n",
    "//         int temp;\n",
    "//         temp=a;\n",
    "//         a=b;\n",
    "//         b=temp;\n",
    "//     }\n",
    "    \n",
    "    //ALLOWED\n",
    "    void Swap(int &a, int &b){\n",
    "        int temp;\n",
    "        temp=a;\n",
    "        a=b;\n",
    "        b=temp;\n",
    "    }\n",
    "    \n",
    "};\n",
    "\n",
    "Demo d;\n",
    "d.Display();"
   ]
  },
  {
   "cell_type": "markdown",
   "metadata": {},
   "source": [
    "## Making Parameters of Function Constant\n",
    "\n",
    "____\n",
    "\n",
    "\n"
   ]
  },
  {
   "cell_type": "code",
   "execution_count": 8,
   "metadata": {},
   "outputs": [
    {
     "name": "stdout",
     "output_type": "stream",
     "text": [
      "g:30\n",
      "h:4\n",
      "g:4\n",
      "h:30\n"
     ]
    }
   ],
   "source": [
    "int g=30;\n",
    "int h=4;\n",
    "cout<<\"g:\"<<g<<endl;\n",
    "cout<<\"h:\"<<h<<endl;\n",
    "\n",
    "d.Swap(g,h);\n",
    "\n",
    "cout<<\"g:\"<<g<<endl;\n",
    "cout<<\"h:\"<<h<<endl;"
   ]
  },
  {
   "cell_type": "code",
   "execution_count": 9,
   "metadata": {},
   "outputs": [],
   "source": [
    "namespace FirstApp {\n",
    "    void fun(){\n",
    "        cout<<\"This is fun in First App\"<<endl;\n",
    "    }\n",
    "}\n"
   ]
  },
  {
   "cell_type": "code",
   "execution_count": 10,
   "metadata": {},
   "outputs": [],
   "source": [
    "using namespace FirstApp;"
   ]
  },
  {
   "cell_type": "code",
   "execution_count": 11,
   "metadata": {},
   "outputs": [
    {
     "name": "stdout",
     "output_type": "stream",
     "text": [
      "This is fun in First App\n"
     ]
    }
   ],
   "source": [
    "//FirstApp::fun;\n",
    "fun();"
   ]
  },
  {
   "cell_type": "code",
   "execution_count": null,
   "metadata": {},
   "outputs": [],
   "source": []
  },
  {
   "cell_type": "code",
   "execution_count": null,
   "metadata": {},
   "outputs": [],
   "source": []
  }
 ],
 "metadata": {
  "kernelspec": {
   "display_name": "C++17",
   "language": "C++17",
   "name": "xcpp17"
  },
  "language_info": {
   "codemirror_mode": "text/x-c++src",
   "file_extension": ".cpp",
   "mimetype": "text/x-c++src",
   "name": "c++",
   "version": "17"
  }
 },
 "nbformat": 4,
 "nbformat_minor": 2
}
