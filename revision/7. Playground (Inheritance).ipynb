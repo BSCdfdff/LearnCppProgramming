{
 "cells": [
  {
   "cell_type": "markdown",
   "metadata": {},
   "source": [
    "# Messing with\n",
    "\n",
    "+  Two Relationshops (Inheritance)\n",
    "    - Is a\n",
    "    - Has a \n",
    "+ \"Has-a\" Relationship.    \n",
    "    Through Base and Dervied Class or also called Parent and Child Relationship\n",
    "+ \"Is-a\" Relationsip\n",
    "    One class is inside another class\n",
    "+ Access Specifiers (private, protected, public)\n",
    "    That is how visible or connected is the Parent (members and method/functions) from the Child, and visa versa.\n",
    "    \n",
    "    Between Parent and Child, only protected and public. What is private to parent, can only be used by parent. \n",
    "    \n",
    "    \n",
    "\n"
   ]
  },
  {
   "cell_type": "code",
   "execution_count": 1,
   "metadata": {},
   "outputs": [],
   "source": [
    "#include <iostream>\n",
    "#include <climits>\n",
    "#include <math.h>\n",
    "#define INSERTION_OPERATOR operator<<\n",
    "#define EXTRACTION_OPERATOR operator>>\n",
    "#define ADDITION_OPERATOR operator+\n",
    "#define SUBTRACT_OPERATOR operator-\n",
    "using namespace std;"
   ]
  },
  {
   "cell_type": "markdown",
   "metadata": {},
   "source": [
    "## Definition of Inheritance\n",
    "\n",
    "___"
   ]
  },
  {
   "cell_type": "code",
   "execution_count": 2,
   "metadata": {},
   "outputs": [],
   "source": [
    "class Parent{\n",
    "private:\n",
    "    int a;\n",
    "protected:\n",
    "    int b;\n",
    "public:\n",
    "    int c;\n",
    "\n",
    "public:\n",
    "    \n",
    "    Parent(){\n",
    "       cout<<\"Non Param Parent\"<<endl;     \n",
    "    }\n",
    "    \n",
    "    \n",
    "    Parent(int n){\n",
    "        cout<<\"Param Parent:\"<<n<<endl;     \n",
    "    }\n",
    "};\n",
    "\n",
    "class Child:Parent{\n",
    "public:\n",
    "    \n",
    "    Child(){\n",
    "       cout<<\"Non Param Child\"<<endl;     \n",
    "    }\n",
    "    \n",
    "    \n",
    "    Child(int n){\n",
    "        cout<<\"Param Child:\"<<n<<endl;     \n",
    "    }\n",
    "    \n",
    "    Child(int a, int b):Parent(a){\n",
    "       cout<<\"Param Child (Special):\"<<a<<\" \"<<b<<endl;     \n",
    "        \n",
    "    }\n",
    "};"
   ]
  },
  {
   "cell_type": "markdown",
   "metadata": {},
   "source": [
    "## Calling Child Class (Non Parameterized)\n",
    "\n",
    "___\n",
    "\n",
    "Sequence Output\n",
    "\n",
    "1. Parent (Non Param)\n",
    "2. Child ((Non Param)\n"
   ]
  },
  {
   "cell_type": "code",
   "execution_count": 3,
   "metadata": {},
   "outputs": [
    {
     "name": "stdout",
     "output_type": "stream",
     "text": [
      "Non Param Parent\n",
      "Non Param Child\n"
     ]
    }
   ],
   "source": [
    "Child d;"
   ]
  },
  {
   "cell_type": "markdown",
   "metadata": {},
   "source": [
    "## Calling Child Class (Parameterized)\n",
    "\n",
    "___\n",
    "\n",
    "Sequence Output\n",
    "\n",
    "1. Parent (Non Param)\n",
    "2. Child (Param)\n",
    "\n",
    "So parent non param is run first again, but then the child param is run. \n",
    "\n",
    "\n"
   ]
  },
  {
   "cell_type": "code",
   "execution_count": 4,
   "metadata": {},
   "outputs": [
    {
     "name": "stdout",
     "output_type": "stream",
     "text": [
      "Non Param Parent\n",
      "Param Child:10\n"
     ]
    }
   ],
   "source": [
    "Child d_1(10);"
   ]
  },
  {
   "cell_type": "markdown",
   "metadata": {},
   "source": [
    "## Calling Child Class (Parameterized) (But want Parent Param first)\n",
    "\n",
    "___\n",
    "\n",
    "From above we saw parent non param, when child param is rum. But we want sequece as follows\n",
    "\n",
    "```\n",
    "Param Parent:10\n",
    "Param Child:10\n",
    "```\n",
    "\n",
    "We need a special Constructor in Child Class for this, since how will be identify which ```10``` belongs to which Constructor\n",
    "\n",
    "(see in Class above)"
   ]
  },
  {
   "cell_type": "code",
   "execution_count": 5,
   "metadata": {},
   "outputs": [
    {
     "name": "stdout",
     "output_type": "stream",
     "text": [
      "Param Parent:10\n",
      "Param Child (Special):10 20\n"
     ]
    }
   ],
   "source": [
    "Child d_2(10,20);"
   ]
  },
  {
   "cell_type": "code",
   "execution_count": null,
   "metadata": {},
   "outputs": [],
   "source": []
  }
 ],
 "metadata": {
  "kernelspec": {
   "display_name": "C++17",
   "language": "C++17",
   "name": "xcpp17"
  },
  "language_info": {
   "codemirror_mode": "text/x-c++src",
   "file_extension": ".cpp",
   "mimetype": "text/x-c++src",
   "name": "c++",
   "version": "17"
  }
 },
 "nbformat": 4,
 "nbformat_minor": 2
}
