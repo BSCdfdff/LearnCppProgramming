{
 "cells": [
  {
   "cell_type": "markdown",
   "metadata": {},
   "source": [
    "# Messing with\n",
    "\n",
    "+ Parameter passing methods\n",
    "+ Return passing methods\n",
    "+ Function Templates\n",
    "\n"
   ]
  },
  {
   "cell_type": "code",
   "execution_count": 1,
   "metadata": {},
   "outputs": [],
   "source": [
    "#include <iostream>\n",
    "#include <climits>\n",
    "#include <math.h>\n",
    "#define INSERTION_OPERATOR operator<<\n",
    "#define EXTRACTION_OPERATOR operator>>\n",
    "#define ADDITION_OPERATOR operator+\n",
    "using namespace std;"
   ]
  },
  {
   "cell_type": "markdown",
   "metadata": {},
   "source": [
    "## Passing by Value (When function exits, variables scope also gets lost)\n",
    "____\n",
    "\n",
    "Nothing change, as when swap, exits, the variables looses scope"
   ]
  },
  {
   "cell_type": "code",
   "execution_count": 2,
   "metadata": {},
   "outputs": [
    {
     "name": "stdout",
     "output_type": "stream",
     "text": [
      "x:10 y:20\n",
      "x:10 y:20\n"
     ]
    }
   ],
   "source": [
    "void Swap (int a, int b){\n",
    "    int temp;\n",
    "    temp = a;\n",
    "    a=b;\n",
    "    b=temp;\n",
    "}\n",
    "int x, y;\n",
    "x=10;\n",
    "y=20;\n",
    "cout<<\"x:\"<<x<<\" \"<<\"y:\"<<y<<endl;\n",
    "Swap(x,y);\n",
    "cout<<\"x:\"<<x<<\" \"<<\"y:\"<<y<<endl;"
   ]
  },
  {
   "cell_type": "markdown",
   "metadata": {},
   "source": [
    "## Passing by Address  (Variables outside function changes)\n",
    "____\n",
    "\n",
    "From main we pass the addredd to Swap, using ```&```. Swap still creates it variables in stack, but contents is the address to ```x_1``` and ```y_1```\n",
    "\n",
    "And what is important, is that the lifetime of variable outside the scope of SWAP function.\n"
   ]
  },
  {
   "cell_type": "code",
   "execution_count": 3,
   "metadata": {},
   "outputs": [
    {
     "name": "stdout",
     "output_type": "stream",
     "text": [
      "x:10 y:20\n",
      "x:20 y:10\n"
     ]
    }
   ],
   "source": [
    "void Swap_2 (int *a, int *b){\n",
    "    int temp;\n",
    "    temp = *a;\n",
    "    *a=*b;\n",
    "    *b=temp;\n",
    "}\n",
    "int x_1, y_1;\n",
    "x_1=10;\n",
    "y_1=20;\n",
    "cout<<\"x:\"<<x_1<<\" \"<<\"y:\"<<y_1<<endl;\n",
    "Swap_2(&x_1,&y_1);\n",
    "cout<<\"x:\"<<x_1<<\" \"<<\"y:\"<<y_1<<endl;"
   ]
  },
  {
   "cell_type": "markdown",
   "metadata": {},
   "source": [
    "\n",
    "It follows from defining a reference pointer to a variable. Can only be done this way, syntactically.\n",
    "\n",
    "```\n",
    "int x = 10;\n",
    "int &y = x\n",
    "\n",
    "Now I have a reference to address of x, and an alias of x is y, NO exrtra is allocated. Must be used with caution\n",
    "\n",
    "```\n",
    "\n",
    "Less code, for same outcome, as Passing by Address. But should be used with care.\n"
   ]
  },
  {
   "cell_type": "code",
   "execution_count": 4,
   "metadata": {},
   "outputs": [
    {
     "name": "stdout",
     "output_type": "stream",
     "text": [
      "x:10 y:20\n",
      "x:20 y:10\n"
     ]
    }
   ],
   "source": [
    "void Swap_3 (int &a, int &b){\n",
    "    int temp;\n",
    "    temp = a;\n",
    "    a=b;\n",
    "    b=temp;\n",
    "}\n",
    "int x_2, y_2;\n",
    "x_2=10;\n",
    "y_2=20;\n",
    "cout<<\"x:\"<<x_2<<\" \"<<\"y:\"<<y_2<<endl;\n",
    "Swap_3(x_2,y_2);\n",
    "cout<<\"x:\"<<x_2<<\" \"<<\"y:\"<<y_2<<endl;"
   ]
  },
  {
   "cell_type": "markdown",
   "metadata": {},
   "source": [
    "## Return by Address  (Attempt 1)\n",
    "____\n",
    "\n",
    "Here we can see that we have assigned ```temp = a = 10```, but what is returned is garbage. Meaning it looses its scope, once the function exits, since this pointer address is in stack. We need to a new pointer in HEAP, so it keeps its state after exiting Swap"
   ]
  },
  {
   "cell_type": "code",
   "execution_count": 5,
   "metadata": {},
   "outputs": [
    {
     "name": "stderr",
     "output_type": "stream",
     "text": [
      "\u001b[1minput_line_12:6:13: \u001b[0m\u001b[0;1;35mwarning: \u001b[0m\u001b[1maddress of stack memory associated with local variable 'temp' returned [-Wreturn-stack-address]\u001b[0m\n",
      "    return &temp;\n",
      "\u001b[0;1;32m            ^~~~\n",
      "\u001b[0m"
     ]
    },
    {
     "name": "stdout",
     "output_type": "stream",
     "text": [
      "a:10\n",
      "z (Address):0x7ffe76c43bac\n",
      "z (Value):32766\n"
     ]
    }
   ],
   "source": [
    "int *Swap_4 (int a, int b){\n",
    "    int temp;\n",
    "    temp = a;\n",
    "    a=b;\n",
    "    b=temp;\n",
    "    return &temp;\n",
    "}\n",
    "int x_3, y_3, *z_3;\n",
    "x_3=10;\n",
    "y_3=20;\n",
    "\n",
    "cout<<\"a:\"<<x_3<<endl;\n",
    "z_3=Swap_4(x_3,y_3);\n",
    "cout<<\"z (Address):\"<<z_3<<endl;\n",
    "cout<<\"z (Value):\"<<*z_3<<endl;"
   ]
  },
  {
   "cell_type": "markdown",
   "metadata": {},
   "source": [
    "## Return by Address  (Attempt 2)\n",
    "____\n",
    "\n",
    "In order to keep the scope of temp alive outside Swap, we need to create temp in HEAP, and then return the reference as pointer.\n",
    "\n",
    "Successfully temp = 10, is returned to main function.\n"
   ]
  },
  {
   "cell_type": "code",
   "execution_count": 6,
   "metadata": {
    "scrolled": true
   },
   "outputs": [
    {
     "name": "stdout",
     "output_type": "stream",
     "text": [
      "x (Address):0x7f286fa90050\n",
      "x (Value):10\n",
      "z (Address):0x55c65b2cd640\n",
      "z (Value):10\n"
     ]
    },
    {
     "data": {
      "text/plain": [
       "@0x7f286fc13b60"
      ]
     },
     "execution_count": 6,
     "metadata": {},
     "output_type": "execute_result"
    }
   ],
   "source": [
    "int *Swap_5 (int a, int b){\n",
    "    int *temp = new int ;\n",
    "    *temp = a;\n",
    "    a=b;\n",
    "    b=*temp;\n",
    "    return temp;\n",
    "}\n",
    "int x_4, y_4, *z_4;\n",
    "x_4=10;\n",
    "y_4=20;\n",
    "\n",
    "cout<<\"x (Address):\"<<&x_4<<endl;\n",
    "cout<<\"x (Value):\"<<x_4<<endl;\n",
    "z_4=Swap_5(x_4,y_4);\n",
    "cout<<\"z (Address):\"<<z_4<<endl;\n",
    "cout<<\"z (Value):\"<<*z_4<<endl;\n",
    "\n"
   ]
  },
  {
   "cell_type": "markdown",
   "metadata": {},
   "source": [
    "## Return by Reference \n",
    "____\n",
    "\n",
    "Works the same as \"pass by reference\", where the function \"makes use\" or in this case, function return value will be an addres, which us the ```& ```sign. The main program where the function is called is untouched."
   ]
  },
  {
   "cell_type": "code",
   "execution_count": 7,
   "metadata": {},
   "outputs": [
    {
     "name": "stdout",
     "output_type": "stream",
     "text": [
      "x (Address):0x7f286fa90060\n",
      "x (Value):10\n",
      "z (Address):20\n",
      "z (Value):0x7f286fa90068\n"
     ]
    }
   ],
   "source": [
    "int &Swap_6 (int &a, int &b){\n",
    "    int &temp = a; //this is signature that must be remembered for passing by reference\n",
    "    a=b;\n",
    "    b=temp;\n",
    "    return temp;\n",
    "}\n",
    "int x_5, y_5, z_5;\n",
    "x_5=10;\n",
    "y_5=20;\n",
    "\n",
    "cout<<\"x (Address):\"<<&x_5<<endl;\n",
    "cout<<\"x (Value):\"<<x_5<<endl;\n",
    "z_5=Swap_6(x_5,y_5);\n",
    "cout<<\"z (Address):\"<<z_5<<endl;\n",
    "cout<<\"z (Value):\"<<&z_5<<endl;"
   ]
  },
  {
   "cell_type": "markdown",
   "metadata": {},
   "source": [
    "## Template Functions\n",
    "____\n",
    "\n",
    "Content of function is same, but the parameter types differ. Then you can define a Template function."
   ]
  },
  {
   "cell_type": "code",
   "execution_count": null,
   "metadata": {},
   "outputs": [],
   "source": []
  },
  {
   "cell_type": "code",
   "execution_count": null,
   "metadata": {},
   "outputs": [],
   "source": []
  },
  {
   "cell_type": "code",
   "execution_count": null,
   "metadata": {},
   "outputs": [],
   "source": []
  }
 ],
 "metadata": {
  "kernelspec": {
   "display_name": "C++17",
   "language": "C++17",
   "name": "xcpp17"
  },
  "language_info": {
   "codemirror_mode": "text/x-c++src",
   "file_extension": ".cpp",
   "mimetype": "text/x-c++src",
   "name": "c++",
   "version": "17"
  }
 },
 "nbformat": 4,
 "nbformat_minor": 2
}
