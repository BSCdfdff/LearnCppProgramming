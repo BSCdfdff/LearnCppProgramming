{
 "cells": [
  {
   "cell_type": "markdown",
   "metadata": {},
   "source": [
    "# Messing with\n",
    "\n",
    "+ Operator Overloading, where you want to add complex numbers [(a + ib) + (a + ib)], if if they are primitive data types.    \n",
    "    Gist of it: You need to write a function, with the internals of how to do it. Thats main point of essence. Just to allow you to write\n",
    "        8 + 11i\n",
    "        10 + 12i\n",
    "    Then you want the answer to the above\n",
    "    \n",
    "    Ok, the above is to much noise: Even better, you want to use a primitive operator (+/-), and add two object to together, that is \n",
    "    c1 + c2. \n",
    "    \n",
    "    Given c1/c2 is split into real and imaginery part, is not of essence here, See example below.\n",
    "            \n",
    "\n",
    "After all above is internalised, then we can make it more intersting by split simply integer into real and imaginary part (check old notes for this)\n",
    "\n",
    "+ friend Function\n",
    "    Gist here is is that if we need to define the function outside, we normally use a scope resolution operator (::). However,  here is not possible. Since we cannot use he scope resolution, we use \"friend function\", in the definition.\n",
    "    \n",
    "    Using \"friend function\" is not as nice, since, we then need to pass the objects as parameters (not such a nice cleatr design). So previously, whatever variable I wanted to use inside the function, I could simply just use it, as it was part of th class. Now seeing that the function is outside the class (and there is no scope resolution operator, although it is defined with \"friend function\", I need to pass whatever i need to use inside the function as parameter to it) So more variable, just to use the function outside the class.\n",
    "    \n",
    "+ INSERTION AND EXTRACTION Operator\n"
   ]
  },
  {
   "cell_type": "code",
   "execution_count": 1,
   "metadata": {},
   "outputs": [],
   "source": [
    "#include <iostream>\n",
    "#include <climits>\n",
    "#include <math.h>\n",
    "#define INSERTION_OPERATOR operator<<\n",
    "#define EXTRACTION_OPERATOR operator>>\n",
    "#define ADDITION_OPERATOR operator+\n",
    "#define SUBTRACT_OPERATOR operator-\n",
    "using namespace std;"
   ]
  },
  {
   "cell_type": "markdown",
   "metadata": {},
   "source": [
    "## Definition of Class\n",
    "\n",
    "___"
   ]
  },
  {
   "cell_type": "code",
   "execution_count": 2,
   "metadata": {},
   "outputs": [],
   "source": [
    "class Complex{\n",
    "public:\n",
    "    int a;\n",
    "public:\n",
    "    Complex (int x=0){\n",
    "        a = x;\n",
    "    }\n",
    "    \n",
    "    Complex add(Complex comp1){\n",
    "        Complex temp;\n",
    "        temp.a = a + comp1.a;\n",
    "        return temp;    \n",
    "    }\n",
    "    \n",
    "//Second attempt 1\n",
    "//     Complex operator+(Complex comp1){\n",
    "//         Complex temp;\n",
    "//         temp.a = a + comp1.a;\n",
    "//         return temp;    \n",
    "//     }\n",
    " \n",
    "    //Second attempt 2\n",
    "    //\n",
    "    Complex ADDITION_OPERATOR (Complex comp1){\n",
    "        Complex temp;\n",
    "        temp.a = a + comp1.a;\n",
    "        return temp;    \n",
    "    }\n",
    "\n",
    "    \n",
    "    friend Complex SUBTRACT_OPERATOR (Complex comp1,Complex comp2);\n",
    "    \n",
    "    void Display(){\n",
    "        cout<<a<<endl;\n",
    "        \n",
    "    }\n",
    "\n",
    "}\n"
   ]
  },
  {
   "cell_type": "code",
   "execution_count": 3,
   "metadata": {},
   "outputs": [],
   "source": [
    "Complex SUBTRACT_OPERATOR (Complex comp1,Complex comp2){\n",
    "        Complex temp;\n",
    "        temp.a = comp1.a - comp2.a;\n",
    "        return temp;\n",
    "\n",
    "}"
   ]
  },
  {
   "cell_type": "markdown",
   "metadata": {},
   "source": [
    "## First Attempt: Operator Overloading\n",
    "\n",
    "____\n",
    "\n"
   ]
  },
  {
   "cell_type": "code",
   "execution_count": 4,
   "metadata": {},
   "outputs": [
    {
     "name": "stdout",
     "output_type": "stream",
     "text": [
      "14\n"
     ]
    }
   ],
   "source": [
    "Complex c1 (7);\n",
    "Complex c2 (7);\n",
    "Complex c3;   //overloaded with x = 0 so the parameter is optional\n",
    "c3 = c2.add(c1);    \n",
    "cout<<c3.a<<endl;\n"
   ]
  },
  {
   "cell_type": "markdown",
   "metadata": {},
   "source": [
    "## Second Attempt: Operator Overloading\n",
    "\n",
    "____\n",
    "\n",
    "1st one above - we use the \"+\" sign\n",
    "\n",
    "2nd above - We \"redefine\" +, then use \"ADDITION_OPERATOR\""
   ]
  },
  {
   "cell_type": "code",
   "execution_count": 5,
   "metadata": {},
   "outputs": [
    {
     "name": "stdout",
     "output_type": "stream",
     "text": [
      "100\n"
     ]
    }
   ],
   "source": [
    "c1.a = 120;\n",
    "c2.a = 20;\n",
    "    \n",
    "c3 = c1 - c2;    \n",
    "cout<<c3.a<<endl;"
   ]
  },
  {
   "cell_type": "markdown",
   "metadata": {},
   "source": [
    "## Display - First Attempt\n",
    "\n",
    "____\n",
    "c3.Diplay();"
   ]
  },
  {
   "cell_type": "code",
   "execution_count": null,
   "metadata": {},
   "outputs": [],
   "source": []
  }
 ],
 "metadata": {
  "kernelspec": {
   "display_name": "C++17",
   "language": "C++17",
   "name": "xcpp17"
  },
  "language_info": {
   "codemirror_mode": "text/x-c++src",
   "file_extension": ".cpp",
   "mimetype": "text/x-c++src",
   "name": "c++",
   "version": "17"
  }
 },
 "nbformat": 4,
 "nbformat_minor": 2
}
