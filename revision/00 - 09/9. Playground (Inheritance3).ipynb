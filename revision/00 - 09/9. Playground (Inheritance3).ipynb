{
 "cells": [
  {
   "cell_type": "markdown",
   "metadata": {},
   "source": [
    "# Messing with\n",
    "\n",
    "+  Base Class Pointer Derivd Class Object\n"
   ]
  },
  {
   "cell_type": "markdown",
   "metadata": {},
   "source": [
    "## Base Class Pointer Derived Class Object\n",
    "\n",
    "____\n",
    "\n",
    "Here we will use the Base "
   ]
  },
  {
   "cell_type": "code",
   "execution_count": null,
   "metadata": {},
   "outputs": [],
   "source": [
    "#include <iostream>\n",
    "#include <climits>\n",
    "#include <math.h>\n",
    "#define INSERTION_OPERATOR operator<<\n",
    "#define EXTRACTION_OPERATOR operator>>\n",
    "#define ADDITION_OPERATOR operator+\n",
    "#define SUBTRACT_OPERATOR operator-\n",
    "using namespace std;"
   ]
  },
  {
   "cell_type": "code",
   "execution_count": null,
   "metadata": {},
   "outputs": [],
   "source": [
    "class Parent{\n",
    "\n",
    "\n",
    "public:\n",
    "    \n",
    "    Parent(){\n",
    "       cout<<\"Non Param Parent\"<<endl;     \n",
    "    }\n",
    "    \n",
    "    void fun1(){cout<<\"fun1\"<<endl;}\n",
    "    void fun2(){cout<<\"fun2\"<<endl;}\n",
    "    void fun3(){cout<<\"fun3\"<<endl;}\n",
    "    \n",
    "   \n",
    "};\n",
    "\n",
    "class Child:public Parent{\n",
    "\n",
    "    \n",
    "public:\n",
    "    \n",
    "    Child(){\n",
    "       cout<<\"Non Param Child\"<<endl;     \n",
    "    }\n",
    "    \n",
    "    void fun4(){cout<<\"fun4\"<<endl;}\n",
    "    void fun5(){cout<<\"fun5\"<<endl;}\n",
    "       \n",
    "    \n",
    "};\n"
   ]
  },
  {
   "cell_type": "markdown",
   "metadata": {},
   "source": [
    "## Attempt 1\n",
    "\n",
    "___\n",
    "\n",
    "\n"
   ]
  },
  {
   "cell_type": "code",
   "execution_count": null,
   "metadata": {},
   "outputs": [],
   "source": [
    "Parent *p;\n",
    "p = new Child();\n",
    "\n",
    "p->fun1();\n",
    "p->fun2();\n",
    "p->fun3();\n",
    "\n",
    "\n"
   ]
  },
  {
   "cell_type": "code",
   "execution_count": null,
   "metadata": {},
   "outputs": [],
   "source": [
    "//No there\n",
    "//p->fun4();\n",
    "//p->fun5();\n"
   ]
  },
  {
   "cell_type": "markdown",
   "metadata": {},
   "source": [
    "## Attempt 2\n",
    "\n",
    "___\n"
   ]
  },
  {
   "cell_type": "code",
   "execution_count": null,
   "metadata": {},
   "outputs": [],
   "source": [
    "Child c;\n",
    "Parent *ptr = &c;\n",
    "\n",
    "ptr->fun1();\n",
    "ptr->fun2();\n",
    "ptr->fun3();\n"
   ]
  },
  {
   "cell_type": "code",
   "execution_count": null,
   "metadata": {},
   "outputs": [],
   "source": []
  }
 ],
 "metadata": {
  "kernelspec": {
   "display_name": "C++17",
   "language": "C++17",
   "name": "xcpp17"
  },
  "language_info": {
   "codemirror_mode": "text/x-c++src",
   "file_extension": ".cpp",
   "mimetype": "text/x-c++src",
   "name": "c++",
   "version": "17"
  }
 },
 "nbformat": 4,
 "nbformat_minor": 2
}
