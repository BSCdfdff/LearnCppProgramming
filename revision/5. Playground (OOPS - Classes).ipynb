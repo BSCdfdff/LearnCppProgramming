{
 "cells": [
  {
   "cell_type": "markdown",
   "metadata": {},
   "source": [
    "# Messing with\n",
    "\n",
    "+ Classes\n",
    "+ Constructors (Parameterised, Non Param, Copy Constructors) - Overload costructors. \n",
    "\n",
    "    Copy Constructors works the same as \"by Reference\", i.e. alias, but its must be an independent copy. So if the one copy is changed, the other copy should not change. \n",
    "\n",
    "    Not well explained in notes: Here is the jist of it: If you have a pointer in one, that pointer of say r1, should not point to the same address as your copy, say r2. That is if r1  values should change.\n",
    "\n",
    "    This only applies where you have defined a pointer in r1. Normal data types does not suffer this problem. \n",
    "\n",
    "+ Deep copy constructor solve the above problem.\n",
    "\n",
    "    By defining a pointer in HEAP solves the problem, when dealing with pointers.\n",
    "\n",
    "+ Type of Functions  (Constructors, Mutators, Accessors, Facilitators, Enquiry, Destructors)\n",
    "\n",
    "+ Scope Resolution Operator\n",
    "+ Difference Struct and Classes\n"
   ]
  },
  {
   "cell_type": "code",
   "execution_count": 1,
   "metadata": {},
   "outputs": [],
   "source": [
    "#include <iostream>\n",
    "#include <climits>\n",
    "#include <math.h>\n",
    "#define INSERTION_OPERATOR operator<<\n",
    "#define EXTRACTION_OPERATOR operator>>\n",
    "#define ADDITION_OPERATOR operator+\n",
    "using namespace std;"
   ]
  },
  {
   "cell_type": "markdown",
   "metadata": {},
   "source": [
    "## Definition of Class\n",
    "\n",
    "___"
   ]
  },
  {
   "cell_type": "code",
   "execution_count": 2,
   "metadata": {},
   "outputs": [],
   "source": [
    "class Rectangle{\n",
    "public:\n",
    "    int len;\n",
    "    int bth;\n",
    "    int *pp;\n",
    "public:    \n",
    "    Rectangle(){\n",
    "        len=100;\n",
    "        bth=100;\n",
    "    }\n",
    "    \n",
    "    Rectangle(int a, int b){\n",
    "        len=a;\n",
    "        bth=b;\n",
    "    }\n",
    "    \n",
    "    //Copy Constructor\n",
    "    Rectangle(Rectangle &r1){\n",
    "        len=r1.len;\n",
    "        bth=r1.bth;\n",
    "        pp=r1.pp;\n",
    "    }\n",
    "    \n",
    "    //Deep Copy Constructor\n",
    "    Rectangle(Rectangle &r1, int n){\n",
    "        len=r1.len;\n",
    "        bth=r1.bth;\n",
    "        pp=new int [n];\n",
    "    }\n",
    "    \n",
    "    int area(){\n",
    "        return len * bth;\n",
    "    }\n",
    "    int getLen(){\n",
    "        return len;\n",
    "    }\n",
    "    \n",
    "    int getBth(){\n",
    "        return bth;\n",
    "    }\n",
    "    \n",
    "    int GetPeri(){}\n",
    "    \n",
    "}"
   ]
  },
  {
   "cell_type": "code",
   "execution_count": null,
   "metadata": {},
   "outputs": [],
   "source": [
    "int Rectangle::GetPeri(){\n",
    "    return 2 *(len + bth);\n",
    "}"
   ]
  },
  {
   "cell_type": "code",
   "execution_count": 3,
   "metadata": {},
   "outputs": [
    {
     "name": "stdout",
     "output_type": "stream",
     "text": [
      "Length:100\n",
      "Breath:100\n",
      "Area:10000\n",
      "Area:200\n"
     ]
    }
   ],
   "source": [
    "Rectangle r1;\n",
    "\n",
    "\n",
    "//no assigning of values\n",
    "cout<<\"Length:\"<<r1.getLen()<<endl;\n",
    "cout<<\"Breath:\"<<r1.getBth()<<endl;\n",
    "cout<<\"Area:\"<<r1.area()<<endl;\n",
    "\n",
    "//assigning of values\n",
    "r1.len = 10;\n",
    "r1.bth = 20;\n",
    "\n",
    "cout<<\"Area:\"<<r1.area()<<endl;\n"
   ]
  },
  {
   "cell_type": "markdown",
   "metadata": {},
   "source": [
    "## Pointer to class (in Stack)\n",
    "___\n",
    "\n",
    "Using --> Dereference structure pointer arrow."
   ]
  },
  {
   "cell_type": "code",
   "execution_count": 4,
   "metadata": {},
   "outputs": [
    {
     "name": "stdout",
     "output_type": "stream",
     "text": [
      "Area:1200\n"
     ]
    }
   ],
   "source": [
    "Rectangle *p;\n",
    "\n",
    "p = &r1;\n",
    "\n",
    "p->len = 30;\n",
    "p->bth = 40;\n",
    "\n",
    "cout<<\"Area:\"<<p->area()<<endl;"
   ]
  },
  {
   "cell_type": "markdown",
   "metadata": {},
   "source": [
    "## Pointer to class (in Heap)\n",
    "___\n",
    "\n",
    "If you do DECLARATION and INITIALISATION at same time:\n",
    "\n",
    "```\n",
    "Rectangle *p_1=new Rectangle();\n",
    "\n",
    "```\n"
   ]
  },
  {
   "cell_type": "code",
   "execution_count": 5,
   "metadata": {},
   "outputs": [
    {
     "name": "stdout",
     "output_type": "stream",
     "text": [
      "Area:2000\n"
     ]
    }
   ],
   "source": [
    "Rectangle *p_1;\n",
    "\n",
    "p_1 = new Rectangle;\n",
    "\n",
    "p_1->len = 50;\n",
    "p_1->bth = 40;\n",
    "\n",
    "cout<<\"Area:\"<<p_1->area()<<endl;\n",
    "\n",
    "delete p_1;"
   ]
  },
  {
   "cell_type": "markdown",
   "metadata": {},
   "source": [
    "## Copy Constructor in Action\n",
    "___\n",
    "\n"
   ]
  },
  {
   "cell_type": "code",
   "execution_count": 6,
   "metadata": {},
   "outputs": [
    {
     "name": "stdout",
     "output_type": "stream",
     "text": [
      "Area:4200\n",
      "Area:4200\n"
     ]
    }
   ],
   "source": [
    "Rectangle r_1;\n",
    "\n",
    "int A[5] ={4,5};\n",
    "\n",
    "r_1.len = 70;\n",
    "r_1.bth = 60;\n",
    "r_1.pp = A;\n",
    "\n",
    "Rectangle r_2(r_1);\n",
    "\n",
    "cout<<\"Area:\"<<r_1.area()<<endl;\n",
    "cout<<\"Area:\"<<r_2.area()<<endl;"
   ]
  },
  {
   "cell_type": "markdown",
   "metadata": {},
   "source": [
    "#### Update r1 and r2. no problem so far with Copy Constructor"
   ]
  },
  {
   "cell_type": "code",
   "execution_count": 7,
   "metadata": {},
   "outputs": [
    {
     "name": "stdout",
     "output_type": "stream",
     "text": [
      "Area:4200\n",
      "Area:42\n"
     ]
    }
   ],
   "source": [
    "r_1.len = 70;\n",
    "r_1.bth = 60;\n",
    "\n",
    "r_2.len = 7;\n",
    "r_2.bth = 6;\n",
    "\n",
    "cout<<\"Area:\"<<r_1.area()<<endl;\n",
    "cout<<\"Area:\"<<r_2.area()<<endl;"
   ]
  },
  {
   "cell_type": "markdown",
   "metadata": {},
   "source": [
    "#### Shares different adddresses for pointer - not problem so far"
   ]
  },
  {
   "cell_type": "code",
   "execution_count": 8,
   "metadata": {},
   "outputs": [
    {
     "name": "stdout",
     "output_type": "stream",
     "text": [
      "Area:0x7f2a126c0070\n",
      "Area:0x7f2a126c0088\n"
     ]
    }
   ],
   "source": [
    "cout<<\"Area:\"<<&r_1.pp<<endl;\n",
    "cout<<\"Area:\"<<&r_2.pp<<endl;\n"
   ]
  },
  {
   "cell_type": "markdown",
   "metadata": {},
   "source": [
    "#### Now we get problems with pointers (defined in stack - normal pointers)\n",
    "#### That is changing r2, affects r1 - This is PROBLEM of Copy Constructor.\n",
    "#### Shares the same address space (for items)"
   ]
  },
  {
   "cell_type": "code",
   "execution_count": 9,
   "metadata": {},
   "outputs": [
    {
     "name": "stdout",
     "output_type": "stream",
     "text": [
      "Area:0x7f2a126c0050\n",
      "Area:0x7f2a126c0050\n",
      "Area:20\n",
      "Area:20\n"
     ]
    }
   ],
   "source": [
    "r_1.pp[0]=10;\n",
    "r_2.pp[0]=20;\n",
    "cout<<\"Area:\"<<&r_1.pp[0]<<endl;\n",
    "cout<<\"Area:\"<<&r_2.pp[0]<<endl;\n",
    "cout<<\"Area:\"<<r_1.pp[0]<<endl;\n",
    "cout<<\"Area:\"<<r_2.pp[0]<<endl;"
   ]
  },
  {
   "cell_type": "markdown",
   "metadata": {},
   "source": [
    "## Deep Copy Constructor in Action\n",
    "___\n"
   ]
  },
  {
   "cell_type": "code",
   "execution_count": 10,
   "metadata": {},
   "outputs": [
    {
     "name": "stdout",
     "output_type": "stream",
     "text": [
      "Area:4200\n",
      "Area:4200\n"
     ]
    }
   ],
   "source": [
    "Rectangle r_3;\n",
    "\n",
    "int A_1[5] ={4,5};\n",
    "\n",
    "r_3.len = 70;\n",
    "r_3.bth = 60;\n",
    "r_3.pp = A_1;\n",
    "\n",
    "Rectangle r_4(r_3,5);\n",
    "\n",
    "cout<<\"Area:\"<<r_3.area()<<endl;\n",
    "cout<<\"Area:\"<<r_4.area()<<endl;"
   ]
  },
  {
   "cell_type": "markdown",
   "metadata": {},
   "source": [
    "#### Update r1 and r2. no problem (as indicated above)"
   ]
  },
  {
   "cell_type": "code",
   "execution_count": 11,
   "metadata": {},
   "outputs": [
    {
     "name": "stdout",
     "output_type": "stream",
     "text": [
      "Area:4200\n",
      "Area:42\n"
     ]
    }
   ],
   "source": [
    "r_3.len = 70;\n",
    "r_3.bth = 60;\n",
    "\n",
    "r_4.len = 7;\n",
    "r_4.bth = 6;\n",
    "\n",
    "\n",
    "cout<<\"Area:\"<<r_3.area()<<endl;\n",
    "cout<<\"Area:\"<<r_4.area()<<endl;"
   ]
  },
  {
   "cell_type": "markdown",
   "metadata": {},
   "source": [
    "#### Check in class definition above, how we solved the issues\n",
    "#### NOW - Each one has its own address space"
   ]
  },
  {
   "cell_type": "code",
   "execution_count": 12,
   "metadata": {},
   "outputs": [
    {
     "name": "stdout",
     "output_type": "stream",
     "text": [
      "Area:0x7f2a126c00a0\n",
      "Area:0x55bd52464000\n",
      "Area:10\n",
      "Area:20\n"
     ]
    }
   ],
   "source": [
    "r_3.pp[0]=10;\n",
    "r_4.pp[0]=20;\n",
    "cout<<\"Area:\"<<&r_3.pp[0]<<endl;\n",
    "cout<<\"Area:\"<<&r_4.pp[0]<<endl;\n",
    "cout<<\"Area:\"<<r_3.pp[0]<<endl;\n",
    "cout<<\"Area:\"<<r_4.pp[0]<<endl;"
   ]
  },
  {
   "cell_type": "code",
   "execution_count": null,
   "metadata": {},
   "outputs": [],
   "source": []
  }
 ],
 "metadata": {
  "kernelspec": {
   "display_name": "C++17",
   "language": "C++17",
   "name": "xcpp17"
  },
  "language_info": {
   "codemirror_mode": "text/x-c++src",
   "file_extension": ".cpp",
   "mimetype": "text/x-c++src",
   "name": "c++",
   "version": "17"
  }
 },
 "nbformat": 4,
 "nbformat_minor": 2
}
