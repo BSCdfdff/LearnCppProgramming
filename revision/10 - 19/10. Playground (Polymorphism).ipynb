{
 "cells": [
  {
   "cell_type": "markdown",
   "metadata": {},
   "source": [
    "# Messing with\n",
    "\n",
    "+  Base Class Pointer Derivd Class\n",
    "Object, and then overriding the functions in Derived class.\n"
   ]
  },
  {
   "cell_type": "markdown",
   "metadata": {},
   "source": [
    "## Base Class Pointer Derivd Class Object\n",
    "\n",
    "____\n",
    "\n",
    "Here we will use the Base "
   ]
  },
  {
   "cell_type": "code",
   "execution_count": 1,
   "metadata": {},
   "outputs": [],
   "source": [
    "#include <iostream>\n",
    "#include <climits>\n",
    "#include <math.h>\n",
    "#define INSERTION_OPERATOR operator<<\n",
    "#define EXTRACTION_OPERATOR operator>>\n",
    "#define ADDITION_OPERATOR operator+\n",
    "#define SUBTRACT_OPERATOR operator-\n",
    "using namespace std;"
   ]
  },
  {
   "cell_type": "code",
   "execution_count": 2,
   "metadata": {},
   "outputs": [],
   "source": [
    "class Car{\n",
    "\n",
    "\n",
    "public:\n",
    "  \n",
    "    Car(){\n",
    "       cout<<\"Non Param Car\"<<endl;     \n",
    "    }\n",
    "    \n",
    "    void Start(){\n",
    "        cout<<\"Car is started\"<<endl;\n",
    "    }\n",
    "    \n",
    "    virtual void Stop()=0;\n",
    "\n",
    "    \n",
    "   \n",
    "};\n",
    "\n",
    "class Mercedes:public Car{\n",
    "\n",
    "    \n",
    "public:\n",
    "    \n",
    "    Mercedes(){\n",
    "       cout<<\"Non Param Mercedes\"<<endl;     \n",
    "    }\n",
    "    \n",
    "    void Start(){\n",
    "        cout<<\"Mercedes is started\"<<endl;\n",
    "    }\n",
    "    \n",
    "    void Stop(){     \n",
    "        cout<<\"Mercedes is stopped\"<<endl;\n",
    "    }\n",
    "       \n",
    "    \n",
    "};\n"
   ]
  },
  {
   "cell_type": "markdown",
   "metadata": {},
   "source": [
    "## Attempt 1\n",
    "\n",
    "___\n",
    "\n",
    "\n"
   ]
  },
  {
   "cell_type": "code",
   "execution_count": 3,
   "metadata": {},
   "outputs": [
    {
     "name": "stdout",
     "output_type": "stream",
     "text": [
      "Non Param Car\n",
      "Non Param Mercedes\n",
      "Car is started\n"
     ]
    }
   ],
   "source": [
    "Car *p;\n",
    "p = new Mercedes();\n",
    "\n",
    "p->Start();\n",
    "\n",
    "\n"
   ]
  },
  {
   "cell_type": "markdown",
   "metadata": {},
   "source": [
    "## Attempt 2\n",
    "\n",
    "___\n",
    "\n",
    "\n",
    "In order for the Mercedes member to be started\n",
    "\n",
    "1. Need to set member function in Base class to virtual\n",
    "2. And set = 0\n"
   ]
  },
  {
   "cell_type": "code",
   "execution_count": 4,
   "metadata": {},
   "outputs": [
    {
     "name": "stdout",
     "output_type": "stream",
     "text": [
      "Mercedes is stopped\n"
     ]
    }
   ],
   "source": [
    "p->Stop();"
   ]
  },
  {
   "cell_type": "code",
   "execution_count": null,
   "metadata": {},
   "outputs": [],
   "source": []
  }
 ],
 "metadata": {
  "kernelspec": {
   "display_name": "C++17",
   "language": "C++17",
   "name": "xcpp17"
  },
  "language_info": {
   "codemirror_mode": "text/x-c++src",
   "file_extension": ".cpp",
   "mimetype": "text/x-c++src",
   "name": "c++",
   "version": "17"
  }
 },
 "nbformat": 4,
 "nbformat_minor": 2
}
