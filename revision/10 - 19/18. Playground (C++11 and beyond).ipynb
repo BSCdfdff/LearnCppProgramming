{
 "cells": [
  {
   "cell_type": "markdown",
   "metadata": {},
   "source": [
    "# Messing with\n",
    "\n",
    "+ Auto,\n",
    "    The essence here is that we do know when declaring the variable, so the compiler will judge what datatype should be used, when iy does its calculation.\n",
    "\n",
    "+ decltype()\n",
    "    Main essence here, take the type of previously defined data type.\n",
    "\n",
    "+ final keyword\n",
    "    Two points here,\n",
    "    1) If placed with class, say parent class, then child class cannot inherit it\n",
    "    2) if placed with parent function, then child class cannot override it.\n",
    "    \n",
    "+ Lamda expressions,\n",
    "    In format\n",
    "    [capture_list](parameter_list)->return type {body}\n",
    "    Main Purpose of using this, is to define a function whout a name, Thats the gist.\n",
    "    More points here\n",
    "\n",
    "+ Smart pointers\n",
    "    Main point here, they are template (generic) pointers so they must be followed by type\n",
    "    Three types: unique_ptr,shared_ptr, weak_ptr\n",
    "    \n",
    "    1. unique_ptr: cannot reassign to another pointer, unless you move it\n",
    "    2. shared_ptr: Can reassign, without moving it, but maintains, ref counter which can lead to deadlocks\n",
    "    3. weak_ptr, same as no 2, but is much weaker implementation of no 2.\n",
    "\n",
    "+ Inclass initializer\n",
    "    Main point here, can initialize variables at class level\n",
    "\n",
    "+ Delegation of constructors\n",
    "    Main point here: Constructors that can call other constructors.\n",
    "    \n",
    "+ Ellipses:\n",
    "    Where number of parameters are not fixed \n",
    "    \n",
    "    \n"
   ]
  },
  {
   "cell_type": "code",
   "execution_count": 1,
   "metadata": {},
   "outputs": [],
   "source": [
    "#include <exception>\n",
    "#include <vector>\n",
    "#include <list>\n",
    "#include <map>\n",
    "#include <string>\n",
    "#include <iostream>\n",
    "#include <fstream>\n",
    "#include <climits>\n",
    "#include <math.h>\n",
    "#define INSERTION_OPERATOR operator<<\n",
    "#define EXTRACTION_OPERATOR operator>>\n",
    "#define ADDITION_OPERATOR operator+\n",
    "#define SUBTRACT_OPERATOR operator-\n",
    "#define y 10;\n",
    "using namespace std;"
   ]
  },
  {
   "cell_type": "markdown",
   "metadata": {},
   "source": [
    "## Auto keyword\n",
    "\n",
    "___\n"
   ]
  },
  {
   "cell_type": "code",
   "execution_count": 2,
   "metadata": {},
   "outputs": [
    {
     "name": "stdout",
     "output_type": "stream",
     "text": [
      "11.4\n"
     ]
    },
    {
     "data": {
      "text/plain": [
       "@0x7fe1e349ab60"
      ]
     },
     "execution_count": 2,
     "metadata": {},
     "output_type": "execute_result"
    }
   ],
   "source": [
    "auto x = 2 *5.7;\n",
    "\n",
    "cout<<x<<endl;\n",
    "    "
   ]
  },
  {
   "cell_type": "code",
   "execution_count": 3,
   "metadata": {},
   "outputs": [
    {
     "name": "stdout",
     "output_type": "stream",
     "text": [
      "x:108.4\n",
      "z:108.4\n"
     ]
    },
    {
     "data": {
      "text/plain": [
       "@0x7fe1e349ab60"
      ]
     },
     "execution_count": 3,
     "metadata": {},
     "output_type": "execute_result"
    }
   ],
   "source": [
    "//converts 'a' to ascii number\n",
    "//'a' scii = 97\n",
    "//11.4 + 97 = \n",
    "double z = 11.4 + 97;\n",
    "x= x + 'a';\n",
    "cout<<\"x:\"<<x<<endl;\n",
    "cout<<\"z:\"<<z<<endl;  //CHECK\n"
   ]
  },
  {
   "cell_type": "markdown",
   "metadata": {},
   "source": [
    "## decltype() keyword\n",
    "\n",
    "___\n"
   ]
  },
  {
   "cell_type": "code",
   "execution_count": 4,
   "metadata": {},
   "outputs": [
    {
     "name": "stdout",
     "output_type": "stream",
     "text": [
      "t:34.8\n"
     ]
    }
   ],
   "source": [
    "int u = 20;\n",
    "float r = 12.5f;\n",
    "\n",
    "decltype(r) t = 34.8;\n",
    "\n",
    "cout<<\"t:\"<<t<<endl;  \n"
   ]
  },
  {
   "cell_type": "markdown",
   "metadata": {},
   "source": [
    "## Lamda Expression\n",
    "\n",
    "____\n",
    "\n",
    "Format:\n",
    "[capture_list](parameter_list)->return type {body}"
   ]
  },
  {
   "cell_type": "code",
   "execution_count": 5,
   "metadata": {},
   "outputs": [
    {
     "name": "stdout",
     "output_type": "stream",
     "text": [
      "50\n"
     ]
    }
   ],
   "source": [
    "cout<<([](int x1, int y1){return x1+y1;}(48,2))<<endl;\n"
   ]
  },
  {
   "cell_type": "code",
   "execution_count": null,
   "metadata": {},
   "outputs": [],
   "source": []
  }
 ],
 "metadata": {
  "kernelspec": {
   "display_name": "C++17",
   "language": "C++17",
   "name": "xcpp17"
  },
  "language_info": {
   "codemirror_mode": "text/x-c++src",
   "file_extension": ".cpp",
   "mimetype": "text/x-c++src",
   "name": "c++",
   "version": "17"
  }
 },
 "nbformat": 4,
 "nbformat_minor": 2
}
