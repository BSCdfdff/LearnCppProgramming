{
 "cells": [
  {
   "cell_type": "markdown",
   "metadata": {},
   "source": [
    "# Messing with\n",
    "\n",
    "+  Base Class Pointer Derivd Class Object, \n",
    "Main Point here: Overriding the functions in Derived class.\n"
   ]
  },
  {
   "cell_type": "markdown",
   "metadata": {},
   "source": [
    "## Base Class Pointer Derivd Class Object\n",
    "\n",
    "____\n",
    "\n",
    "Here we will use the Base "
   ]
  },
  {
   "cell_type": "code",
   "execution_count": null,
   "metadata": {},
   "outputs": [],
   "source": [
    "#include <iostream>\n",
    "#include <climits>\n",
    "#include <math.h>\n",
    "#define INSERTION_OPERATOR operator<<\n",
    "#define EXTRACTION_OPERATOR operator>>\n",
    "#define ADDITION_OPERATOR operator+\n",
    "#define SUBTRACT_OPERATOR operator-\n",
    "using namespace std;"
   ]
  },
  {
   "cell_type": "code",
   "execution_count": null,
   "metadata": {},
   "outputs": [],
   "source": []
  },
  {
   "cell_type": "code",
   "execution_count": null,
   "metadata": {},
   "outputs": [],
   "source": [
    "class Car{\n",
    "\n",
    "\n",
    "public:\n",
    "  \n",
    "    Car(){\n",
    "       cout<<\"Non Param Car\"<<endl;     \n",
    "    }\n",
    "    \n",
    "    void Start(){\n",
    "        cout<<\"Car is started\"<<endl;\n",
    "    }\n",
    "    \n",
    "    virtual void Stop()=0;\n",
    "    \n",
    "//     void Stop(){     \n",
    "//         cout<<\"Car is stopped\"<<endl;\n",
    "//     }\n",
    "\n",
    "    \n",
    "   \n",
    "};\n",
    "\n",
    "class Mercedes:public Car{\n",
    "\n",
    "    \n",
    "public:\n",
    "    \n",
    "    Mercedes(){\n",
    "       cout<<\"Non Param Mercedes\"<<endl;     \n",
    "    }\n",
    "    \n",
    "    void Start(){\n",
    "        cout<<\"Mercedes is started\"<<endl;\n",
    "    }\n",
    "    \n",
    "    void Stop(){     \n",
    "        cout<<\"Mercedes is stopped\"<<endl;\n",
    "    }\n",
    "       \n",
    "    \n",
    "};\n"
   ]
  },
  {
   "cell_type": "markdown",
   "metadata": {},
   "source": [
    "## Attempt 1\n",
    "\n",
    "___\n",
    "\n",
    "\n"
   ]
  },
  {
   "cell_type": "code",
   "execution_count": 3,
   "metadata": {},
   "outputs": [
    {
     "name": "stdout",
     "output_type": "stream",
     "text": [
      "Non Param Car\n",
      "Non Param Mercedes\n",
      "Car is started\n"
     ]
    }
   ],
   "source": [
    "Car *p;\n",
    "p = new Mercedes();\n",
    "\n",
    "p->Start();\n",
    "\n",
    "\n"
   ]
  },
  {
   "cell_type": "markdown",
   "metadata": {},
   "source": [
    "## Attempt 2\n",
    "\n",
    "___\n",
    "\n",
    "\n",
    "In order for the Mercedes member to be started\n",
    "\n",
    "1. Need to set member function in Base class to virtual\n",
    "2. And set = 0\n"
   ]
  },
  {
   "cell_type": "code",
   "execution_count": 4,
   "metadata": {},
   "outputs": [
    {
     "name": "stdout",
     "output_type": "stream",
     "text": [
      "Mercedes is stopped\n"
     ]
    }
   ],
   "source": [
    "p->Stop();"
   ]
  },
  {
   "cell_type": "markdown",
   "metadata": {},
   "source": [
    "## Rumtime Polymorphism\n",
    "\n",
    "____\n"
   ]
  },
  {
   "cell_type": "code",
   "execution_count": 5,
   "metadata": {},
   "outputs": [],
   "source": [
    "int max(int x, int y){\n",
    "    return x>y?x:y;\n",
    "}"
   ]
  },
  {
   "cell_type": "code",
   "execution_count": 6,
   "metadata": {},
   "outputs": [],
   "source": [
    "int min(int x, int y){\n",
    "    return y>x?y:x;\n",
    "}"
   ]
  },
  {
   "cell_type": "code",
   "execution_count": 7,
   "metadata": {},
   "outputs": [],
   "source": [
    "int z;\n",
    "int (*q)(int, int);"
   ]
  },
  {
   "cell_type": "code",
   "execution_count": 8,
   "metadata": {},
   "outputs": [],
   "source": [
    "q=max;"
   ]
  },
  {
   "cell_type": "code",
   "execution_count": 9,
   "metadata": {},
   "outputs": [
    {
     "name": "stdout",
     "output_type": "stream",
     "text": [
      "10\n"
     ]
    }
   ],
   "source": [
    "z=(*q)(10,5);\n",
    "cout<<z<<endl;"
   ]
  },
  {
   "cell_type": "code",
   "execution_count": null,
   "metadata": {},
   "outputs": [],
   "source": []
  }
 ],
 "metadata": {
  "kernelspec": {
   "display_name": "C++17",
   "language": "C++17",
   "name": "xcpp17"
  },
  "language_info": {
   "codemirror_mode": "text/x-c++src",
   "file_extension": ".cpp",
   "mimetype": "text/x-c++src",
   "name": "c++",
   "version": "17"
  }
 },
 "nbformat": 4,
 "nbformat_minor": 2
}
