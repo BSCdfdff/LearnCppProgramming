{
 "cells": [
  {
   "attachments": {
    "Mindmapcpp-STL%2815%29.png": {
     "image/png": "[encoded data removed]"
    }
   },
   "cell_type": "markdown",
   "metadata": {},
   "source": [
    "# Messing with\n",
    "\n",
    "+ STL, Standard Template Library, \n",
    "    Main point here is it consist of generic classes for algorithms, data structures, iterators, that is available to programmer\n",
    "    And you use it by \"including\" it in header, and since its generic, also assigning the data type as well.\n",
    "    \n",
    "+ Looking at ```vector, linked list,  map``` and ```find```\n",
    "\n",
    "![Mindmapcpp-STL%2815%29.png](attachment:Mindmapcpp-STL%2815%29.png)\n"
   ]
  },
  {
   "cell_type": "code",
   "execution_count": 1,
   "metadata": {},
   "outputs": [],
   "source": [
    "#include <exception>\n",
    "#include <vector>\n",
    "#include <list>\n",
    "#include <map>\n",
    "#include <string>\n",
    "#include <iostream>\n",
    "#include <fstream>\n",
    "#include <climits>\n",
    "#include <math.h>\n",
    "#define INSERTION_OPERATOR operator<<\n",
    "#define EXTRACTION_OPERATOR operator>>\n",
    "#define ADDITION_OPERATOR operator+\n",
    "#define SUBTRACT_OPERATOR operator-\n",
    "#define y 10;\n",
    "using namespace std;"
   ]
  },
  {
   "cell_type": "markdown",
   "metadata": {},
   "source": [
    "##  Vector\n",
    "\n",
    "___\n",
    "\n",
    "Self adjusting gloried array"
   ]
  },
  {
   "cell_type": "code",
   "execution_count": 2,
   "metadata": {},
   "outputs": [],
   "source": [
    "vector<int> v={4,5,6,7};\n",
    "v.push_back(8);\n",
    "v.push_back(9);\n",
    "v.push_back(10);\n"
   ]
  },
  {
   "cell_type": "code",
   "execution_count": 3,
   "metadata": {},
   "outputs": [
    {
     "name": "stdout",
     "output_type": "stream",
     "text": [
      "4\n",
      "5\n",
      "6\n",
      "7\n",
      "8\n",
      "9\n",
      "10\n"
     ]
    }
   ],
   "source": [
    "for(int x:v){\n",
    "    cout<<x<<endl;\n",
    "}"
   ]
  },
  {
   "cell_type": "code",
   "execution_count": 4,
   "metadata": {},
   "outputs": [],
   "source": [
    "v.pop_back();"
   ]
  },
  {
   "cell_type": "code",
   "execution_count": 5,
   "metadata": {},
   "outputs": [
    {
     "name": "stdout",
     "output_type": "stream",
     "text": [
      "4\n",
      "5\n",
      "6\n",
      "7\n",
      "8\n",
      "9\n"
     ]
    }
   ],
   "source": [
    "for(int x:v){\n",
    "    cout<<x<<endl;\n",
    "}"
   ]
  },
  {
   "cell_type": "markdown",
   "metadata": {},
   "source": [
    "## Vector (interation classes)\n",
    "\n",
    "___\n",
    "\n",
    "Where itr is a pointer to elements inside vector."
   ]
  },
  {
   "cell_type": "code",
   "execution_count": 6,
   "metadata": {},
   "outputs": [],
   "source": [
    "vector<int>::iterator itr;"
   ]
  },
  {
   "cell_type": "code",
   "execution_count": 7,
   "metadata": {},
   "outputs": [
    {
     "name": "stdout",
     "output_type": "stream",
     "text": [
      "4\n",
      "5\n",
      "6\n",
      "7\n",
      "8\n",
      "9\n"
     ]
    }
   ],
   "source": [
    "for(itr=v.begin(); itr!=v.end(); itr++){\n",
    "    cout<<*itr<<endl;\n",
    "}"
   ]
  },
  {
   "cell_type": "markdown",
   "metadata": {},
   "source": [
    "##  (Linked)List\n",
    "\n",
    "___\n",
    "\n",
    "Conversion to List, is as simple as changing vector to list.\n"
   ]
  },
  {
   "cell_type": "code",
   "execution_count": 8,
   "metadata": {},
   "outputs": [
    {
     "name": "stdout",
     "output_type": "stream",
     "text": [
      "4\n",
      "5\n",
      "6\n",
      "7\n",
      "8\n",
      "9\n",
      "10\n"
     ]
    }
   ],
   "source": [
    "list<int> l={4,5,6,7};\n",
    "l.push_back(8);\n",
    "l.push_back(9);\n",
    "l.push_back(10);\n",
    "for(int x:l){\n",
    "    cout<<x<<endl;\n",
    "}"
   ]
  },
  {
   "cell_type": "code",
   "execution_count": 9,
   "metadata": {},
   "outputs": [
    {
     "name": "stdout",
     "output_type": "stream",
     "text": [
      "4\n",
      "5\n",
      "6\n",
      "7\n",
      "8\n",
      "9\n",
      "10\n"
     ]
    }
   ],
   "source": [
    "list<int>::iterator itr_1;\n",
    "for(itr_1=l.begin(); itr_1!=l.end(); itr_1++){\n",
    "    cout<<*itr_1<<endl;\n",
    "}"
   ]
  },
  {
   "cell_type": "markdown",
   "metadata": {},
   "source": [
    "## Map\n",
    "\n",
    "___\n",
    "\n",
    "Just a key/value pair\n",
    "Then searching a value in map, we use the key"
   ]
  },
  {
   "cell_type": "code",
   "execution_count": 10,
   "metadata": {},
   "outputs": [],
   "source": [
    "map<int, string> m;\n",
    "m.insert(pair<int,string>(1,\"Joe\"));\n",
    "m.insert(pair<int,string>(2,\"Blow\"));\n",
    "m.insert(pair<int,string>(3,\"Pump\"));\n"
   ]
  },
  {
   "cell_type": "code",
   "execution_count": 11,
   "metadata": {},
   "outputs": [
    {
     "name": "stdout",
     "output_type": "stream",
     "text": [
      "1 Joe\n",
      "2 Blow\n",
      "3 Pump\n"
     ]
    }
   ],
   "source": [
    "map<int, string>::iterator itr_m;\n",
    "for(itr_m=m.begin(); itr_m!=m.end(); itr_m++){\n",
    "    cout<<itr_m->first<<\" \"<<itr_m->second<<endl;\n",
    "}"
   ]
  },
  {
   "cell_type": "code",
   "execution_count": 12,
   "metadata": {},
   "outputs": [
    {
     "name": "stdout",
     "output_type": "stream",
     "text": [
      "3 Pump\n"
     ]
    }
   ],
   "source": [
    "itr_m = m.find(3);\n",
    "cout<<itr_m->first<<\" \"<<itr_m->second<<endl;"
   ]
  },
  {
   "cell_type": "code",
   "execution_count": null,
   "metadata": {},
   "outputs": [],
   "source": []
  }
 ],
 "metadata": {
  "kernelspec": {
   "display_name": "C++17",
   "language": "C++17",
   "name": "xcpp17"
  },
  "language_info": {
   "codemirror_mode": "text/x-c++src",
   "file_extension": ".cpp",
   "mimetype": "text/x-c++src",
   "name": "c++",
   "version": "17"
  }
 },
 "nbformat": 4,
 "nbformat_minor": 2
}
