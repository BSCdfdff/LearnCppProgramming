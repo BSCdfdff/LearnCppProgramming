{
 "cells": [
  {
   "cell_type": "markdown",
   "metadata": {},
   "source": [
    "# Messing with\n",
    "\n",
    "+ Error or Exception Handling\n",
    "    Main main here: Must check for, throw, and then respond to that thrown error. Responding means, giving proper error messages. This is run time errors. This is not logical or syntax errors.  \n",
    "    \n",
    "    Can also define your own exception class, see below.   \n",
    "    \n",
    "\n",
    "\n"
   ]
  },
  {
   "cell_type": "code",
   "execution_count": null,
   "metadata": {},
   "outputs": [],
   "source": [
    "#include <exception>\n",
    "#include <string>\n",
    "#include <iostream>\n",
    "#include <climits>\n",
    "#include <math.h>\n",
    "#define INSERTION_OPERATOR operator<<\n",
    "#define EXTRACTION_OPERATOR operator>>\n",
    "#define ADDITION_OPERATOR operator+\n",
    "#define SUBTRACT_OPERATOR operator-\n",
    "using namespace std;"
   ]
  },
  {
   "cell_type": "code",
   "execution_count": null,
   "metadata": {},
   "outputs": [],
   "source": [
    "class DivisionException: public exception{\n",
    "    \n",
    "string _msg;\n",
    "    \n",
    "public:\n",
    "    DivisionException(const string& msg) : _msg(msg){}\n",
    "\n",
    "    virtual const char* what() const noexcept override\n",
    "    {\n",
    "        return _msg.c_str();\n",
    "    }\n",
    "    \n",
    "};"
   ]
  },
  {
   "cell_type": "code",
   "execution_count": null,
   "metadata": {},
   "outputs": [],
   "source": [
    "void division (int x, int y){\n",
    "    int temp;\n",
    "    try{\n",
    "        if (y==0)\n",
    "            throw 1;\n",
    "        temp = x / y;\n",
    "        cout<<temp<<endl;\n",
    "    }\n",
    "    catch(int e){\n",
    "        cout<<\"Division by zero not allowed\"<<endl;\n",
    "    }\n",
    "    catch(...){\n",
    "        cout<<\"Something went wrong..\\n\";\n",
    "    }\n",
    "    \n",
    "    \n",
    "}"
   ]
  },
  {
   "cell_type": "code",
   "execution_count": null,
   "metadata": {},
   "outputs": [],
   "source": [
    "int x=10;\n",
    "int y = 5;\n",
    "int z;\n",
    "\n",
    "division(x, 0);\n",
    "\n",
    "division(10, 2020);\n",
    "\n"
   ]
  },
  {
   "cell_type": "markdown",
   "metadata": {},
   "source": [
    "## Can define and throw your own Exception Class\n",
    "\n",
    "____\n",
    "\n"
   ]
  },
  {
   "cell_type": "code",
   "execution_count": 5,
   "metadata": {},
   "outputs": [],
   "source": [
    "void division2(int x, int y) {\n",
    "    int temp;\n",
    "    try{\n",
    "        if (y==0)\n",
    "            throw  DivisionException(\"Division by zero not allowed...\\n\");\n",
    "        temp = x / y;\n",
    "        cout<<temp<<endl;\n",
    "    }\n",
    "    catch(DivisionException& e)\n",
    "    {\n",
    "        cout << e.what() << endl;\n",
    "    }\n",
    "    catch(...){\n",
    "        cout<<\"Some error occurred\"<<endl;\n",
    "    }\n",
    "}\n",
    "        "
   ]
  },
  {
   "cell_type": "code",
   "execution_count": 6,
   "metadata": {
    "scrolled": true
   },
   "outputs": [
    {
     "name": "stdout",
     "output_type": "stream",
     "text": [
      "Division by zero not allowed...\n",
      "\n"
     ]
    }
   ],
   "source": [
    "division2(10,0);"
   ]
  },
  {
   "cell_type": "code",
   "execution_count": null,
   "metadata": {},
   "outputs": [],
   "source": []
  }
 ],
 "metadata": {
  "kernelspec": {
   "display_name": "C++17",
   "language": "C++17",
   "name": "xcpp17"
  },
  "language_info": {
   "codemirror_mode": "text/x-c++src",
   "file_extension": ".cpp",
   "mimetype": "text/x-c++src",
   "name": "c++",
   "version": "17"
  }
 },
 "nbformat": 4,
 "nbformat_minor": 2
}
