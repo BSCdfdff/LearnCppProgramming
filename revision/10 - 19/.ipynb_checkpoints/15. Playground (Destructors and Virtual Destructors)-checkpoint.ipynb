{
 "cells": [
  {
   "cell_type": "markdown",
   "metadata": {},
   "source": [
    "# Messing with\n",
    "\n",
    "+ Const, Main point here. It comes in two variants. 1) Normal const, and other Preprocessor constant. 2nd one is done before compile time, and is global.\n",
    "\n",
    "+ Constant pointers. Main essence here: It comes in 3 flavours: 1, 2, 3, with last one a combination of first two.\n",
    "\n",
    "\n",
    "$$\n",
    "\\newcommand\\T{\\Rule{0pt}{1em}{.3em}}\n",
    "\\begin{array}{|r|r|r|r|r|r|r|r|r|r|}\n",
    "\\hline \n",
    "\\T&\\color{green}{Data\\;is\\;constant}\\T&\\color{green}{Pointer\\;is\\;constant} \\\\\\hline \n",
    "\\T&\\color{red}{Cannot\\; modify\\; *ptr(value)}\\T&\\color{red}{Cannot\\; reassign\\; pointer} \\\\\\hline \n",
    "\\text{int const *ptr = &x;}\\T&\\Large\\color{\\green}{\\unicode{10003}}\\T&\\Large\\color{\\red}{\\unicode{10008}} \\\\\\hline \n",
    "\\text{int *const ptr = &x;}\\T&\\Large\\color{\\red}{\\unicode{10008}}\\T&\\Large\\color{\\green}{\\unicode{10003}} \\\\\\hline \n",
    "\\text{const int *const ptr = &x;}\\T&\\Large\\color{\\green}{\\unicode{10003}}\\T&\\Large\\color{\\green}{\\unicode{10003}} \\\\\\hline \n",
    "\\end{array}\n",
    "$$\n",
    "\n",
    "+ Making Functions Constant\n",
    "    Main point here is that all variables in function cannot be changed\n",
    "+ Making Parameters of Function Constant\n",
    "    Main point here: especially with parameter pointer by reference, where pointer variable is an alias of pointer passed as parameter to function, you sometimes dont want to change ths value inside function. This is reason why you need ```int const &j ```\n",
    "    \n",
    "\n",
    "\n"
   ]
  },
  {
   "cell_type": "code",
   "execution_count": 1,
   "metadata": {},
   "outputs": [],
   "source": [
    "#include <exception>\n",
    "#include <string>\n",
    "#include <iostream>\n",
    "#include <climits>\n",
    "#include <math.h>\n",
    "#define INSERTION_OPERATOR operator<<\n",
    "#define EXTRACTION_OPERATOR operator>>\n",
    "#define ADDITION_OPERATOR operator+\n",
    "#define SUBTRACT_OPERATOR operator-\n",
    "#define y 10;\n",
    "using namespace std;"
   ]
  },
  {
   "cell_type": "markdown",
   "metadata": {},
   "source": [
    "## Normal Constant Variable\n",
    "____\n",
    "\n",
    "1. Cannot change the value.\n",
    "2. It is set till end of program\n",
    "3. Part of compile time\n",
    "4. Memory is assigned for it.\n"
   ]
  },
  {
   "cell_type": "code",
   "execution_count": 2,
   "metadata": {},
   "outputs": [],
   "source": [
    "const int x= 10;\n",
    "//x++';  NOT ALLOWED\n",
    "    \n",
    "    "
   ]
  },
  {
   "cell_type": "markdown",
   "metadata": {},
   "source": [
    "## Constant Preprocessor\n",
    "____\n",
    "\n",
    "1. Cannot change the value.\n",
    "2. Now it is global to the program"
   ]
  },
  {
   "cell_type": "code",
   "execution_count": 3,
   "metadata": {},
   "outputs": [],
   "source": [
    "//Defined above as\n",
    "//#define y 10;\n",
    "\n",
    "//y++; NOT ALLOWED"
   ]
  },
  {
   "cell_type": "markdown",
   "metadata": {},
   "source": [
    "## Pointer 1 - \n",
    "____\n",
    "\n",
    "1. Data is constant\n",
    "2. Can reassign pointer"
   ]
  },
  {
   "cell_type": "code",
   "execution_count": 4,
   "metadata": {},
   "outputs": [
    {
     "name": "stdout",
     "output_type": "stream",
     "text": [
      "20\n"
     ]
    }
   ],
   "source": [
    "int const *p=&x;\n",
    "\n",
    "//++*p; NOT ALLOWED - DATA IS CONSTANT \n",
    "\n",
    "int z = 20;\n",
    "p = &z;     //ALLOWED TO REASSIGN POINTER, BUT CANNOT UPDATE VALUE ONCE IS IT ASSIGNED\n",
    "\n",
    "cout<<*p<<endl;\n"
   ]
  },
  {
   "cell_type": "markdown",
   "metadata": {},
   "source": [
    "## ## Pointer 2 - \n",
    "____\n",
    "\n",
    "1. Can assign new data\n",
    "2. Pointer is constant"
   ]
  },
  {
   "cell_type": "code",
   "execution_count": 5,
   "metadata": {},
   "outputs": [
    {
     "name": "stdout",
     "output_type": "stream",
     "text": [
      "11\n"
     ]
    },
    {
     "data": {
      "text/plain": [
       "@0x7f232edb4b60"
      ]
     },
     "execution_count": 5,
     "metadata": {},
     "output_type": "execute_result"
    }
   ],
   "source": [
    "int x_1=10;\n",
    "int *const p_1=&x_1;\n",
    "\n",
    "++*p_1; //ALLOWED - DATA IS NOT CONSTANT \n",
    "\n",
    "cout<<*p_1<<endl;\n",
    "\n",
    "//p_1 = &z; //NOT ALLOWED - POINTER IS CONSTANT \n"
   ]
  },
  {
   "cell_type": "markdown",
   "metadata": {},
   "source": [
    "## Pointer 3 - \n",
    "____\n",
    "\n",
    "1. Data is constant\n",
    "2. Pointer is constant\n",
    "\n"
   ]
  },
  {
   "cell_type": "code",
   "execution_count": 6,
   "metadata": {},
   "outputs": [],
   "source": [
    "int x_2=30;\n",
    "const int *const p_2=&x_2;\n",
    "\n",
    "//++*p_2; NOT ALLOWED - DATA IS CONSTANT \n",
    "//p_1 = &x_2; NOT ALLOWED - POINTER IS CONSTANT "
   ]
  },
  {
   "cell_type": "markdown",
   "metadata": {},
   "source": [
    "## Making Functions Constant\n",
    "\n",
    "___"
   ]
  },
  {
   "cell_type": "code",
   "execution_count": 7,
   "metadata": {},
   "outputs": [
    {
     "name": "stdout",
     "output_type": "stream",
     "text": [
      "10\n"
     ]
    }
   ],
   "source": [
    "class Demo{\n",
    "public:\n",
    "    int x=10;\n",
    "    int f = 20;\n",
    "    \n",
    "    void Display() const{\n",
    "        //x++; //NOT ALLOWED - EVERYTHING INSIDE FUNCTION MUST NOT BE CHANGED\n",
    "        cout<<x<<endl;    \n",
    "    }\n",
    "    \n",
    "    //BELOW NOT ALLOWED\n",
    "//     void Swap(const int &a, const int &b){\n",
    "//         int temp;\n",
    "//         temp=a;\n",
    "//         a=b;\n",
    "//         b=temp;\n",
    "//     }\n",
    "    \n",
    "    //ALLOWED\n",
    "    void Swap(int &a, int &b){\n",
    "        int temp;\n",
    "        temp=a;\n",
    "        a=b;\n",
    "        b=temp;\n",
    "    }\n",
    "    \n",
    "};\n",
    "\n",
    "Demo d;\n",
    "d.Display();"
   ]
  },
  {
   "cell_type": "markdown",
   "metadata": {},
   "source": [
    "## Making Parameters of Function Constant\n",
    "\n",
    "____\n",
    "\n",
    "\n"
   ]
  },
  {
   "cell_type": "code",
   "execution_count": 8,
   "metadata": {},
   "outputs": [
    {
     "name": "stdout",
     "output_type": "stream",
     "text": [
      "g:30\n",
      "h:4\n",
      "g:4\n",
      "h:30\n"
     ]
    }
   ],
   "source": [
    "int g=30;\n",
    "int h=4;\n",
    "cout<<\"g:\"<<g<<endl;\n",
    "cout<<\"h:\"<<h<<endl;\n",
    "\n",
    "d.Swap(g,h);\n",
    "\n",
    "cout<<\"g:\"<<g<<endl;\n",
    "cout<<\"h:\"<<h<<endl;"
   ]
  },
  {
   "cell_type": "code",
   "execution_count": null,
   "metadata": {},
   "outputs": [],
   "source": []
  }
 ],
 "metadata": {
  "kernelspec": {
   "display_name": "C++17",
   "language": "C++17",
   "name": "xcpp17"
  },
  "language_info": {
   "codemirror_mode": "text/x-c++src",
   "file_extension": ".cpp",
   "mimetype": "text/x-c++src",
   "name": "c++",
   "version": "17"
  }
 },
 "nbformat": 4,
 "nbformat_minor": 2
}
