{
 "cells": [
  {
   "cell_type": "markdown",
   "metadata": {},
   "source": [
    "# Messing with\n",
    "\n",
    "+  Destructors\n",
    "    Main point here: It is the opposite of Constructor. This is last function that will run. Main purpose is to deallocate resources. We can demonstrate it, by having a pointer declared in heap, to a class, and then setting the pointer to null.\n",
    "    Essence here, when we call the destructor we NEED to provode code to e.g. delete pointers, that was used to create pointer in heap, e.g. for array. By callin the destructors, it wil not magically deallocate resources. We need to do it.\n",
    "    E.g. Here we have pointer to array in Heap, and call delete pointer to delete it from memory in destructor.\n",
    "\n",
    "+ How Destructor works in Parent/Child inheritance relationship.\n",
    "    Main point here is: When calling the Child class, not problems (both Parent and Child destructors fires). But when call the child class through the parent class, then only the parent destructor fires. To solve this we use \"virtual\" keyword in Parent class destructor\n",
    "    \n",
    "\n",
    "\n"
   ]
  },
  {
   "cell_type": "code",
   "execution_count": 1,
   "metadata": {},
   "outputs": [],
   "source": [
    "#include <exception>\n",
    "#include <string>\n",
    "#include <iostream>\n",
    "#include <climits>\n",
    "#include <math.h>\n",
    "#define INSERTION_OPERATOR operator<<\n",
    "#define EXTRACTION_OPERATOR operator>>\n",
    "#define ADDITION_OPERATOR operator+\n",
    "#define SUBTRACT_OPERATOR operator-\n",
    "#define y 10;\n",
    "using namespace std;"
   ]
  },
  {
   "cell_type": "code",
   "execution_count": 2,
   "metadata": {},
   "outputs": [],
   "source": [
    "class Parent{\n",
    "public:\n",
    "    int *q;\n",
    "    \n",
    "public:\n",
    "    \n",
    "    Parent(){\n",
    "        cout<<\"Parent Constructor\"<<endl;\n",
    "        q = new int [10];\n",
    "    }     \n",
    "    \n",
    "    virtual ~Parent(){\n",
    "        cout<<\"Parent Destructor\"<<endl;\n",
    "        delete q;\n",
    "        q=nullptr;   \n",
    "    }         \n",
    "};\n",
    "\n",
    "class Child: public Parent{\n",
    "public:\n",
    "    int *q_1;\n",
    "    \n",
    "public:\n",
    "    \n",
    "    Child(){\n",
    "        cout<<\"Child Constructor\"<<endl;\n",
    "        q_1 = new int [10];\n",
    "    }     \n",
    "    \n",
    "    ~Child(){\n",
    "        cout<<\"Child Destructor\"<<endl;\n",
    "        delete q_1;\n",
    "        q_1=nullptr;   \n",
    "    }         \n",
    "};\n",
    "\n"
   ]
  },
  {
   "cell_type": "code",
   "execution_count": 3,
   "metadata": {},
   "outputs": [
    {
     "name": "stdout",
     "output_type": "stream",
     "text": [
      "Parent Constructor\n"
     ]
    }
   ],
   "source": [
    "Parent *p = new Parent();\n"
   ]
  },
  {
   "cell_type": "code",
   "execution_count": 4,
   "metadata": {},
   "outputs": [
    {
     "name": "stdout",
     "output_type": "stream",
     "text": [
      "Parent Destructor\n"
     ]
    }
   ],
   "source": [
    "delete p;\n",
    "\n",
    "p=nullptr;"
   ]
  },
  {
   "cell_type": "markdown",
   "metadata": {},
   "source": [
    "## Parent / Child relationship - Calling Child First (No Problem)\n",
    "\n",
    "___\n",
    "\n",
    "On calling Destructor:\n",
    "\n",
    "1. Child Deallocates\n",
    "2. Parent Deallocates"
   ]
  },
  {
   "cell_type": "code",
   "execution_count": 5,
   "metadata": {},
   "outputs": [
    {
     "name": "stdout",
     "output_type": "stream",
     "text": [
      "Parent Constructor\n",
      "Child Constructor\n"
     ]
    }
   ],
   "source": [
    "Child *ch = new Child();"
   ]
  },
  {
   "cell_type": "code",
   "execution_count": 6,
   "metadata": {},
   "outputs": [
    {
     "name": "stdout",
     "output_type": "stream",
     "text": [
      "Child Destructor\n",
      "Parent Destructor\n"
     ]
    }
   ],
   "source": [
    "delete ch;\n",
    "\n",
    "ch=nullptr;"
   ]
  },
  {
   "cell_type": "markdown",
   "metadata": {},
   "source": [
    "## Parent / Child relationship - Calling Parent First (Problem)\n",
    "\n",
    "___\n",
    "\n",
    "On calling Destructor:\n",
    "\n",
    "1. ONLY Parent Deallocates\n",
    "\n",
    "To solve: Add ```virtual``` keyword in front \n",
    "\n",
    "(Completed answer below)\n"
   ]
  },
  {
   "cell_type": "code",
   "execution_count": 7,
   "metadata": {},
   "outputs": [
    {
     "name": "stdout",
     "output_type": "stream",
     "text": [
      "Parent Constructor\n",
      "Child Constructor\n"
     ]
    }
   ],
   "source": [
    "Parent *par;\n",
    "\n",
    "par =  new Child();"
   ]
  },
  {
   "cell_type": "code",
   "execution_count": 8,
   "metadata": {},
   "outputs": [
    {
     "name": "stdout",
     "output_type": "stream",
     "text": [
      "Child Destructor\n",
      "Parent Destructor\n"
     ]
    }
   ],
   "source": [
    "delete par;\n",
    "\n",
    "par=nullptr;"
   ]
  },
  {
   "cell_type": "code",
   "execution_count": null,
   "metadata": {},
   "outputs": [],
   "source": []
  }
 ],
 "metadata": {
  "kernelspec": {
   "display_name": "C++17",
   "language": "C++17",
   "name": "xcpp17"
  },
  "language_info": {
   "codemirror_mode": "text/x-c++src",
   "file_extension": ".cpp",
   "mimetype": "text/x-c++src",
   "name": "c++",
   "version": "17"
  }
 },
 "nbformat": 4,
 "nbformat_minor": 2
}
