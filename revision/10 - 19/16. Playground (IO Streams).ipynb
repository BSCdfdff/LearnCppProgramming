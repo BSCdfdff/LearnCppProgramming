{
 "cells": [
  {
   "cell_type": "markdown",
   "metadata": {},
   "source": [
    "# Messing with\n",
    "\n",
    "+ Input Stream (```istream```), from keyboard to program, ```cin``` , known as EXTRACTION\n",
    "+ Output stream(```ostream```). from program to monitor, ```cout```, known as INSERTION\n",
    "    Above is grouped together as ```iostream``` preprocessor\n",
    "+ Reading and writing data to file, using the ```fstream``` preprocessor.  And also divided in ```ifstream``` for reading file, and ```ofstream``` for wrting a file.\n",
    "    Main point here, wrting a file is same as where the program outputs to monitor, so we ouputting/wrting to file.\n",
    "    And reading a file, is same as keyboard inputing to program, so we inputing/reading (from file) to program\n",
    "+ Serialization\n",
    "    Main Point here is to 'write' store (serialize) information, then 'read' or unpack (deserialize) that information. So can file, buffer, class, socket...that will be the host or object that you will need to use.\n",
    "    In our examples we overload the INSERTION and EXTRACTION operator, to allow us in essence to do ```fout<<s1```, instead of writing/reading individual fields.\n",
    "\n",
    "+ Binary files\n",
    "    Main point here, is mode for reading and writng that we need to change. Nice discussion about why faster.\n",
    "\n",
    "+ Manipulators\n",
    "    Main point here what they are, e.g ```\\n```, same as ```endl```. We get others for deal with hex, oct Dec, fixed, scientific numbers etc.\n",
    "    \n",
    "\n"
   ]
  },
  {
   "cell_type": "code",
   "execution_count": 1,
   "metadata": {},
   "outputs": [],
   "source": [
    "#include <exception>\n",
    "#include <string>\n",
    "#include <iostream>\n",
    "#include <fstream>\n",
    "#include <climits>\n",
    "#include <math.h>\n",
    "#define INSERTION_OPERATOR operator<<\n",
    "#define EXTRACTION_OPERATOR operator>>\n",
    "#define ADDITION_OPERATOR operator+\n",
    "#define SUBTRACT_OPERATOR operator-\n",
    "#define y 10;\n",
    "using namespace std;"
   ]
  },
  {
   "cell_type": "markdown",
   "metadata": {},
   "source": [
    "## Writing a File\n",
    "\n",
    "___\n",
    "\n",
    "1. Overwrite if exists"
   ]
  },
  {
   "cell_type": "code",
   "execution_count": 2,
   "metadata": {},
   "outputs": [],
   "source": [
    "ofstream fout(\"myfile.txt\");\n",
    "fout<<\"Start\"<<endl;\n",
    "fout<<\"Hello\"<<endl;\n",
    "fout<<\"Chesney\"<<endl;\n",
    "fout<<\"John\"<<endl;\n",
    "fout<<\"Conrad\"<<endl;\n",
    "fout<<\"Phd\"<<endl;\n",
    "fout<<\"End\"<<endl;\n",
    "fout.close();"
   ]
  },
  {
   "cell_type": "markdown",
   "metadata": {},
   "source": [
    "## Reading a File\n",
    "\n",
    "___\n"
   ]
  },
  {
   "cell_type": "code",
   "execution_count": 3,
   "metadata": {},
   "outputs": [
    {
     "name": "stdout",
     "output_type": "stream",
     "text": [
      "Start\n",
      "Hello\n",
      "Chesney\n",
      "John\n",
      "Conrad\n",
      "Phd\n",
      "End\n"
     ]
    }
   ],
   "source": [
    "//must have the preprocessor for string on top\n",
    "string istr;\n",
    "ifstream fin(\"myfile.txt\");\n",
    "fin>>istr;\n",
    "cout<<istr<<endl; //This first line\n",
    "fin>>istr;\n",
    "cout<<istr<<endl; //This is next line\n",
    "fin>>istr;\n",
    "cout<<istr<<endl; //This is next line\n",
    "fin>>istr;\n",
    "cout<<istr<<endl; //This is next line\n",
    "fin>>istr;\n",
    "cout<<istr<<endl; //This is next line\n",
    "fin>>istr;\n",
    "cout<<istr<<endl; //This is next line\n",
    "fin>>istr;\n",
    "cout<<istr<<endl; //This is next line\n",
    "fin.close();"
   ]
  },
  {
   "cell_type": "markdown",
   "metadata": {},
   "source": [
    "## Serialize an Object (to a file) and then deserialization\n",
    "\n",
    "___\n",
    "\n"
   ]
  },
  {
   "cell_type": "code",
   "execution_count": 4,
   "metadata": {},
   "outputs": [],
   "source": [
    "class Student{\n",
    "public:\n",
    "    string name;\n",
    "    string role;\n",
    "    int age;\n",
    "    \n",
    "    friend ofstream&  INSERTION_OPERATOR(ofstream &fout, Student &s1);\n",
    "    friend ifstream&  EXTRACTION_OPERATOR(ifstream &fin, Student &s1);\n",
    "    friend ostream&  INSERTION_OPERATOR(ostream &cot, Student &s1);\n",
    "    \n",
    "}"
   ]
  },
  {
   "cell_type": "code",
   "execution_count": 5,
   "metadata": {},
   "outputs": [],
   "source": [
    "ostream& INSERTION_OPERATOR(ostream &cot, Student &s1){\n",
    "    cot<<s1.name<<endl;\n",
    "    cot<<s1.role<<endl;\n",
    "    cot<<s1.age<<endl;\n",
    "    return cot;\n",
    "}"
   ]
  },
  {
   "cell_type": "code",
   "execution_count": 6,
   "metadata": {},
   "outputs": [],
   "source": [
    "ofstream&  INSERTION_OPERATOR(ofstream &fout, Student &s1){\n",
    "   fout<<s1.name<<endl;\n",
    "   fout<<s1.role<<endl;\n",
    "   fout<<s1.age<<endl;\n",
    "   return fout;\n",
    "}"
   ]
  },
  {
   "cell_type": "code",
   "execution_count": 7,
   "metadata": {},
   "outputs": [],
   "source": [
    "ifstream&  EXTRACTION_OPERATOR(ifstream &fin, Student &s1){\n",
    "   fin>>s1.name;\n",
    "   fin>>s1.role;\n",
    "   fin>>s1.age; \n",
    "   return fin;\n",
    "}"
   ]
  },
  {
   "cell_type": "code",
   "execution_count": 8,
   "metadata": {},
   "outputs": [],
   "source": [
    "Student s;\n",
    "s.name =\"Chesnutz\";\n",
    "s.role =\"Solution Architect\";\n",
    "s.age =34;\n"
   ]
  },
  {
   "cell_type": "code",
   "execution_count": 9,
   "metadata": {},
   "outputs": [
    {
     "data": {
      "text/plain": [
       "@0x7f4ef06d2498"
      ]
     },
     "execution_count": 9,
     "metadata": {},
     "output_type": "execute_result"
    }
   ],
   "source": [
    "ofstream ffout (\"Student.txt\");\n",
    "ffout<<s // The overloading of EXTRACTION_OPERATOR allows us to do this."
   ]
  },
  {
   "cell_type": "markdown",
   "metadata": {},
   "source": [
    "## Deserialize\n",
    "\n",
    "___"
   ]
  },
  {
   "cell_type": "code",
   "execution_count": 10,
   "metadata": {},
   "outputs": [
    {
     "name": "stdout",
     "output_type": "stream",
     "text": [
      "Chesnutz\n",
      "Solution\n",
      "0\n",
      "\n"
     ]
    },
    {
     "data": {
      "text/plain": [
       "@0x7f4ef0855b60"
      ]
     },
     "execution_count": 10,
     "metadata": {},
     "output_type": "execute_result"
    }
   ],
   "source": [
    "Student s_1;\n",
    "ifstream ffin (\"Student.txt\");\n",
    "ffin>>s_1; // The overloading of INSERTION_OPERATOR allows us to do this.\n",
    "\n",
    "cout<<s_1<<endl; // The overloading of INSERTION_OPERATOR (cout) allows us to do this."
   ]
  },
  {
   "cell_type": "code",
   "execution_count": null,
   "metadata": {},
   "outputs": [],
   "source": []
  }
 ],
 "metadata": {
  "kernelspec": {
   "display_name": "C++17",
   "language": "C++17",
   "name": "xcpp17"
  },
  "language_info": {
   "codemirror_mode": "text/x-c++src",
   "file_extension": ".cpp",
   "mimetype": "text/x-c++src",
   "name": "c++",
   "version": "17"
  }
 },
 "nbformat": 4,
 "nbformat_minor": 2
}
