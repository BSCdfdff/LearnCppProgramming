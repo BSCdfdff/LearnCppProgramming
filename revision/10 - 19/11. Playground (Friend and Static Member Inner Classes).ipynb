{
 "cells": [
  {
   "cell_type": "markdown",
   "metadata": {},
   "source": [
    "# Messing with\n",
    "\n",
    "+ Friend Functions\n",
    "\n",
    "+ Static Variable \n",
    "    global variable, but global at CLASS level, c++17, using static keyword, and since it is at Class Level, we use the scope resolution(::). But we also need the \"inline\" keyword\n",
    "    So counter below, keeps its value, as we can see below. where we called Fun twice.\n",
    "\n",
    "+ Static Methods \n",
    "    Similar to static (class) variable above, but if it returns a value, it needs to have static variables\n",
    "    \n",
    "+ Nested or Inner Classes, works the same as instansiating a class, in say main, in our case, declaring innner class inside outer class, the inner class will have access to outer class member as per access specifiers of outerclass \n",
    "\n",
    "    When inner, uses outer members, the variable has to be static, so the inner can also update the value (function in Inner class can update \"count\", no issues)\n",
    "\n",
    "\n"
   ]
  },
  {
   "cell_type": "markdown",
   "metadata": {},
   "source": [
    "## Friend Functions\n",
    "\n",
    "____\n",
    "\n",
    "Allow you to define class function outside class, and having access to that classes data variables.\n",
    "\n",
    "The first time I came across the \"friend function\", was when I was dealing with operator overloading, where I could DECLARE function in class, but then not have to use the resolution operator(::). \n",
    "\n",
    "What is main point here, is that the Fun outside function, is if the function is inside the class, as we have now access to private and protected members. Note you just as a side effect, or klugh, just need to define an instance of the class first"
   ]
  },
  {
   "cell_type": "code",
   "execution_count": null,
   "metadata": {},
   "outputs": [],
   "source": [
    "#include <iostream>\n",
    "#include <climits>\n",
    "#include <math.h>\n",
    "#define INSERTION_OPERATOR operator<<\n",
    "#define EXTRACTION_OPERATOR operator>>\n",
    "#define ADDITION_OPERATOR operator+\n",
    "#define SUBTRACT_OPERATOR operator-\n",
    "using namespace std;"
   ]
  },
  {
   "cell_type": "code",
   "execution_count": null,
   "metadata": {},
   "outputs": [],
   "source": [
    "class Parent{\n",
    "private:\n",
    "     int a;\n",
    "     static inline int counter=0;\n",
    "protected:\n",
    "     int b;   \n",
    "    \n",
    "\n",
    "public:\n",
    "  \n",
    "    Parent(){\n",
    "       cout<<\"Non Param Parent\"<<endl; \n",
    "       counter++;\n",
    "    }\n",
    "    \n",
    "       \n",
    "    friend void Fun();\n",
    "    \n",
    "    static inline int getCounter(){\n",
    "        return counter;\n",
    "    }\n",
    "\n",
    "\n",
    "};\n",
    "\n",
    "\n",
    "\n"
   ]
  },
  {
   "cell_type": "code",
   "execution_count": null,
   "metadata": {},
   "outputs": [],
   "source": [
    "class Outer {\n",
    "private:\n",
    "    static inline int count=0;\n",
    "    int a;\n",
    "    \n",
    "public:\n",
    "    Outer(){\n",
    "       cout<<\"Non Param Outer\"<<endl; \n",
    "       count++;\n",
    "    }\n",
    "    \n",
    "    void Fun1(){\n",
    "        cout<<\"Outer Fun\"<<endl; \n",
    "        count++;\n",
    "    }\n",
    "    \n",
    "    class Inner{\n",
    "    public:\n",
    "     \n",
    "       Inner(){\n",
    "           cout<<\"Non Param Inner\"<<endl; \n",
    "       }\n",
    "        \n",
    "       void Fun2(){\n",
    "        cout<<\"Inner Fun\"<<endl; \n",
    "       }\n",
    "       \n",
    "       int getCount(){\n",
    "           return count; \n",
    "       } \n",
    "        \n",
    "    };\n",
    "    \n",
    "    Inner i;\n",
    "    \n",
    "    void runInner(){\n",
    "        count++;\n",
    "        cout<<\"Count Inner:\"<<i.getCount()<<endl; \n",
    "    }\n",
    "};"
   ]
  },
  {
   "cell_type": "code",
   "execution_count": null,
   "metadata": {},
   "outputs": [],
   "source": [
    "void Fun(){\n",
    "    Parent p;\n",
    "    p.a=10;\n",
    "    p.b=20;    \n",
    "    cout<<\"a:\"<<p.a<<\" \"<<\"b:\"<<p.b<<endl;\n",
    "    cout<<\"counter:\"<<Parent::counter<<endl;\n",
    " \n",
    "}"
   ]
  },
  {
   "cell_type": "code",
   "execution_count": null,
   "metadata": {},
   "outputs": [],
   "source": [
    "Fun();\n"
   ]
  },
  {
   "cell_type": "code",
   "execution_count": null,
   "metadata": {},
   "outputs": [
    {
     "name": "stdout",
     "output_type": "stream",
     "text": [
      "a:10 b:20\n",
      "counter:2\n"
     ]
    }
   ],
   "source": [
    "Fun();"
   ]
  },
  {
   "cell_type": "code",
   "execution_count": null,
   "metadata": {},
   "outputs": [
    {
     "name": "stdout",
     "output_type": "stream",
     "text": [
      "counter:2\n"
     ]
    }
   ],
   "source": [
    "cout<<\"counter:\"<<Parent::getCounter()<<endl;"
   ]
  },
  {
   "cell_type": "markdown",
   "metadata": {},
   "source": [
    "## Inner / Nested\n",
    "\n",
    "____\n"
   ]
  },
  {
   "cell_type": "code",
   "execution_count": null,
   "metadata": {},
   "outputs": [
    {
     "name": "stdout",
     "output_type": "stream",
     "text": [
      "Non Param Inner\n",
      "Non Param Outer\n",
      "Outer Fun\n",
      "Count Inner:3\n"
     ]
    }
   ],
   "source": [
    "Outer o;\n",
    "\n",
    "o.Fun1();\n",
    "o.runInner();"
   ]
  },
  {
   "cell_type": "code",
   "execution_count": null,
   "metadata": {},
   "outputs": [],
   "source": []
  },
  {
   "cell_type": "code",
   "execution_count": null,
   "metadata": {},
   "outputs": [],
   "source": []
  },
  {
   "cell_type": "code",
   "execution_count": null,
   "metadata": {},
   "outputs": [],
   "source": []
  }
 ],
 "metadata": {
  "kernelspec": {
   "display_name": "C++17",
   "language": "C++17",
   "name": "xcpp17"
  },
  "language_info": {
   "codemirror_mode": "text/x-c++src",
   "file_extension": ".cpp",
   "mimetype": "text/x-c++src",
   "name": "c++",
   "version": "17"
  }
 },
 "nbformat": 4,
 "nbformat_minor": 2
}
