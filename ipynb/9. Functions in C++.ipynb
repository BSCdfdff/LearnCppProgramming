{
 "cells": [
  {
   "cell_type": "markdown",
   "metadata": {},
   "source": [
    "# Function Parameter passing methods (*2)\n",
    "___\n",
    "\n",
    "## Pass by Address"
   ]
  },
  {
   "cell_type": "code",
   "execution_count": 1,
   "metadata": {},
   "outputs": [],
   "source": [
    "#include <iostream>\n",
    "#include <climits>\n",
    "#include <math.h>\n",
    "using namespace std;"
   ]
  },
  {
   "cell_type": "markdown",
   "metadata": {},
   "source": [
    "## <center>Pass by Address</center>\n",
    "___\n",
    "![](images/PassByAddress.png)"
   ]
  },
  {
   "cell_type": "markdown",
   "metadata": {},
   "source": [
    "## How does it work?\n",
    "\n",
    "_Goal: Swap values x and y_\n",
    "\n",
    "Changes to original (pass by value):\n",
    "\n",
    "Start of by creating (still) x and y memory space in the stack. And set the values: x = 10, y=20\n",
    "\n",
    "```\n",
    "int x = 10, \n",
    "y = 20;\n",
    "```    \n",
    "\n",
    "\n",
    "(Activation record for **main** is created, with x, y memory space is allocated. ==> Al created in STACK)\n",
    "\n",
    "When we call **swap** now, we do not pass the value, but pass the addresses (i.e as in the stack, of x,y) as arguments:\n",
    "\n",
    "(Activation record for **swap** is created (in STACK), but a,b now stores the addresses of x,y)\n",
    "\n",
    "```\n",
    "swap(&x, &y);\n",
    "\n",
    "```\n",
    "\n",
    "Will this change the signature of **swap function**? Yes\n",
    "\n",
    "Remember only pointers can store addresses (not (normal) data variables). So we update the signature of **swap function**:\n",
    "\n",
    "```\n",
    "void swap (int *a, int *b)\n",
    "\n",
    "```\n",
    "\n",
    "But inside **swap** we need to do the actual work, and we need to work with values. How do we get bacl the values from the passed addresses? We need to de-reference a,b, by adding * (in front)\n",
    "\n",
    "```\n",
    "temp=*a;\n",
    "a* = *b;\n",
    "*b = temp;\n",
    "```\n",
    "\n",
    "Now the formal parameters CAN modify the actual parameters.\n",
    "\n",
    "Further more...\n",
    "\n",
    "a => address of x (e.g. 200)\n",
    "b => address of y (e.g. 210)\n",
    "\n",
    "But,\n",
    "200 points to 10\n",
    "210 points to 20\n",
    "\n",
    "So,\n",
    "temp = *a   firstly a = 200, 200 = 10, i.e. a* (to get value) = 10\n",
    "*a = * b      firstly b = 210,  210 = 20, i.e. b* (to get value) = 20\n",
    "b* = temp \n",
    "\n",
    "RULE: One function (**swap**), is NOT ALLOWED to access another functions (**main**) variables\n",
    "\n",
    "ONLY Pointers CAN DO SO :-)\n",
    "\n",
    "So when swap changes the values of a,b, it changes the values of x, y, since the a,b **points** to x, y.. i.e. as if we working with x,y values.\n",
    "\n",
    "This is the power of pointers: Allowing CALLED (**swap**) to change the variables of a CALLING (**main**) function\n",
    "\n",
    "Note: Can be a mixture of addresses or normal data variables that can be passed along. e.g.:\n",
    "\n",
    "```\n",
    "swap(&x, y)\n",
    "\n",
    "```\n",
    "\n",
    "Also note, memory still gets created for **swap** and **main** . Although swap still needs to have memory allocation for a and b.\n",
    "\n"
   ]
  },
  {
   "cell_type": "markdown",
   "metadata": {},
   "source": [
    "## Pass by Address"
   ]
  },
  {
   "cell_type": "code",
   "execution_count": 2,
   "metadata": {},
   "outputs": [],
   "source": [
    "void swap(int *a, int *b){\n",
    "    int temp;\n",
    "    temp=*a;\n",
    "    *a=*b;\n",
    "    *b=temp;\n",
    "}"
   ]
  },
  {
   "cell_type": "code",
   "execution_count": 3,
   "metadata": {},
   "outputs": [
    {
     "name": "stdout",
     "output_type": "stream",
     "text": [
      "10 20\n",
      "20 10\n"
     ]
    }
   ],
   "source": [
    "int x = 10, y = 20;\n",
    "cout<<x<< \" \" <<y<<endl;\n",
    "swap(&x,&y);\n",
    "cout<<x<< \" \" <<y<<endl;"
   ]
  },
  {
   "cell_type": "code",
   "execution_count": null,
   "metadata": {},
   "outputs": [],
   "source": []
  }
 ],
 "metadata": {
  "kernelspec": {
   "display_name": "C++17",
   "language": "C++17",
   "name": "xcpp17"
  },
  "language_info": {
   "codemirror_mode": "text/x-c++src",
   "file_extension": ".cpp",
   "mimetype": "text/x-c++src",
   "name": "c++",
   "version": "-std=c++17"
  }
 },
 "nbformat": 4,
 "nbformat_minor": 2
}
