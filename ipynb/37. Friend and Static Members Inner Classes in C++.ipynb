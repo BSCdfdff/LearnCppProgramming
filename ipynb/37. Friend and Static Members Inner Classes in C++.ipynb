{
 "cells": [
  {
   "cell_type": "markdown",
   "metadata": {},
   "source": [
    "# Static Members - Member Functions\n",
    "___\n",
    "\n",
    "+ In short, global variables (counters), but limited to class scope\n",
    "+ See C++17 update\n"
   ]
  },
  {
   "cell_type": "markdown",
   "metadata": {},
   "source": [
    "## Static Members\n",
    "\n",
    "When talking about static members, we will be convering:\n",
    "+ Static Member (Data) Variables\n",
    "+ Static Member Functions\n",
    "\n",
    "We know from before when defining a static data varianble inside a function, is like declaring a global variable (i.e. one that maintains its state), but local to that functon.\n",
    "\n",
    "### Static Member Functions \n",
    "\n",
    "\n",
    "Here we have a static member function inside the class. The static class member function, only works with static data member variable. e.g.\n",
    "\n",
    "```\n",
    "static int getCount(){\n",
    "        return count;\n",
    "    }\n",
    "```\n",
    "\n",
    "We dont even need to create an object, we can simply say:\n",
    "\n",
    "```\n",
    "cout<Test::getCount<<endl;\n",
    "\n",
    "```\n",
    "\n",
    "But is is also callable on an object\n",
    "\n",
    "## Using C++17\n",
    "\n",
    "Note Using C++17 you can inline the static variable which removes the need to define it outside the class.\n",
    "\n",
    "So the only way to access it is through object, No longer from class level.\n",
    "\n",
    "That is:\n",
    "\n",
    "```\n",
    "Test t1;\n",
    "cout<<t1.getCount()<<endl;\n",
    "```\n"
   ]
  },
  {
   "cell_type": "code",
   "execution_count": 1,
   "metadata": {},
   "outputs": [],
   "source": [
    "#include <iostream>\n",
    "#include <climits>\n",
    "#include <math.h>\n",
    "using namespace std;"
   ]
  },
  {
   "cell_type": "code",
   "execution_count": 2,
   "metadata": {},
   "outputs": [],
   "source": [
    "class Test{\n",
    "public: \n",
    "    int a;\n",
    "    int b;\n",
    "    static inline int count=0;\n",
    "    static inline int getCount(){\n",
    "        return count;\n",
    "    }\n",
    "    Test(){\n",
    "        a=10;\n",
    "        b=20;\n",
    "        count++;\n",
    "    }\n",
    "    \n",
    "    \n",
    "}\n"
   ]
  },
  {
   "cell_type": "code",
   "execution_count": 3,
   "metadata": {},
   "outputs": [],
   "source": [
    "Test t1;"
   ]
  },
  {
   "cell_type": "code",
   "execution_count": 4,
   "metadata": {},
   "outputs": [
    {
     "name": "stdout",
     "output_type": "stream",
     "text": [
      "1\n"
     ]
    }
   ],
   "source": [
    "cout<<t1.getCount()<<endl;"
   ]
  },
  {
   "cell_type": "code",
   "execution_count": null,
   "metadata": {},
   "outputs": [],
   "source": []
  }
 ],
 "metadata": {
  "kernelspec": {
   "display_name": "C++17",
   "language": "C++17",
   "name": "xcpp17"
  },
  "language_info": {
   "codemirror_mode": "text/x-c++src",
   "file_extension": ".cpp",
   "mimetype": "text/x-c++src",
   "name": "c++",
   "version": "-std=c++17"
  }
 },
 "nbformat": 4,
 "nbformat_minor": 2
}
