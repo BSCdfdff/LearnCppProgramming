{
 "cells": [
  {
   "cell_type": "markdown",
   "metadata": {},
   "source": [
    "# Polymorphism\n",
    "___\n",
    "\n",
    "+ Base Class pointer\n",
    "+ Address of Derived Class (object)\n",
    "\n"
   ]
  },
  {
   "cell_type": "markdown",
   "metadata": {},
   "source": [
    "## Polymorphism\n",
    "\n",
    "In c++ polymorphism is achieved through:\n",
    "+ Overriding a Base class function in the Derived class\n",
    "+ Having a Base class pointer to a Derived Class Object\n",
    "+ And this is done through the **virtual** keyword in Base class function\n",
    "+ To make the virtual class **abstract**, i.e. its simpy an interface and does not havea body, we set the virtual class = 0\n",
    "+ In the above case, its **mandatory** for the Derived Class to override the Base Class function\n",
    "\n",
    "We know thes sequence of steps when we have a Base class pointer on the derived class object.\n",
    "\n",
    "```\n",
    "class Car{\n",
    "\n",
    "public:\n",
    "\n",
    "    void start(){\n",
    "\n",
    "        cout<<\"Base (Car) started\"<<endl;\n",
    "\n",
    "    }\n",
    "\n",
    "}\n",
    "\n",
    "class Toyota:public Car{\n",
    "\n",
    "public:\n",
    "\n",
    "    void start(){\n",
    "\n",
    "        cout<<\"Derived (Toyota) started\"<<endl;\n",
    "\n",
    "    }\n",
    "\n",
    "}\n",
    "\n",
    "Car *p = new Toyota();\n",
    "\n",
    "p->start();\n",
    "\n",
    "Base (Car) started\n",
    "\n",
    "```\n",
    "\n",
    "That is, the base class function will be called and executed.\n",
    "\n",
    "To have the Derived class function to be called and executed, we implement the virtual keyword\n",
    "\n",
    "To make the overidding (in the derived class) function mandatory, we need to remove the body in base class, and set it equal = 0\n",
    "\n",
    "\n"
   ]
  },
  {
   "cell_type": "code",
   "execution_count": null,
   "metadata": {},
   "outputs": [],
   "source": [
    "#include <iostream>\n",
    "#include <climits>\n",
    "#include <math.h>\n",
    "using namespace std;"
   ]
  },
  {
   "cell_type": "code",
   "execution_count": null,
   "metadata": {},
   "outputs": [],
   "source": [
    "class Car{\n",
    "public:\n",
    "    virtual void start()=0;\n",
    "}"
   ]
  },
  {
   "cell_type": "code",
   "execution_count": null,
   "metadata": {},
   "outputs": [],
   "source": [
    "class Toyota:public Car{\n",
    "public:\n",
    "    void start(){\n",
    "        cout<<\"Derived (Toyota) started\"<<endl;\n",
    "    }\n",
    "}"
   ]
  },
  {
   "cell_type": "code",
   "execution_count": 4,
   "metadata": {},
   "outputs": [],
   "source": [
    "class Mercedes:public Car{\n",
    "public:\n",
    "    void start(){\n",
    "        cout<<\"Derived (Mercedes) started\"<<endl;\n",
    "    }\n",
    "}"
   ]
  },
  {
   "cell_type": "code",
   "execution_count": 5,
   "metadata": {},
   "outputs": [],
   "source": [
    "Car *p = new Toyota();"
   ]
  },
  {
   "cell_type": "code",
   "execution_count": 6,
   "metadata": {},
   "outputs": [
    {
     "name": "stdout",
     "output_type": "stream",
     "text": [
      "Derived (Toyota) started\n"
     ]
    }
   ],
   "source": [
    "p->start();"
   ]
  },
  {
   "cell_type": "code",
   "execution_count": 7,
   "metadata": {},
   "outputs": [],
   "source": [
    "p = new Mercedes();"
   ]
  },
  {
   "cell_type": "code",
   "execution_count": 8,
   "metadata": {},
   "outputs": [
    {
     "name": "stdout",
     "output_type": "stream",
     "text": [
      "Derived (Mercedes) started\n"
     ]
    }
   ],
   "source": [
    "p->start();"
   ]
  },
  {
   "cell_type": "code",
   "execution_count": null,
   "metadata": {},
   "outputs": [],
   "source": []
  }
 ],
 "metadata": {
  "kernelspec": {
   "display_name": "C++17",
   "language": "C++17",
   "name": "xcpp17"
  },
  "language_info": {
   "codemirror_mode": "text/x-c++src",
   "file_extension": ".cpp",
   "mimetype": "text/x-c++src",
   "name": "c++",
   "version": "-std=c++17"
  }
 },
 "nbformat": 4,
 "nbformat_minor": 2
}
