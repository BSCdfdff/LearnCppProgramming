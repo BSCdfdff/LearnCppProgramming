{
 "cells": [
  {
   "cell_type": "markdown",
   "metadata": {},
   "source": [
    "# Operator Overloading\n",
    "___\n",
    "\n",
    "+ "
   ]
  },
  {
   "cell_type": "markdown",
   "metadata": {},
   "source": [
    "## Operator Overloading\n",
    "\n",
    "For defining our own data type, by overloading primitive (+, -, *, (), new, delete. etc)\n",
    "\n",
    "So **+** can be performed on **int**, **float** data types\n",
    "\n",
    "**Complex numbers** in mathematics are written in form of : \n",
    "\n",
    "```\n",
    "a + ib\n",
    "\n",
    "```\n",
    "\n",
    "where:\n",
    "\n",
    "```\n",
    "a is the real part\n",
    "ib is the imaginery part\n",
    "\n",
    "```\n",
    "\n",
    "\n",
    "So if I define my own data type, for adding these **Complex Numbers**:\n",
    "\n",
    "```\n",
    "3 +  7i => c1\n",
    "5 +  4i => c2\n",
    "______\n",
    "8 + 11i => c3 \n",
    "______\n",
    "\n",
    "```\n",
    "\n",
    "So for our own data type (adding Complex Numbers), we are overloading the + operator \n",
    "\n",
    "\n",
    "Where do we start with Operator Overloading...\n",
    "\n",
    "\n",
    "After defining c1 and c2, we want to do the following:\n",
    "\n",
    "```\n",
    "c3 = c1 + c2;\n",
    "\n",
    "```\n",
    "\n",
    "But how can this be done in code?  We can provide and **add** function, and pass c2 as parameter:\n",
    "\n",
    "```\n",
    "c3 = c1.add(c2);\n",
    "```\n",
    "\n",
    "So what will be the signature of the **add** function:\n",
    "\n",
    "\n",
    "```\n",
    "Complex add(Complex x){\n",
    "    Complex temp;\n",
    "    temp.real = real + x.real;\n",
    "    temp.img = img + x.img; \n",
    "    return temp\n",
    "            \n",
    "}\n",
    "    \n",
    "```\n",
    "\n",
    "But so far its working well, but how do we convert: c1.add(c2) to operator overloading?\n",
    "\n",
    "```\n",
    "c3 = c1.operator+(c2);\n",
    "\n",
    "```\n",
    "\n",
    "But now that we have this **operator+** function, we can go further and just use **+** sign, and write it as:\n",
    "\n",
    "\n",
    "```\n",
    "c3 = c1 + c2;\n",
    "\n",
    "```\n",
    "\n",
    "So when **+** is used, the ```operator+``` function will be called to add (+, i.e. overloading addition) complex numbers\n",
    "\n",
    "We also have ```operator-``` ."
   ]
  },
  {
   "cell_type": "code",
   "execution_count": 1,
   "metadata": {},
   "outputs": [],
   "source": [
    "#include <iostream>\n",
    "#include <climits>\n",
    "#include <math.h>\n",
    "using namespace std;"
   ]
  },
  {
   "cell_type": "code",
   "execution_count": 2,
   "metadata": {},
   "outputs": [],
   "source": [
    "class Complex{\n",
    "public:\n",
    "    int real;\n",
    "    int img;\n",
    "public:\n",
    "    Complex(int r=0, int i=0){\n",
    "        real = r;\n",
    "        img = i;\n",
    "        \n",
    "    }\n",
    "    \n",
    "    Complex add(Complex x){\n",
    "        Complex temp;\n",
    "        temp.real = real + x.real;\n",
    "        temp.img = img + x.img;\n",
    "        return temp;    \n",
    "    }\n",
    "    \n",
    "    Complex operator+(Complex x){\n",
    "        Complex temp;\n",
    "        temp.real = real + x.real;\n",
    "        temp.img = img + x.img;\n",
    "        return temp;    \n",
    "    }\n",
    "}"
   ]
  },
  {
   "cell_type": "code",
   "execution_count": 3,
   "metadata": {},
   "outputs": [],
   "source": [
    "Complex c1(3,7);\n",
    "Complex c2(5,4);\n",
    "Complex c3;\n"
   ]
  },
  {
   "cell_type": "markdown",
   "metadata": {},
   "source": [
    "### 1st attempt"
   ]
  },
  {
   "cell_type": "code",
   "execution_count": 4,
   "metadata": {},
   "outputs": [],
   "source": [
    "c3 = c1.add(c2);"
   ]
  },
  {
   "cell_type": "code",
   "execution_count": 5,
   "metadata": {},
   "outputs": [
    {
     "name": "stdout",
     "output_type": "stream",
     "text": [
      "8 + 11i\n"
     ]
    }
   ],
   "source": [
    "cout<<c3.real<<\" + \"<<c3.img<<\"i\"<<endl;"
   ]
  },
  {
   "cell_type": "markdown",
   "metadata": {},
   "source": [
    "### 2nd attempt"
   ]
  },
  {
   "cell_type": "code",
   "execution_count": 6,
   "metadata": {},
   "outputs": [],
   "source": [
    "c3 = c1.operator+(c2);"
   ]
  },
  {
   "cell_type": "code",
   "execution_count": 7,
   "metadata": {},
   "outputs": [
    {
     "name": "stdout",
     "output_type": "stream",
     "text": [
      "8 + 11i\n"
     ]
    }
   ],
   "source": [
    "cout<<c3.real<<\" + \"<<c3.img<<\"i\"<<endl;"
   ]
  },
  {
   "cell_type": "markdown",
   "metadata": {},
   "source": [
    "### final cut for operator overloading :-)"
   ]
  },
  {
   "cell_type": "code",
   "execution_count": 8,
   "metadata": {},
   "outputs": [],
   "source": [
    "c3 = c1 + c2;"
   ]
  },
  {
   "cell_type": "code",
   "execution_count": 9,
   "metadata": {},
   "outputs": [
    {
     "name": "stdout",
     "output_type": "stream",
     "text": [
      "8 + 11i\n"
     ]
    }
   ],
   "source": [
    "cout<<c3.real<<\" + \"<<c3.img<<\"i\"<<endl;"
   ]
  },
  {
   "cell_type": "code",
   "execution_count": null,
   "metadata": {},
   "outputs": [],
   "source": []
  }
 ],
 "metadata": {
  "kernelspec": {
   "display_name": "C++17",
   "language": "C++17",
   "name": "xcpp17"
  },
  "language_info": {
   "codemirror_mode": "text/x-c++src",
   "file_extension": ".cpp",
   "mimetype": "text/x-c++src",
   "name": "c++",
   "version": "-std=c++17"
  }
 },
 "nbformat": 4,
 "nbformat_minor": 2
}
