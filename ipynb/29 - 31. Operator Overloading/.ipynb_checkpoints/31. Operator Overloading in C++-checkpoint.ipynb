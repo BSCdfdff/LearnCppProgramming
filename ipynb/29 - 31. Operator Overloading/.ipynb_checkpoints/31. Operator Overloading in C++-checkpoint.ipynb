{
 "cells": [
  {
   "cell_type": "markdown",
   "metadata": {},
   "source": [
    "# Operator Overloading\n",
    "___\n",
    "\n",
    "+ Insertion Operator\n",
    "+ Extraction Operator\n"
   ]
  },
  {
   "cell_type": "markdown",
   "metadata": {},
   "source": [
    "## Insertion and Extraction Operator\n",
    "\n",
    "Note when we display output we use ```cout```.\n",
    "\n",
    "But ```cout``` can only display primitive data types. \n",
    "\n",
    "```\n",
    "int x = 10\n",
    "cout<<x<<endl;\n",
    "\n",
    "```\n",
    "\n",
    "It **CANNOT** display our custom types e.g\n",
    "```\n",
    "Complex c1;\n",
    "cout<<c1<<endl;\n",
    "```\n",
    "The result we want is:\n",
    "\n",
    "```\n",
    "205 + 11i\n",
    "\n",
    "```\n",
    "\n",
    "Yes I want to display my own objects.\n",
    "\n",
    "Is there an overloading operator for the INSERTION <<(cout) operator ?? Lets explore...\n",
    "\n",
    "One way to display a **Complex** Number\n",
    "\n",
    "```\n",
    "void display(){\n",
    "    cout<<real<<\" + \"<<img<<\"i\"<<endl;\n",
    "}\n",
    "\n",
    "Complex c1(10,15);\n",
    "\n",
    "c1.display();\n",
    "\n",
    "```    \n",
    "\n",
    "But I do not wat to call ```c1.display```, I want it in format of ```cout<<c1<<endl```\n",
    "\n",
    "That means we need to overload ```<<```\n",
    "\n",
    "So we can redefine ```display```, as ```operator<<```, and it takes two arguments\"\n",
    "\n",
    "```\n",
    "cout, which is ostream operator\n",
    "c1, which is complex data type\n",
    "```\n",
    "```\n",
    "void operator<< (ostream &o, Complex &c)\n",
    "\n",
    "```\n",
    "So we passing by reference, we need the return type by reference of cout as well, so\n",
    "\n",
    "```\n",
    "friend ostream  operator<< (ostream &o, Complex &c)\n",
    "\n",
    "```\n",
    "\n",
    "Remember for overloading an Operator function we MUST use a **friend** function\n",
    "\n",
    "```\n",
    "ostream & INSERTION_OPERATOR(ostream &o, Complex &c1){\n",
    "    o<<c1.real<<\" + \"<<c1.img<<\"i\"<<endl;\n",
    "    return o;\n",
    "}\n",
    "\n",
    "```\n",
    "\n",
    "Note:\n",
    "\n",
    "```\n",
    "o is now cout\n",
    "c1 is further broekn up into c1.real and c1.img\n",
    "\n",
    "And o gets returned.\n",
    "\n",
    "```\n",
    "#### And now we can write:\n",
    "```\n",
    "cout<<c1;\n",
    "```\n",
    "Which can also be written as:\n",
    "```\n",
    "INSERTION_OPERATOR (cout, c1)\n",
    "```\n",
    "\n",
    "But also stil works, without returning ostream\n",
    "\n"
   ]
  },
  {
   "cell_type": "code",
   "execution_count": 1,
   "metadata": {},
   "outputs": [],
   "source": [
    "#include <iostream>\n",
    "#include <climits>\n",
    "#include <math.h>\n",
    "#define INSERTION_OPERATOR operator<<\n",
    "using namespace std;"
   ]
  },
  {
   "cell_type": "code",
   "execution_count": 2,
   "metadata": {
    "scrolled": true
   },
   "outputs": [
    {
     "name": "stderr",
     "output_type": "stream",
     "text": [
      "\u001b[1minput_line_9:17:17: \u001b[0m\u001b[0;1;31merror: \u001b[0m\u001b[1mfunctions that differ only in their return type cannot be overloaded\u001b[0m\n",
      "    friend void INSERTION_OPERATOR2(ostream &o, Complex &c1);\n",
      "\u001b[0;1;32m           ~~~~ ^\n",
      "\u001b[0m\u001b[1minput_line_8:2:29: \u001b[0m\u001b[0;1;30mnote: \u001b[0mexpanded from macro 'INSERTION_OPERATOR2'\u001b[0m\n",
      "#define INSERTION_OPERATOR2 operator<<\n",
      "\u001b[0;1;32m                            ^\n",
      "\u001b[0m\u001b[1minput_line_9:16:22: \u001b[0m\u001b[0;1;30mnote: \u001b[0mprevious declaration is here\u001b[0m\n",
      "    friend ostream & INSERTION_OPERATOR(ostream &o, Complex &c1);\n",
      "\u001b[0;1;32m           ~~~~~~~~~ ^\n",
      "\u001b[0m\u001b[1minput_line_8:1:28: \u001b[0m\u001b[0;1;30mnote: \u001b[0mexpanded from macro 'INSERTION_OPERATOR'\u001b[0m\n",
      "#define INSERTION_OPERATOR operator<<\n",
      "\u001b[0;1;32m                           ^\n",
      "\u001b[0m"
     ]
    },
    {
     "ename": "Interpreter Error",
     "evalue": "",
     "output_type": "error",
     "traceback": [
      "Interpreter Error: "
     ]
    }
   ],
   "source": [
    "class Complex{\n",
    "public:\n",
    "    int real;\n",
    "    int img;\n",
    "public:\n",
    "    Complex(int r=0, int i=0){\n",
    "        real = r;\n",
    "        img = i;\n",
    "        \n",
    "    }\n",
    "    \n",
    "    void display(){\n",
    "        cout<<real<<\" + \"<<img<<\"i\"<<endl;\n",
    "    }\n",
    "    \n",
    "    friend ostream & INSERTION_OPERATOR(ostream &o, Complex &c1);\n",
    "    friend void INSERTION_OPERATOR(ostream &o, Complex &c1);\n",
    "\n",
    "};"
   ]
  },
  {
   "cell_type": "code",
   "execution_count": null,
   "metadata": {},
   "outputs": [],
   "source": [
    "ostream & INSERTION_OPERATOR(ostream &o, Complex &c1){\n",
    "    o<<c1.real<<\" + \"<<c1.img<<\"i\"<<endl;\n",
    "    return o;\n",
    "}"
   ]
  },
  {
   "cell_type": "code",
   "execution_count": null,
   "metadata": {},
   "outputs": [],
   "source": [
    "void INSERTION_OPERATOR(ostream &o, Complex &c1){\n",
    "    o<<c1.real<<\" + \"<<c1.img<<\"i\"<<endl;\n",
    "}"
   ]
  },
  {
   "cell_type": "code",
   "execution_count": null,
   "metadata": {},
   "outputs": [],
   "source": [
    "Complex c1(10,15);\n",
    "c1.display();\n"
   ]
  },
  {
   "cell_type": "code",
   "execution_count": null,
   "metadata": {},
   "outputs": [],
   "source": [
    "cout<<c1;"
   ]
  },
  {
   "cell_type": "code",
   "execution_count": null,
   "metadata": {},
   "outputs": [],
   "source": [
    "INSERTION_OPERATOR (cout, c1);"
   ]
  },
  {
   "cell_type": "code",
   "execution_count": null,
   "metadata": {},
   "outputs": [],
   "source": [
    "INSERTION_OPERATOR(cout, c1);"
   ]
  }
 ],
 "metadata": {
  "kernelspec": {
   "display_name": "C++17",
   "language": "C++17",
   "name": "xcpp17"
  },
  "language_info": {
   "codemirror_mode": "text/x-c++src",
   "file_extension": ".cpp",
   "mimetype": "text/x-c++src",
   "name": "c++",
   "version": "-std=c++17"
  }
 },
 "nbformat": 4,
 "nbformat_minor": 2
}
