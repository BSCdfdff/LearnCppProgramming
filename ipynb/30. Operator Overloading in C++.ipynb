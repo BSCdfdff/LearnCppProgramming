{
 "cells": [
  {
   "cell_type": "markdown",
   "metadata": {},
   "source": [
    "# Operator Overloading\n",
    "___\n",
    "\n",
    "+ "
   ]
  },
  {
   "cell_type": "markdown",
   "metadata": {},
   "source": [
    "## Operator Overloading - Friend Function\n",
    "\n",
    "Operator overloadng was achieved by overloading a primitive operator, and redefining howe want to do .eg. addition:\n",
    "\n",
    "```\n",
    "c3 = c1 + c2;\n",
    "\n",
    "```\n",
    "\n",
    "Here it was either c1 to be added to c2, or c2 to be added to c1.\n",
    "\n",
    "But what if we want someone else, that is a **friend** to add the two (c1 and c2) for us.\n",
    "\n",
    "So now c1 and c2 must both be arguments for Complex function (```operator+```), and this function must be a friend function\n",
    "\n",
    "```\n",
    "friend Complex operator+(Complex c1, Complex c2)\n",
    "\n",
    "```\n",
    "\n",
    "So the body MUST be written outside the class, **WITHOUT** using scope resolution\n",
    "\n",
    "\n",
    "There is a bug in CLING, if you use ```operator+```outside a class\n"
   ]
  },
  {
   "cell_type": "code",
   "execution_count": 1,
   "metadata": {},
   "outputs": [],
   "source": [
    "#include <iostream>\n",
    "#include <climits>\n",
    "#include <math.h>\n",
    "#define ADDITION_OPERATOR operator+\n",
    "using namespace std;"
   ]
  },
  {
   "cell_type": "code",
   "execution_count": null,
   "metadata": {},
   "outputs": [],
   "source": []
  },
  {
   "cell_type": "code",
   "execution_count": 2,
   "metadata": {},
   "outputs": [],
   "source": [
    "class Complex{\n",
    "public:\n",
    "    int real;\n",
    "    int img;\n",
    "public:\n",
    "    Complex(int r=0, int i=0){\n",
    "        real = r;\n",
    "        img = i;\n",
    "        \n",
    "    }\n",
    "    \n",
    "    friend Complex ADDITION_OPERATOR(Complex c1, Complex c2);\n",
    "};"
   ]
  },
  {
   "cell_type": "code",
   "execution_count": 3,
   "metadata": {},
   "outputs": [],
   "source": [
    "Complex ADDITION_OPERATOR(Complex c1, Complex c2){\n",
    "    Complex temp;\n",
    "    temp.real = c1.real + c2.real;\n",
    "    temp.img = c1.img + c2.img;\n",
    "    return temp;    \n",
    "}"
   ]
  },
  {
   "cell_type": "code",
   "execution_count": 4,
   "metadata": {},
   "outputs": [],
   "source": [
    "#undef ADDITION_OPERATOR"
   ]
  },
  {
   "cell_type": "code",
   "execution_count": 5,
   "metadata": {},
   "outputs": [],
   "source": [
    "Complex c1(200,7);\n",
    "Complex c2(5,4);\n",
    "Complex c3;"
   ]
  },
  {
   "cell_type": "code",
   "execution_count": 6,
   "metadata": {},
   "outputs": [],
   "source": [
    "c3 = c1 + c2;"
   ]
  },
  {
   "cell_type": "code",
   "execution_count": 7,
   "metadata": {},
   "outputs": [
    {
     "name": "stdout",
     "output_type": "stream",
     "text": [
      "205 + 11i\n"
     ]
    }
   ],
   "source": [
    "cout<<c3.real<<\" + \"<<c3.img<<\"i\"<<endl;"
   ]
  }
 ],
 "metadata": {
  "kernelspec": {
   "display_name": "C++17",
   "language": "C++17",
   "name": "xcpp17"
  },
  "language_info": {
   "codemirror_mode": "text/x-c++src",
   "file_extension": ".cpp",
   "mimetype": "text/x-c++src",
   "name": "c++",
   "version": "-std=c++17"
  }
 },
 "nbformat": 4,
 "nbformat_minor": 2
}
