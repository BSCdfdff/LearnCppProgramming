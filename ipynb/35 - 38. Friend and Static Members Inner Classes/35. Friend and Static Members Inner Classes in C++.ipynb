{
 "cells": [
  {
   "cell_type": "markdown",
   "metadata": {},
   "source": [
    "# Friend Functions\n",
    "___\n",
    "\n",
    "+ Allows external function calling a class, to get access to classes private,protected and public memebers\n"
   ]
  },
  {
   "cell_type": "markdown",
   "metadata": {},
   "source": [
    "## Friend Functions\n",
    "\n",
    "Here we will cover **\"has-a\"** relation, NOT the **\"is-a\"**, which deals with Inheritance (where we covered the **Access Specifiers**).\n",
    "\n",
    "Remember the \"has-a\" relationship, is where one funtion, calls another class. \n",
    "\n",
    "So question here is how does the class's access specifiers affect the functions calls to the class function???\n",
    "\n",
    "Lets explore:\n",
    "\n",
    "Off the bat, private and protected is not accessible, only public functions are accessible:\n",
    "\n",
    "```\n",
    "void fun(){\n",
    "    Test t1;\n",
    "    t1.a=10; [NOT ACCESSIBLE]\n",
    "    t1.b=20; [NOT ACCESSIBLE]\n",
    "    t1.c=30; [ACCESSIBLE]\n",
    "    \n",
    "}\n",
    "\n",
    "```\n",
    "\n",
    "But how can we change this, and allow fun() to have access to private and protected member of class?\n",
    "\n",
    "We add the calling function name in class, and place keyword **friend** in front:\n",
    "\n",
    "```\n",
    "class Test{\n",
    "...\n",
    "...\n",
    "public\n",
    "   friend void fun();\n",
    "   \n",
    "}   \n",
    "```\n",
    "\n",
    "Now function fun can access **private, protected and public members** of Test\n",
    "\n",
    "```\n",
    "oid fun(){\n",
    "    Test t1;\n",
    "    t1.a=10; [ACCESSIBLE]\n",
    "    t1.b=20; [ACCESSIBLE]\n",
    "    t1.c=30; [ACCESSIBLE]\n",
    "    \n",
    "}\n",
    "\n",
    "```\n",
    "\n",
    "\n"
   ]
  },
  {
   "cell_type": "code",
   "execution_count": 1,
   "metadata": {},
   "outputs": [],
   "source": [
    "#include <iostream>\n",
    "#include <climits>\n",
    "#include <math.h>\n",
    "using namespace std;"
   ]
  },
  {
   "cell_type": "code",
   "execution_count": 2,
   "metadata": {},
   "outputs": [],
   "source": [
    "class Test{\n",
    "private:\n",
    "    int a;\n",
    "protected:\n",
    "    int b;\n",
    "public: \n",
    "    int c;\n",
    "    \n",
    "    friend void fun();\n",
    "}"
   ]
  },
  {
   "cell_type": "code",
   "execution_count": 3,
   "metadata": {},
   "outputs": [],
   "source": [
    "void fun(){\n",
    "    Test t1;\n",
    "    t1.a=10;\n",
    "    t1.b=20;\n",
    "    t1.c=30;\n",
    "    \n",
    "}"
   ]
  },
  {
   "cell_type": "code",
   "execution_count": 4,
   "metadata": {},
   "outputs": [],
   "source": [
    "fun();"
   ]
  },
  {
   "cell_type": "code",
   "execution_count": null,
   "metadata": {},
   "outputs": [],
   "source": []
  }
 ],
 "metadata": {
  "kernelspec": {
   "display_name": "C++17",
   "language": "C++17",
   "name": "xcpp17"
  },
  "language_info": {
   "codemirror_mode": "text/x-c++src",
   "file_extension": ".cpp",
   "mimetype": "text/x-c++src",
   "name": "c++",
   "version": "-std=c++17"
  }
 },
 "nbformat": 4,
 "nbformat_minor": 2
}
