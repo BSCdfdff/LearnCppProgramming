{
 "cells": [
  {
   "cell_type": "markdown",
   "metadata": {},
   "source": [
    "# Nested or Inner Classes\n",
    "___\n",
    "\n",
    "+ See C++17 update\n"
   ]
  },
  {
   "cell_type": "markdown",
   "metadata": {},
   "source": [
    "## Nested or Inner Classes\n",
    "\n",
    "Used to break a class up further, and the nested or inner class is only useful in that class\n",
    "\n",
    "That is to separate the logic inside a class\n",
    "\n",
    "So to add an Inner class, we need to:\n",
    "1. Create the Inner class\n",
    "\n",
    "```\n",
    "class Inner{\n",
    "    public:\n",
    "        int x = 25;\n",
    "        \n",
    "        void show(){\n",
    "            cout<<\"Show Inner\"<<endl; \n",
    "        }\n",
    "        \n",
    "        void showb(){\n",
    "            cout<<\"Show Inner b:\"<<b<<endl; \n",
    "        }\n",
    "    };\n",
    "```\n",
    "\n",
    "2. Create object of Inner class after its definition (not before)\n",
    "\n",
    "\n",
    "```\n",
    "Inner i;\n",
    "\n",
    "```\n",
    "\n",
    "Can **Inner** class access data members of the **Outer class**?\n",
    "\n",
    "Only if they are static. Remember static is type of global variable, but at class level scope\n",
    "\n",
    "\n",
    "\n",
    "Can **Outer** class access data members of the **Inner class**?\n",
    "\n",
    "Yes, using the object provided by Inner class, but again only the **public members**, NOT private and protected\n",
    "\n",
    "So its as if the Inner is outside defined, works similar. So nothing new here.\n",
    "\n",
    "\n"
   ]
  },
  {
   "cell_type": "code",
   "execution_count": 1,
   "metadata": {},
   "outputs": [],
   "source": [
    "#include <iostream>\n",
    "#include <climits>\n",
    "#include <math.h>\n",
    "using namespace std;"
   ]
  },
  {
   "cell_type": "code",
   "execution_count": 2,
   "metadata": {},
   "outputs": [],
   "source": [
    "class Outer{\n",
    "public: \n",
    "    int a=10;\n",
    "    static inline int b=0;\n",
    "\n",
    "    void fun(){\n",
    "        cout<<\"fun Outer\"<<endl; \n",
    "        cout<<i.x<<endl;\n",
    "    }\n",
    "    \n",
    "    class Inner{\n",
    "    public:\n",
    "        int x = 25;\n",
    "        \n",
    "        void show(){\n",
    "            cout<<\"Show Inner\"<<endl; \n",
    "        }\n",
    "        \n",
    "        void showb(){\n",
    "            cout<<\"Show Inner b:\"<<b<<endl; \n",
    "        }\n",
    "    };\n",
    "    \n",
    "    Inner i;\n",
    "}\n"
   ]
  },
  {
   "cell_type": "code",
   "execution_count": 3,
   "metadata": {},
   "outputs": [
    {
     "name": "stdout",
     "output_type": "stream",
     "text": [
      "fun Outer\n",
      "i.x\n"
     ]
    }
   ],
   "source": [
    "Outer o;\n",
    "o.fun()"
   ]
  },
  {
   "cell_type": "code",
   "execution_count": null,
   "metadata": {},
   "outputs": [],
   "source": []
  },
  {
   "cell_type": "code",
   "execution_count": null,
   "metadata": {},
   "outputs": [],
   "source": []
  }
 ],
 "metadata": {
  "kernelspec": {
   "display_name": "C++17",
   "language": "C++17",
   "name": "xcpp17"
  },
  "language_info": {
   "codemirror_mode": "text/x-c++src",
   "file_extension": ".cpp",
   "mimetype": "text/x-c++src",
   "name": "c++",
   "version": "-std=c++17"
  }
 },
 "nbformat": 4,
 "nbformat_minor": 2
}
