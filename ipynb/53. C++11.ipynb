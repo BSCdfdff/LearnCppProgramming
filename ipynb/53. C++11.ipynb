{
 "cells": [
  {
   "cell_type": "markdown",
   "metadata": {},
   "source": [
    "# C++ 11 Features\n",
    "___\n",
    "\n",
    "+ Ellipses\n",
    "\n"
   ]
  },
  {
   "cell_type": "markdown",
   "metadata": {},
   "source": [
    "###  C++ 11 Features\n",
    "\n",
    "\n",
    "\n"
   ]
  },
  {
   "cell_type": "markdown",
   "metadata": {},
   "source": [
    "## Ellipses\n",
    "\n",
    "Function that needs to take variable number of arguments\n",
    "\n",
    "Signuare (of function) :\n",
    "1. One named argument (refers size of arguments that will be passed)\n",
    "2. Next is : ellipses (...)\n",
    "\n",
    "We are intoduced to:\n",
    "\n",
    "+ va_list ***creation of object***\n",
    "+ va_start(....)\n",
    "+ va_arg(....) ***must include the datatype here***\n",
    "+ va_end(....)\n",
    "\n",
    "Here we take variable number of arguments, and adding them up."
   ]
  },
  {
   "cell_type": "code",
   "execution_count": 1,
   "metadata": {},
   "outputs": [],
   "source": [
    "#include <iostream>\n",
    "#define c cout\n",
    "#define e endl\n",
    "using namespace std;"
   ]
  },
  {
   "cell_type": "code",
   "execution_count": 3,
   "metadata": {},
   "outputs": [],
   "source": [
    "int sum(int n, ...){\n",
    "    va_list list;\n",
    "    va_start(list,n);\n",
    "    \n",
    "    int x;\n",
    "    int s=0;\n",
    "    \n",
    "    for(int i=0; i<n; i++){\n",
    "        x = va_arg(list, int);\n",
    "        s+=x;\n",
    "    }\n",
    "    va_end(list);\n",
    "    return s;\n",
    "}"
   ]
  },
  {
   "cell_type": "code",
   "execution_count": 4,
   "metadata": {},
   "outputs": [
    {
     "name": "stdout",
     "output_type": "stream",
     "text": [
      "50\n"
     ]
    }
   ],
   "source": [
    "c<<sum(3,10,20,20)<<e;"
   ]
  },
  {
   "cell_type": "code",
   "execution_count": 5,
   "metadata": {},
   "outputs": [
    {
     "name": "stdout",
     "output_type": "stream",
     "text": [
      "15\n"
     ]
    }
   ],
   "source": [
    "c<<sum(5,1,2,3,4,5)<<e;"
   ]
  },
  {
   "cell_type": "code",
   "execution_count": null,
   "metadata": {},
   "outputs": [],
   "source": []
  }
 ],
 "metadata": {
  "kernelspec": {
   "display_name": "C++17",
   "language": "C++17",
   "name": "xcpp17"
  },
  "language_info": {
   "codemirror_mode": "text/x-c++src",
   "file_extension": ".cpp",
   "mimetype": "text/x-c++src",
   "name": "c++",
   "version": "-std=c++17"
  }
 },
 "nbformat": 4,
 "nbformat_minor": 2
}
