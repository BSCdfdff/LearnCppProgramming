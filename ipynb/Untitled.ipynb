{
 "cells": [
  {
   "cell_type": "code",
   "execution_count": 1,
   "metadata": {},
   "outputs": [],
   "source": [
    "#include <iostream>\n",
    "#include <climits>\n",
    "#include <fstream>\n",
    "#include <math.h>\n",
    "#define c cout\n",
    "#define e endl\n",
    "#define pi 3.1425\n",
    "#define sqrt(x) (x*x)\n",
    "#define msg(x) #x\n",
    "#define INSERTION_OPERATOR operator<<\n",
    "#define EXTRACTION_OPERATOR operator>>\n",
    "#include <vector>\n",
    "using namespace std;\n"
   ]
  },
  {
   "cell_type": "code",
   "execution_count": 2,
   "metadata": {},
   "outputs": [],
   "source": [
    "int sum(int n, ...){\n",
    "    va_list list;\n",
    "    va_start(list,n);\n",
    "    \n",
    "    int x;\n",
    "    int s=0;\n",
    "    \n",
    "    for(int i=0; i<n; i++){\n",
    "        x = va_arg(list, int);\n",
    "        s+=x;\n",
    "    }\n",
    "    va_end(list);\n",
    "    return s;\n",
    "}"
   ]
  },
  {
   "cell_type": "code",
   "execution_count": null,
   "metadata": {},
   "outputs": [],
   "source": [
    "c<<sum(3,10,20,20)<<e;"
   ]
  }
 ],
 "metadata": {
  "kernelspec": {
   "display_name": "C++17",
   "language": "C++17",
   "name": "xcpp17"
  },
  "language_info": {
   "codemirror_mode": "text/x-c++src",
   "file_extension": ".cpp",
   "mimetype": "text/x-c++src",
   "name": "c++",
   "version": "-std=c++17"
  }
 },
 "nbformat": 4,
 "nbformat_minor": 2
}
