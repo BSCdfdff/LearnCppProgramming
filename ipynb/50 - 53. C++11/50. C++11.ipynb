{
 "cells": [
  {
   "cell_type": "markdown",
   "metadata": {},
   "source": [
    "# C++ 11 Features\n",
    "___\n",
    "\n",
    "+ \n",
    "\n"
   ]
  },
  {
   "cell_type": "markdown",
   "metadata": {},
   "source": [
    "###  C++ 11 Features\n",
    "\n",
    "\n",
    "1. Auto\n",
    "2. Final Keyword\n",
    "3. Lamda Expressions\n",
    "4. Smart Pointers\n"
   ]
  },
  {
   "cell_type": "code",
   "execution_count": 1,
   "metadata": {},
   "outputs": [],
   "source": [
    "#include <iostream>\n",
    "#define c cout\n",
    "#define e endl\n",
    "using namespace std;"
   ]
  },
  {
   "cell_type": "markdown",
   "metadata": {},
   "source": [
    "### Auto data type\n",
    "\n",
    "Where we do not know what the datatype we require.\n",
    "\n",
    "And the data type will onty bee known once you get the results\n",
    "\n",
    "What should be the data type of x?\n",
    "\n",
    "We add ```auto``` in front\n",
    "\n",
    "But the final result wil be double (5.7) type\n",
    "\n",
    "So here auto will make it double\n",
    "\n",
    "change it to \n",
    "\n",
    "```\n",
    "double x = 2 * 5.7 + 'a';``\n",
    "\n",
    "```\n",
    "\n",
    "auto just means, automatically it becomes double\n",
    "\n",
    "the compiler will decide for you."
   ]
  },
  {
   "cell_type": "code",
   "execution_count": 2,
   "metadata": {},
   "outputs": [],
   "source": [
    "float fun(){\n",
    "    return 2.34f;\n",
    "}"
   ]
  },
  {
   "cell_type": "code",
   "execution_count": 3,
   "metadata": {},
   "outputs": [],
   "source": [
    "auto x = 2 * 5.7 + 'a';"
   ]
  },
  {
   "cell_type": "code",
   "execution_count": 4,
   "metadata": {},
   "outputs": [
    {
     "name": "stdout",
     "output_type": "stream",
     "text": [
      "108.4\n"
     ]
    }
   ],
   "source": [
    "c<<x<<e;"
   ]
  },
  {
   "cell_type": "markdown",
   "metadata": {},
   "source": [
    "### Take data type of previously declared variable\n",
    "\n",
    "Using :  decltype()\n"
   ]
  },
  {
   "cell_type": "code",
   "execution_count": 5,
   "metadata": {},
   "outputs": [],
   "source": [
    "int u = 20;\n",
    "float y = 12.5f;\n",
    "\n",
    "decltype(y) z = 34.7;\n",
    "\n"
   ]
  },
  {
   "cell_type": "markdown",
   "metadata": {},
   "source": [
    "### Final Keyword\n",
    "**Restricts inheritance from parent class***\n",
    "\n",
    "```\n",
    "class Parent final{}\n",
    "```\n",
    "\n",
    "**Restricts overriding parent function in child class***\n",
    "(but must first add virtual infront of parent function)\n",
    "\n",
    "```\n",
    "virtual void show() final{}\n",
    "\n",
    "```"
   ]
  },
  {
   "cell_type": "markdown",
   "metadata": {},
   "source": [
    "### Lamda Expressions\n",
    "\n",
    "Useful for defining unnamed function\n",
    "\n",
    "**Syntax**\n",
    "```\n",
    " [capture_list](parameter_list)->return type{body}\n",
    " \n",
    "```\n",
    "\n",
    "\n"
   ]
  },
  {
   "cell_type": "markdown",
   "metadata": {},
   "source": [
    "#### Starter example"
   ]
  },
  {
   "cell_type": "code",
   "execution_count": 6,
   "metadata": {},
   "outputs": [
    {
     "name": "stdout",
     "output_type": "stream",
     "text": [
      "Hello\n"
     ]
    }
   ],
   "source": [
    "[](){c<<\"Hello\"<<e;}();"
   ]
  },
  {
   "cell_type": "markdown",
   "metadata": {},
   "source": [
    "#### Pass some arguments\n",
    "\n",
    "If we define parameters upfront ```(int x1, int y1)```\n",
    "We need to pass in values at the back ```(48,2)```"
   ]
  },
  {
   "cell_type": "code",
   "execution_count": 7,
   "metadata": {},
   "outputs": [
    {
     "name": "stdout",
     "output_type": "stream",
     "text": [
      "Sum is 50\n"
     ]
    }
   ],
   "source": [
    "[](int x1, int y1){c<<\"Sum is \"<<x1+y1<<e;}(48,2);"
   ]
  },
  {
   "cell_type": "markdown",
   "metadata": {},
   "source": [
    "#### Wrap in cout and then display\n",
    "\n",
    "Instead of having ```cout``` inside the body, we can return the body and wrap it in ```cout``"
   ]
  },
  {
   "cell_type": "code",
   "execution_count": 8,
   "metadata": {},
   "outputs": [
    {
     "name": "stdout",
     "output_type": "stream",
     "text": [
      "50\n"
     ]
    }
   ],
   "source": [
    "c<<([](int x1, int y1){return x1+y1;}(48,2))<<e;"
   ]
  },
  {
   "cell_type": "markdown",
   "metadata": {},
   "source": [
    "#### Assing to variable then display\n",
    "\n",
    "Also after the parameter list you can mentio the return type"
   ]
  },
  {
   "cell_type": "code",
   "execution_count": 9,
   "metadata": {},
   "outputs": [
    {
     "name": "stdout",
     "output_type": "stream",
     "text": [
      "50\n"
     ]
    }
   ],
   "source": [
    "int g=[](int x1, int y1)->int{return x1+y1;}(48,2);\n",
    "c<<g<<e;"
   ]
  },
  {
   "cell_type": "markdown",
   "metadata": {},
   "source": [
    "#### How to access external variable\n",
    "\n",
    "To access this variable, we need to add it to the capture list;"
   ]
  },
  {
   "cell_type": "code",
   "execution_count": 10,
   "metadata": {},
   "outputs": [
    {
     "name": "stdout",
     "output_type": "stream",
     "text": [
      "700\n"
     ]
    }
   ],
   "source": [
    "int x10 = 700;\n",
    "\n",
    "[x10](){c<<x10<<e;}();\n"
   ]
  },
  {
   "cell_type": "markdown",
   "metadata": {},
   "source": [
    "#### Assign the lamda expression to variable, then call the variable\n",
    "\n",
    "Cannot seem to get this to work"
   ]
  },
  {
   "cell_type": "code",
   "execution_count": 11,
   "metadata": {},
   "outputs": [],
   "source": [
    "int x11 = 400;\n",
    "\n",
    "auto f = [&x11](){c<<x11++<<e;};"
   ]
  },
  {
   "cell_type": "code",
   "execution_count": 12,
   "metadata": {
    "scrolled": true
   },
   "outputs": [
    {
     "name": "stderr",
     "output_type": "stream",
     "text": [
      "\u001b[1minput_line_19:2:2: \u001b[0m\u001b[0;1;31merror: \u001b[0m\u001b[1mtype '(lambda at input_line_18:3:10)' does not provide a call operator\u001b[0m\n",
      " f();\n",
      "\u001b[0;1;32m ^\n",
      "\u001b[0m"
     ]
    },
    {
     "ename": "Interpreter Error",
     "evalue": "",
     "output_type": "error",
     "traceback": [
      "Interpreter Error: "
     ]
    }
   ],
   "source": [
    "f();"
   ]
  },
  {
   "cell_type": "markdown",
   "metadata": {},
   "source": [
    "#### Send lambda expression to function as parameter\n",
    "\n",
    "does not work as well"
   ]
  },
  {
   "cell_type": "code",
   "execution_count": null,
   "metadata": {},
   "outputs": [],
   "source": [
    "template <typename T>\n",
    "void fun(T p){\n",
    "    p();\n",
    "}"
   ]
  },
  {
   "cell_type": "code",
   "execution_count": 1,
   "metadata": {},
   "outputs": [
    {
     "name": "stderr",
     "output_type": "stream",
     "text": [
      "\u001b[1minput_line_7:2:6: \u001b[0m\u001b[0;1;31merror: \u001b[0m\u001b[1muse of undeclared identifier 'f'\u001b[0m\n",
      " fun(f);\n",
      "\u001b[0;1;32m     ^\n",
      "\u001b[0m"
     ]
    },
    {
     "ename": "Interpreter Error",
     "evalue": "",
     "output_type": "error",
     "traceback": [
      "Interpreter Error: "
     ]
    }
   ],
   "source": [
    "fun(f);"
   ]
  },
  {
   "cell_type": "markdown",
   "metadata": {},
   "source": [
    "## Smart pointers\n",
    "\n",
    "We do know when creating pointers in HEAP, we need to de-allocate it afterwards\n",
    "\n",
    "So c++ will deallocate memory when function not in use:\n",
    "\n",
    "There are three smart pointer available:\n",
    "\n",
    "1. unique_ptr\n",
    "2. shared_ptr\n",
    "3. weak_ptr\n",
    "\n"
   ]
  },
  {
   "cell_type": "code",
   "execution_count": null,
   "metadata": {},
   "outputs": [],
   "source": []
  }
 ],
 "metadata": {
  "kernelspec": {
   "display_name": "C++17",
   "language": "C++17",
   "name": "xcpp17"
  },
  "language_info": {
   "codemirror_mode": "text/x-c++src",
   "file_extension": ".cpp",
   "mimetype": "text/x-c++src",
   "name": "c++",
   "version": "-std=c++17"
  }
 },
 "nbformat": 4,
 "nbformat_minor": 2
}
