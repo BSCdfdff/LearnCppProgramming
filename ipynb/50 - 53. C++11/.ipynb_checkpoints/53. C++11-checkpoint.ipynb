{
 "cells": [
  {
   "cell_type": "markdown",
   "metadata": {},
   "source": [
    "# C++ 11 Features\n",
    "___\n",
    "\n",
    "+ Inclass Initializer\n",
    "+ Delegation of Constructor\n",
    "\n"
   ]
  },
  {
   "cell_type": "markdown",
   "metadata": {},
   "source": [
    "###  C++ 11 Features\n",
    "\n",
    "\n",
    "\n"
   ]
  },
  {
   "cell_type": "markdown",
   "metadata": {},
   "source": [
    "## Inclass Initializer and Delegation of Constructor\n",
    "\n",
    "Now we can initiliase data member values, not allowed before\n",
    "\n",
    "```\n",
    "class Test{\n",
    "    int x = 10;\n",
    "    int y = 30;\n",
    "\n",
    "}\n",
    "\n",
    "```\n",
    "\n",
    "We define parameterized constructor:\n",
    "\n",
    "```\n",
    "Test (int a, int b){\n",
    "        x = a;\n",
    "        y = b\n",
    "    }\n",
    "\n",
    "```\n",
    "\n",
    "But then we can define non-parameterized constructor, and make use of the param one. How cool:\n",
    "\n",
    "```\n",
    "Test (): Test(1,1){}\n",
    "\n",
    "```\n",
    "\n",
    "So essentially one constructor can call another constructor. The idea is if you have logic define in one constructor, you dont have to do it in second one.\n",
    "\n"
   ]
  },
  {
   "cell_type": "code",
   "execution_count": 1,
   "metadata": {},
   "outputs": [],
   "source": [
    "#include <iostream>\n",
    "#define c cout\n",
    "#define e endl\n",
    "using namespace std;"
   ]
  },
  {
   "cell_type": "code",
   "execution_count": 2,
   "metadata": {},
   "outputs": [],
   "source": [
    "class Test{\n",
    "    int x = 10;\n",
    "    int y = 30;\n",
    "public:\n",
    "    Test (int a, int b){\n",
    "        x = a;\n",
    "        y = b;\n",
    "    }\n",
    "    Test (): Test(1,1){}\n",
    "}"
   ]
  },
  {
   "cell_type": "code",
   "execution_count": null,
   "metadata": {},
   "outputs": [],
   "source": []
  }
 ],
 "metadata": {
  "kernelspec": {
   "display_name": "C++17",
   "language": "C++17",
   "name": "xcpp17"
  },
  "language_info": {
   "codemirror_mode": "text/x-c++src",
   "file_extension": ".cpp",
   "mimetype": "text/x-c++src",
   "name": "c++",
   "version": "-std=c++17"
  }
 },
 "nbformat": 4,
 "nbformat_minor": 2
}
