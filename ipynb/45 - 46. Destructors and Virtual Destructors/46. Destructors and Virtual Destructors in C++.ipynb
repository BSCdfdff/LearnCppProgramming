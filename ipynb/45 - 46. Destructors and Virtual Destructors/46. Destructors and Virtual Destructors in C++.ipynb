{
 "cells": [
  {
   "cell_type": "markdown",
   "metadata": {},
   "source": [
    "# Destructors and Virtual Destructors\n",
    "___\n",
    "\n",
    "+ \n",
    "\n"
   ]
  },
  {
   "cell_type": "markdown",
   "metadata": {},
   "source": [
    "##  Virtual Destructors\n",
    "\n",
    "Some background...We know that in Parent Child relationship, ie Inheritance, constructors are called :\n",
    "\n",
    "1. Base Class\n",
    "2. Derived Class\n",
    "\n",
    "```\n",
    "class Base{\n",
    "public:\n",
    "    Base(){\n",
    "     c<<\"Base Constructor\"<<e;   \n",
    "    }\n",
    "    ~Base(){\n",
    "        c<<\"Base Destructor\"<<e; \n",
    "    }\n",
    "}\n",
    "\n",
    "class Derived:public Base{\n",
    "\n",
    "public:\n",
    "\n",
    "    Derived(){\n",
    "\n",
    "     c<<\"Derived Constructor\"<<e;   \n",
    "\n",
    "    }\n",
    "\n",
    "    ~Derived(){\n",
    "\n",
    "     c<<\"Derived Destructor\"<<e;   \n",
    "\n",
    "    }\n",
    "\n",
    "}\n",
    "\n",
    "Derived d;\n",
    "\n",
    "Base Constructor\n",
    "Derived Constructor\n",
    "\n",
    "```\n",
    "\n",
    "When Derived class is called, its in reverse:\n",
    "\n",
    "\n",
    "1. Derived Class\n",
    "2. Base Class\n",
    "\n",
    "### But thers is a problem with this approach\n",
    "\n",
    "When dealing with Base class pointer Derived Class objects, we see to face a problem, when we deallocate pointer that points to Base Class and object is on the Derived class:\n",
    "\n",
    "```\n",
    "Base *p;\n",
    "\n",
    "p = new Derived();\n",
    "\n",
    "Base Constructor\n",
    "Derived Constructor\n",
    "\n",
    "delete p;\n",
    "\n",
    "Base Destructor\n",
    "\n",
    "\n",
    "```\n",
    "\n",
    "So the Base Destructor is called, but what about the descructor of the Derived class, that MUST be called. How do we solve it?\n",
    "\n",
    "We add the word virtual in front of the Base Class Desctructor.\n",
    "\n",
    "So now the sequence is correct\n",
    "\n",
    "```\n",
    "~Derived(){\n",
    " c<<\"Derived Destructor\"<<e;   \n",
    "}\n",
    "    \n",
    "delete p;\n",
    "\n",
    "Derived Destructor\n",
    "Base Destructor\n",
    "    \n",
    "    \n",
    "```    \n",
    "\n",
    "\n",
    "\n",
    "\n"
   ]
  },
  {
   "cell_type": "code",
   "execution_count": 1,
   "metadata": {},
   "outputs": [],
   "source": [
    "#include <iostream>\n",
    "#define c cout\n",
    "#define e endl\n",
    "using namespace std;"
   ]
  },
  {
   "cell_type": "code",
   "execution_count": 2,
   "metadata": {},
   "outputs": [],
   "source": [
    "class Base{\n",
    "public:\n",
    "    Base(){\n",
    "     c<<\"Base Constructor\"<<e;   \n",
    "    }\n",
    "    virtual ~Base(){\n",
    "        c<<\"Base Destructor\"<<e; \n",
    "    }\n",
    "}"
   ]
  },
  {
   "cell_type": "code",
   "execution_count": 3,
   "metadata": {
    "scrolled": true
   },
   "outputs": [],
   "source": [
    "class Derived:public Base{\n",
    "public:\n",
    "    Derived(){\n",
    "     c<<\"Derived Constructor\"<<e;   \n",
    "    }\n",
    "    ~Derived(){\n",
    "     c<<\"Derived Destructor\"<<e;   \n",
    "    }\n",
    "}"
   ]
  },
  {
   "cell_type": "code",
   "execution_count": 4,
   "metadata": {},
   "outputs": [
    {
     "name": "stdout",
     "output_type": "stream",
     "text": [
      "Base Constructor\n",
      "Derived Constructor\n"
     ]
    }
   ],
   "source": [
    "Derived d;"
   ]
  },
  {
   "cell_type": "code",
   "execution_count": 5,
   "metadata": {},
   "outputs": [
    {
     "name": "stdout",
     "output_type": "stream",
     "text": [
      "Base Constructor\n",
      "Derived Constructor\n"
     ]
    }
   ],
   "source": [
    "Base *p;\n",
    "p = new Derived();"
   ]
  },
  {
   "cell_type": "code",
   "execution_count": 6,
   "metadata": {},
   "outputs": [
    {
     "name": "stdout",
     "output_type": "stream",
     "text": [
      "Derived Destructor\n",
      "Base Destructor\n"
     ]
    }
   ],
   "source": [
    "delete p;"
   ]
  },
  {
   "cell_type": "code",
   "execution_count": null,
   "metadata": {},
   "outputs": [],
   "source": []
  }
 ],
 "metadata": {
  "kernelspec": {
   "display_name": "C++17",
   "language": "C++17",
   "name": "xcpp17"
  },
  "language_info": {
   "codemirror_mode": "text/x-c++src",
   "file_extension": ".cpp",
   "mimetype": "text/x-c++src",
   "name": "c++",
   "version": "-std=c++17"
  }
 },
 "nbformat": 4,
 "nbformat_minor": 2
}
