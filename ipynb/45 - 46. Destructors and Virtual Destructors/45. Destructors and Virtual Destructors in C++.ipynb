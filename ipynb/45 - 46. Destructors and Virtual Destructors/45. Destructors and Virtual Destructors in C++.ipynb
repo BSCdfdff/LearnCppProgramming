{
 "cells": [
  {
   "cell_type": "markdown",
   "metadata": {},
   "source": [
    "# Destructors and Virtual Destructors\n",
    "___\n",
    "\n",
    "+ \n",
    "\n"
   ]
  },
  {
   "cell_type": "markdown",
   "metadata": {},
   "source": [
    "##  Destructors\n",
    "\n",
    "We already familiar with constructor.\n",
    "\n",
    "We add ~ tilda in front of the Constructor name\n",
    "\n",
    "```\n",
    "~Test(){\n",
    "        c<<\"Tested Ended\"<<e;\n",
    "    }\n",
    "```    \n",
    "\n",
    "Will be called when function is ended.\n",
    "    \n",
    "We can see this by creating an object, through a pointer dynamically:\n",
    "\n",
    "```\n",
    "Test *p= new Test();\n",
    "\n",
    "Tested Created\n",
    "\n",
    "delete p;\n",
    "\n",
    "p=nullptr;\n",
    "\n",
    "Tested Ended\n",
    "\n",
    "```\n",
    "\n",
    "But it also be achieved (to see the destructor been called), if we call one function from another, since when the called function exits, the destructor will be called. So sequence: Constructor called, then Destructor called.\n",
    "\n",
    "```\n",
    "void Tester(){\n",
    "\n",
    "    Test T;\n",
    "\n",
    "}\n",
    "\n",
    "Tester();\n",
    "\n",
    "Tested Created\n",
    "Tested Ended\n",
    "\n",
    "\n",
    "```\n",
    "\n",
    "#### But what is the use of Destructor?\n",
    "\n",
    "\n",
    "We know the use of Constructor is to allocate resources\n",
    "\n",
    "So role of the Destructor is to deallocate resources, releasing it, such as heap, file, network resources, etc.\n",
    "\n",
    "But we also need to deallocated whatever was allocated inside the Constructor:\n",
    "\n",
    "```\n",
    "Test(){\n",
    "        c<<\"Tested Created\"<<e;\n",
    "        p= new int[10];\n",
    "    }\n",
    "    \n",
    "    ~Test(){\n",
    "        c<<\"Tested Ended\"<<e;\n",
    "        delete []p;\n",
    "    }\n",
    "    \n",
    "```    \n",
    "\n",
    "1. Can we multiple destructors? **NO**\n",
    "2. It it return anything? **NO**\n",
    "3. Can it be virtual? **YES**  Lets explore...\n",
    "\n",
    "\n"
   ]
  },
  {
   "cell_type": "code",
   "execution_count": 1,
   "metadata": {},
   "outputs": [],
   "source": [
    "#include <iostream>\n",
    "#define c cout\n",
    "#define e endl\n",
    "using namespace std;"
   ]
  },
  {
   "cell_type": "code",
   "execution_count": 2,
   "metadata": {},
   "outputs": [],
   "source": [
    "class Test{\n",
    "public:\n",
    "    int *p; \n",
    "    Test(){\n",
    "        c<<\"Tested Created\"<<e;\n",
    "        p= new int[10];\n",
    "    }\n",
    "    \n",
    "    ~Test(){\n",
    "        c<<\"Tested Ended\"<<e;\n",
    "        delete []p;\n",
    "    }\n",
    "}"
   ]
  },
  {
   "cell_type": "code",
   "execution_count": 3,
   "metadata": {},
   "outputs": [
    {
     "name": "stdout",
     "output_type": "stream",
     "text": [
      "Tested Created\n"
     ]
    }
   ],
   "source": [
    "Test t;"
   ]
  },
  {
   "cell_type": "code",
   "execution_count": 4,
   "metadata": {},
   "outputs": [
    {
     "name": "stdout",
     "output_type": "stream",
     "text": [
      "Tested Created\n"
     ]
    }
   ],
   "source": [
    "Test *q= new Test();"
   ]
  },
  {
   "cell_type": "code",
   "execution_count": 5,
   "metadata": {},
   "outputs": [
    {
     "name": "stdout",
     "output_type": "stream",
     "text": [
      "Tested Ended\n"
     ]
    }
   ],
   "source": [
    "delete q;\n",
    "q=nullptr;"
   ]
  },
  {
   "cell_type": "code",
   "execution_count": 6,
   "metadata": {},
   "outputs": [],
   "source": [
    "void Tester(){\n",
    "    Test T;\n",
    "}"
   ]
  },
  {
   "cell_type": "code",
   "execution_count": 7,
   "metadata": {},
   "outputs": [
    {
     "name": "stdout",
     "output_type": "stream",
     "text": [
      "Tested Created\n",
      "Tested Ended\n"
     ]
    }
   ],
   "source": [
    "Tester();"
   ]
  }
 ],
 "metadata": {
  "kernelspec": {
   "display_name": "C++17",
   "language": "C++17",
   "name": "xcpp17"
  },
  "language_info": {
   "codemirror_mode": "text/x-c++src",
   "file_extension": ".cpp",
   "mimetype": "text/x-c++src",
   "name": "c++",
   "version": "-std=c++17"
  }
 },
 "nbformat": 4,
 "nbformat_minor": 2
}
