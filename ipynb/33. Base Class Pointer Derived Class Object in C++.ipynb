{
 "cells": [
  {
   "cell_type": "markdown",
   "metadata": {},
   "source": [
    "# Base Class Pointer Derived Class Object\n",
    "___\n",
    "\n",
    "+ Base Class pointer\n",
    "+ Address of Derived Class (object)\n"
   ]
  },
  {
   "cell_type": "markdown",
   "metadata": {},
   "source": [
    "## Base Class Pointer Derived Class Object\n",
    "\n",
    "\n",
    "We need to remember the flow: Derived inherit from Base\n",
    "\n",
    "That is, \n",
    "\n",
    "Derived->Base\n",
    "\n",
    "So the pointer is on the Base Class pointing to object (address) of Derived Class\n",
    "\n",
    "```\n",
    "Base *p;\n",
    "p = new Derived();\n",
    "```\n",
    "\n",
    "Whose functions will be called? The Base Class Functions will be called, as the pointer is to Base Class\n",
    "\n",
    "```\n",
    "p->fun1();\n",
    "p->fun2();\n",
    "p->fun3();\n",
    "```\n",
    "[OUTPUT]\n",
    "\n",
    "```\n",
    "Fun1\n",
    "Fun2\n",
    "Fun3\n",
    "\n",
    "```\n",
    "\n",
    "\n",
    "Only these functions are available as they are from base class.\n",
    "\n",
    "We can also write it as:\n",
    "\n",
    "```\n",
    "Derived D;\n",
    "Base *prt=&D;\n",
    "\n",
    "```\n",
    "\n",
    "Only functions available:\n",
    "\n",
    "```\n",
    "prt->fun1();\n",
    "prt->fun2();\n",
    "prt->fun3();\n",
    "\n",
    "```\n",
    "[OUTPUT]\n",
    "\n",
    "```\n",
    "Fun1\n",
    "Fun2\n",
    "Fun3\n",
    "\n",
    "```\n",
    "\n",
    "So the pointer, determine whose functions I can call. So pointer is to Base Class, so only Base Class function can be called.\n",
    "\n",
    "Otherway is not possible.\n",
    "\n"
   ]
  },
  {
   "cell_type": "code",
   "execution_count": null,
   "metadata": {},
   "outputs": [],
   "source": []
  },
  {
   "cell_type": "code",
   "execution_count": 1,
   "metadata": {},
   "outputs": [],
   "source": [
    "#include <iostream>\n",
    "#include <climits>\n",
    "#include <math.h>\n",
    "using namespace std;"
   ]
  },
  {
   "cell_type": "code",
   "execution_count": 2,
   "metadata": {},
   "outputs": [],
   "source": [
    "class Base{\n",
    "public :\n",
    "    void fun1(){cout<<\"Fun1\"<<endl;}\n",
    "    void fun2(){cout<<\"Fun2\"<<endl;}\n",
    "    void fun3(){cout<<\"Fun3\"<<endl;}\n",
    "}"
   ]
  },
  {
   "cell_type": "code",
   "execution_count": 3,
   "metadata": {},
   "outputs": [],
   "source": [
    "class Derived:public Base{\n",
    "public :\n",
    "    void fun4(){cout<<\"Fun4\"<<endl;}\n",
    "    void fun5(){cout<<\"Fun5\"<<endl;}    \n",
    "}"
   ]
  },
  {
   "cell_type": "code",
   "execution_count": 4,
   "metadata": {},
   "outputs": [],
   "source": [
    "Base *p;\n",
    "p = new Derived();"
   ]
  },
  {
   "cell_type": "code",
   "execution_count": 5,
   "metadata": {},
   "outputs": [
    {
     "name": "stdout",
     "output_type": "stream",
     "text": [
      "Fun1\n",
      "Fun2\n",
      "Fun3\n"
     ]
    }
   ],
   "source": [
    "p->fun1();\n",
    "p->fun2();\n",
    "p->fun3();\n"
   ]
  },
  {
   "cell_type": "code",
   "execution_count": 6,
   "metadata": {},
   "outputs": [],
   "source": [
    "Derived D;\n",
    "Base *prt=&D;"
   ]
  },
  {
   "cell_type": "code",
   "execution_count": 7,
   "metadata": {},
   "outputs": [
    {
     "name": "stdout",
     "output_type": "stream",
     "text": [
      "Fun1\n",
      "Fun2\n",
      "Fun3\n"
     ]
    }
   ],
   "source": [
    "prt->fun1();\n",
    "prt->fun2();\n",
    "prt->fun3();"
   ]
  },
  {
   "cell_type": "code",
   "execution_count": null,
   "metadata": {},
   "outputs": [],
   "source": []
  }
 ],
 "metadata": {
  "kernelspec": {
   "display_name": "C++17",
   "language": "C++17",
   "name": "xcpp17"
  },
  "language_info": {
   "codemirror_mode": "text/x-c++src",
   "file_extension": ".cpp",
   "mimetype": "text/x-c++src",
   "name": "c++",
   "version": "-std=c++17"
  }
 },
 "nbformat": 4,
 "nbformat_minor": 2
}
