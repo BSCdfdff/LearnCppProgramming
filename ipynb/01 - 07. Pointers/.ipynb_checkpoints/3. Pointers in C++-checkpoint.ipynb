{
 "cells": [
  {
   "cell_type": "markdown",
   "metadata": {},
   "source": [
    "# Resizing Arrays\n",
    "___\n"
   ]
  },
  {
   "cell_type": "code",
   "execution_count": 1,
   "metadata": {},
   "outputs": [],
   "source": [
    "#include <iostream>\n",
    "#include <climits>\n",
    "#include <math.h>\n",
    "using namespace std;"
   ]
  },
  {
   "cell_type": "markdown",
   "metadata": {},
   "source": [
    "## Note the difference between using pointer to:\n",
    "\n",
    "+ Data Variable\n",
    "+ Array\n",
    "\n",
    "When you have a pointer to a data variable, you set the pounter equal to the address (&) of the variable.\n",
    "\n",
    "Whereas, when you have a pointer to a array variable, you set the pounter equal to the array itself, **NOT** the address of the array. In fact, if you do: ```cout<<A<<endl``` you get the address of the array. This is most proabably the reason why we do not need to put ```&``` sign in front.\n",
    "\n",
    "## Pointer to Data Variable \n",
    "\n",
    "We set the **pointer = [Address of Variable][Variable]**\n",
    "\n",
    "That is ```p = &x``` or ```int *p = &x```\n",
    "\n",
    "```\n",
    "int x = 10;\n",
    "int *p;\n",
    "p = &x; \n",
    "```\n",
    "or **declation** in **init** in one line when defining **p**\n",
    "\n",
    "```\n",
    "int x = 10;\n",
    "int *p; = &x; \n",
    "```\n",
    "\n",
    "To get a value we **MUST** use deferencing: ```*p```.\n",
    "\n",
    "___\n",
    "\n",
    "## Pointer to Array Variable in Stack\n",
    "\n",
    "We set the **pointer = [Variable]**\n",
    "\n",
    "That is ```p = A``` or ```int *p = A```\n",
    "\n",
    "```\n",
    "int A[5]={1,2,3,4,5};\n",
    "int *p;\n",
    "p = A;\n",
    "```\n",
    "or **declation** in **init** in one line when defining **p**\n",
    "\n",
    "```\n",
    "int A[5]={1,2,3,4,5};\n",
    "int *p = A;\n",
    "```\n",
    "\n",
    "To get a value we use: ``` p[1]```, points to second element of array. We dont need to derefernce, i.e. use ```*p[1] ```, does not work. Whereas for data variables we must derefence.\n",
    "\n",
    "___\n",
    "\n",
    "\n",
    "## Pointer to Array Variable in Heap\n",
    "\n",
    "We set the **pointer = new [Data type][array size]**\n",
    "\n",
    "\n",
    "That is ```p = A``` or ```int *p = A```\n",
    "\n",
    "```\n",
    "int *p ;\n",
    "p = new int [5];\n",
    "```\n",
    "**declation** in **init** in one line when defining **p**\n",
    "\n",
    "```\n",
    "int *p = new int [5];\n",
    "```\n",
    "\n",
    "**Note there is no variable name**\n",
    "\n",
    "p becomes the variable. So there is no need for an accompanying variable.\n",
    "\n",
    "E.g Get the **addresses**:\n",
    "```\n",
    "for (int i = 0; i < 5; i++){\n",
    "    cout<<(&p[i])<<endl;\n",
    "}\n",
    "```\n",
    "\n",
    "E.g Get the **values**:\n",
    "```\n",
    "for (int i = 0; i < 5; i++){\n",
    "    cout<<(p[i])<<endl;\n",
    "}\n",
    "```"
   ]
  },
  {
   "cell_type": "code",
   "execution_count": 2,
   "metadata": {},
   "outputs": [
    {
     "name": "stdout",
     "output_type": "stream",
     "text": [
      "Size of array(A):5\n",
      "5\n",
      "5\n",
      "0x7fdde33d9030\n"
     ]
    },
    {
     "data": {
      "text/plain": [
       "@0x7fdddfeb9b60"
      ]
     },
     "execution_count": 2,
     "metadata": {},
     "output_type": "execute_result"
    }
   ],
   "source": [
    "int A[5] ={2,5,6,7,10}; //index:0 - 4\n",
    "\n",
    "cout<<\"Size of array(A):\"<<sizeof(A)/sizeof(int)<<endl;\n",
    "cout<<A[1]<<endl;   //points to second element in array    [5]\n",
    "cout<<1[A]<<endl;   //same as above, just different sytax  [5]\n",
    "cout<<A<<endl;      //??? point to some address??          [0x7f5c617cf030]"
   ]
  },
  {
   "cell_type": "markdown",
   "metadata": {},
   "source": [
    "## Declaration and Initialisation can be done in one line"
   ]
  },
  {
   "cell_type": "code",
   "execution_count": 3,
   "metadata": {},
   "outputs": [],
   "source": [
    "int *p= A;"
   ]
  },
  {
   "cell_type": "markdown",
   "metadata": {},
   "source": [
    "## p and can be used interchangeably"
   ]
  },
  {
   "cell_type": "code",
   "execution_count": 4,
   "metadata": {},
   "outputs": [
    {
     "name": "stdout",
     "output_type": "stream",
     "text": [
      "0x7fdde33d9030\n",
      "2\n",
      "5\n",
      "Size of array(p):8\n"
     ]
    },
    {
     "data": {
      "text/plain": [
       "@0x7fdddfeb9b60"
      ]
     },
     "execution_count": 4,
     "metadata": {},
     "output_type": "execute_result"
    }
   ],
   "source": [
    "cout<<p<<endl;     //points to address of A\n",
    "cout<<*p<<endl;    //points to value of A, which defaults to first A[0] value\n",
    "cout<<p[1]<<endl;  //points to value of A[1]\n",
    "cout<<\"Size of array(p):\"<< sizeof(p)<<endl;  //points to value of A[1]"
   ]
  },
  {
   "cell_type": "markdown",
   "metadata": {},
   "source": [
    "## Cannot resize a data variable (as it sits in STACK)\n",
    "## Can only be done through a pointer defined in HEAP"
   ]
  },
  {
   "cell_type": "code",
   "execution_count": 5,
   "metadata": {},
   "outputs": [
    {
     "name": "stdout",
     "output_type": "stream",
     "text": [
      "0x55fd23bca9d0\n",
      "4\n",
      "Value[0]: 588646144\n",
      "Value[1]: 22013\n",
      "Value[2]: 0\n",
      "Value[3]: 0\n"
     ]
    }
   ],
   "source": [
    "p = new int [20];\n",
    "cout<<p<<endl;\n",
    "cout<<sizeof(*p)<<endl;\n",
    "\n",
    "for (int i = 0; i<sizeof(*p); i++){\n",
    "       cout<<\"Value[\"<<i<<\"]: \"<<p[i]<<endl;\n",
    "}"
   ]
  },
  {
   "cell_type": "code",
   "execution_count": 6,
   "metadata": {},
   "outputs": [],
   "source": [
    "delete []p;\n",
    "p=nullptr;"
   ]
  },
  {
   "cell_type": "code",
   "execution_count": 7,
   "metadata": {},
   "outputs": [
    {
     "name": "stdout",
     "output_type": "stream",
     "text": [
      "0\n"
     ]
    }
   ],
   "source": [
    "cout<<p<<endl;"
   ]
  },
  {
   "cell_type": "markdown",
   "metadata": {},
   "source": [
    "## To resize Array\n",
    "\n",
    "Must delete previous definition first\n",
    "\n",
    "```\n",
    "delete []p;\n",
    "p=nullptr;\n",
    "\n",
    "```"
   ]
  },
  {
   "cell_type": "code",
   "execution_count": 8,
   "metadata": {},
   "outputs": [],
   "source": [
    "p = new int[100];"
   ]
  },
  {
   "cell_type": "code",
   "execution_count": null,
   "metadata": {},
   "outputs": [],
   "source": []
  }
 ],
 "metadata": {
  "kernelspec": {
   "display_name": "C++17",
   "language": "C++17",
   "name": "xcpp17"
  },
  "language_info": {
   "codemirror_mode": "text/x-c++src",
   "file_extension": ".cpp",
   "mimetype": "text/x-c++src",
   "name": "c++",
   "version": "-std=c++17"
  }
 },
 "nbformat": 4,
 "nbformat_minor": 2
}
