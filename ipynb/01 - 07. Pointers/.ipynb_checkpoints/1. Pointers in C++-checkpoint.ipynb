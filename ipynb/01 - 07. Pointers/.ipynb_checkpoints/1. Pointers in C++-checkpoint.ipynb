{
 "cells": [
  {
   "cell_type": "markdown",
   "metadata": {},
   "source": [
    "# Pointers in C++\n",
    "___"
   ]
  },
  {
   "cell_type": "code",
   "execution_count": 1,
   "metadata": {},
   "outputs": [],
   "source": [
    "#include <iostream>\n",
    "#include <climits>\n",
    "#include <math.h>\n",
    "using namespace std;\n"
   ]
  },
  {
   "cell_type": "markdown",
   "metadata": {},
   "source": [
    "## Data Variable"
   ]
  },
  {
   "cell_type": "code",
   "execution_count": 2,
   "metadata": {},
   "outputs": [],
   "source": [
    "int x =10;"
   ]
  },
  {
   "cell_type": "markdown",
   "metadata": {},
   "source": [
    "## Pointer variable DECLARATION\n",
    "___\n",
    "\n",
    "+ ### Using * in front to destinguish from normal (data) variable\n",
    "+ ### This is a variable used to store the address of another variable\n"
   ]
  },
  {
   "cell_type": "code",
   "execution_count": 3,
   "metadata": {},
   "outputs": [],
   "source": [
    "int *p;\n",
    "p=&x;"
   ]
  },
  {
   "cell_type": "markdown",
   "metadata": {},
   "source": [
    "## Output\n",
    "___\n",
    "+ Using *p, is referred to as deferencing, and will produce the value of the data variable\n",
    "+ Only using pointer variable (e.g. p) without * gives the memory address of assigned data variable\n",
    "+ To to access the pointer variables owne address we write:&p+ \n",
    "+ To to access the data variables ownb address we write:&a *[which is the same as above]*\n",
    "\n",
    "**NOTE**:  The declared pointer must be of same data type as data varianble, it is assigned to\n",
    "That is must be **int** in our case\n"
   ]
  },
  {
   "cell_type": "code",
   "execution_count": 4,
   "metadata": {},
   "outputs": [
    {
     "name": "stdout",
     "output_type": "stream",
     "text": [
      "10\n",
      "0x7f12d3987030\n",
      "0x7f12d3987030\n",
      "0x7f12d3987028\n",
      "10\n"
     ]
    },
    {
     "data": {
      "text/plain": [
       "@0x7f12d0467b60"
      ]
     },
     "execution_count": 4,
     "metadata": {},
     "output_type": "execute_result"
    }
   ],
   "source": [
    "cout<<x<<endl;    //value of x                       [10]\n",
    "cout<<p<<endl;    //p stores the address of x        [0x7f29dc129030] \n",
    "cout<<&x<<endl;   //same as above, the address of x  [0x7f29dc129030] \n",
    "cout<<&p<<endl;   //but p also has its own address   [0x7f29dc129028]\n",
    "cout<<*p<<endl;   //dereference, to get value of x   [10] [counter intuitive, but this is syntax]"
   ]
  },
  {
   "cell_type": "markdown",
   "metadata": {},
   "source": [
    "## Using new Keyword\n",
    "___\n",
    "\n",
    "+ ### Array in STACK cannot do this.\n",
    "+ ### Can only be done in HEAP"
   ]
  },
  {
   "cell_type": "code",
   "execution_count": 5,
   "metadata": {},
   "outputs": [
    {
     "name": "stdout",
     "output_type": "stream",
     "text": [
      "0x55dfca8f7290\n",
      "4\n"
     ]
    }
   ],
   "source": [
    "p = new int [20];\n",
    "cout<<p<<endl;\n",
    "cout<<sizeof(*p)<<endl;"
   ]
  },
  {
   "cell_type": "code",
   "execution_count": 6,
   "metadata": {},
   "outputs": [
    {
     "name": "stdout",
     "output_type": "stream",
     "text": [
      "Value[0]: -885682752\n",
      "Value[1]: 21983\n",
      "Value[2]: 0\n",
      "Value[3]: 0\n"
     ]
    }
   ],
   "source": [
    "for (int i = 0; i<sizeof(*p); i++){\n",
    "       cout<<\"Value[\"<<i<<\"]: \"<<p[i]<<endl;\n",
    "}"
   ]
  }
 ],
 "metadata": {
  "kernelspec": {
   "display_name": "C++17",
   "language": "C++17",
   "name": "xcpp17"
  },
  "language_info": {
   "codemirror_mode": "text/x-c++src",
   "file_extension": ".cpp",
   "mimetype": "text/x-c++src",
   "name": "c++",
   "version": "-std=c++17"
  }
 },
 "nbformat": 4,
 "nbformat_minor": 2
}
