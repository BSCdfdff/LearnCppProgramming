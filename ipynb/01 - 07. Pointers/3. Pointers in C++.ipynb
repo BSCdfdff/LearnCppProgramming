{
 "cells": [
  {
   "cell_type": "markdown",
   "metadata": {},
   "source": [
    "# Resizing Arrays\n",
    "___\n"
   ]
  },
  {
   "cell_type": "code",
   "execution_count": 1,
   "metadata": {},
   "outputs": [],
   "source": [
    "#include <iostream>\n",
    "#include <climits>\n",
    "#include <math.h>\n",
    "using namespace std;"
   ]
  },
  {
   "cell_type": "code",
   "execution_count": 2,
   "metadata": {},
   "outputs": [
    {
     "name": "stdout",
     "output_type": "stream",
     "text": [
      "Size of array(A):5\n",
      "5\n",
      "5\n",
      "0x7f3fc4be7030\n"
     ]
    },
    {
     "data": {
      "text/plain": [
       "@0x7f3fc16c7b60"
      ]
     },
     "execution_count": 2,
     "metadata": {},
     "output_type": "execute_result"
    }
   ],
   "source": [
    "int A[5] ={2,5,6,7,10}; //index:0 - 4\n",
    "\n",
    "cout<<\"Size of array(A):\"<<sizeof(A)/sizeof(int)<<endl;\n",
    "cout<<A[1]<<endl;   //points to second element in array    [5]\n",
    "cout<<1[A]<<endl;   //same as above, just different sytax  [5]\n",
    "cout<<A<<endl;      //??? point to some address??          [0x7f5c617cf030]"
   ]
  },
  {
   "cell_type": "markdown",
   "metadata": {},
   "source": [
    "## Declaration and Initialisation can be done in one line"
   ]
  },
  {
   "cell_type": "code",
   "execution_count": 3,
   "metadata": {},
   "outputs": [],
   "source": [
    "int *p= A;"
   ]
  },
  {
   "cell_type": "markdown",
   "metadata": {},
   "source": [
    "## p and can be used interchangeably"
   ]
  },
  {
   "cell_type": "code",
   "execution_count": 4,
   "metadata": {},
   "outputs": [
    {
     "name": "stdout",
     "output_type": "stream",
     "text": [
      "0x7f3fc4be7030\n",
      "2\n",
      "5\n",
      "Size of array(p):8\n"
     ]
    },
    {
     "data": {
      "text/plain": [
       "@0x7f3fc16c7b60"
      ]
     },
     "execution_count": 4,
     "metadata": {},
     "output_type": "execute_result"
    }
   ],
   "source": [
    "cout<<p<<endl;     //points to address of A\n",
    "cout<<*p<<endl;    //points to value of A, which defaults to first A[0] value\n",
    "cout<<p[1]<<endl;  //points to value of A[1]\n",
    "cout<<\"Size of array(p):\"<< sizeof(p)<<endl;  //points to value of A[1]"
   ]
  },
  {
   "cell_type": "markdown",
   "metadata": {},
   "source": [
    "## Cannot resize a data variable (as it sits in STACK)\n",
    "## Can only be done through a pointer defined in HEAP"
   ]
  },
  {
   "cell_type": "code",
   "execution_count": 5,
   "metadata": {},
   "outputs": [
    {
     "name": "stdout",
     "output_type": "stream",
     "text": [
      "0x55f6db598170\n",
      "4\n",
      "Value[0]: -604638480\n",
      "Value[1]: 22006\n",
      "Value[2]: 0\n",
      "Value[3]: 0\n"
     ]
    }
   ],
   "source": [
    "p = new int [20];\n",
    "cout<<p<<endl;\n",
    "cout<<sizeof(*p)<<endl;\n",
    "\n",
    "for (int i = 0; i<sizeof(*p); i++){\n",
    "       cout<<\"Value[\"<<i<<\"]: \"<<p[i]<<endl;\n",
    "}"
   ]
  },
  {
   "cell_type": "code",
   "execution_count": 6,
   "metadata": {},
   "outputs": [],
   "source": [
    "delete []p;\n",
    "p=nullptr;"
   ]
  },
  {
   "cell_type": "code",
   "execution_count": 7,
   "metadata": {},
   "outputs": [
    {
     "name": "stdout",
     "output_type": "stream",
     "text": [
      "0\n"
     ]
    }
   ],
   "source": [
    "cout<<p<<endl;"
   ]
  }
 ],
 "metadata": {
  "kernelspec": {
   "display_name": "C++17",
   "language": "C++17",
   "name": "xcpp17"
  },
  "language_info": {
   "codemirror_mode": "text/x-c++src",
   "file_extension": ".cpp",
   "mimetype": "text/x-c++src",
   "name": "c++",
   "version": "-std=c++17"
  }
 },
 "nbformat": 4,
 "nbformat_minor": 2
}
