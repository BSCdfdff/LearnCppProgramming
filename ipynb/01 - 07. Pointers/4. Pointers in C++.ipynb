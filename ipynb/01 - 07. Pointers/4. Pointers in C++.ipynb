{
 "cells": [
  {
   "cell_type": "markdown",
   "metadata": {},
   "source": [
    "# Pointer Arithmetic\n",
    "___\n"
   ]
  },
  {
   "cell_type": "code",
   "execution_count": 1,
   "metadata": {},
   "outputs": [],
   "source": [
    "#include <iostream>\n",
    "#include <climits>\n",
    "#include <math.h>\n",
    "using namespace std;"
   ]
  },
  {
   "cell_type": "code",
   "execution_count": 2,
   "metadata": {},
   "outputs": [],
   "source": [
    "int A[5] ={2,5,6,7,10}; //index:0 - 4\n",
    "int *p = A; //contains the address of A [200/201][actual:], defaults to first element  of array"
   ]
  },
  {
   "cell_type": "code",
   "execution_count": 3,
   "metadata": {},
   "outputs": [
    {
     "name": "stdout",
     "output_type": "stream",
     "text": [
      "0x7f822ecf9030\n",
      "0x7f822ecf9030\n",
      "2\n"
     ]
    },
    {
     "data": {
      "text/plain": [
       "@0x7f822b7d9b60"
      ]
     },
     "execution_count": 3,
     "metadata": {},
     "output_type": "execute_result"
    }
   ],
   "source": [
    "cout<<A<<endl;    //0x7f7b9c771030\n",
    "cout<<p<<endl;    //0x7f7b9c771030\n",
    "cout<<*p<<endl;   //first element, 2"
   ]
  },
  {
   "cell_type": "markdown",
   "metadata": {},
   "source": [
    "## Get all addresses for A"
   ]
  },
  {
   "cell_type": "code",
   "execution_count": 4,
   "metadata": {},
   "outputs": [
    {
     "name": "stdout",
     "output_type": "stream",
     "text": [
      "0x7f822ecf9030\n",
      "0x7f822ecf9034\n",
      "0x7f822ecf9038\n",
      "0x7f822ecf903c\n",
      "0x7f822ecf9040\n"
     ]
    }
   ],
   "source": [
    "for (int i = 0; i < 5; i++){\n",
    "    cout<<&(A[i])<<endl;\n",
    "}"
   ]
  },
  {
   "cell_type": "markdown",
   "metadata": {},
   "source": [
    "## Same as above but using pointer p"
   ]
  },
  {
   "cell_type": "markdown",
   "metadata": {},
   "source": [
    "+ ### Using while loop \n"
   ]
  },
  {
   "cell_type": "code",
   "execution_count": 5,
   "metadata": {},
   "outputs": [
    {
     "name": "stdout",
     "output_type": "stream",
     "text": [
      "0x7f822ecf9030\n",
      "0x7f822ecf9034\n",
      "0x7f822ecf9038\n",
      "0x7f822ecf903c\n",
      "0x7f822ecf9040\n"
     ]
    }
   ],
   "source": [
    "int i =0;\n",
    "while(i<5){\n",
    "    i++;\n",
    "    cout<<p<<endl;\n",
    "    p++;\n",
    "}"
   ]
  },
  {
   "cell_type": "markdown",
   "metadata": {},
   "source": [
    "## Roll back to where we started"
   ]
  },
  {
   "cell_type": "code",
   "execution_count": 6,
   "metadata": {},
   "outputs": [
    {
     "name": "stdout",
     "output_type": "stream",
     "text": [
      "0x7f822ecf9040\n",
      "0x7f822ecf903c\n",
      "0x7f822ecf9038\n",
      "0x7f822ecf9034\n",
      "0x7f822ecf9030\n"
     ]
    }
   ],
   "source": [
    "while(i>0){\n",
    "    p--;\n",
    "    cout<<p<<endl;\n",
    "    i--;\n",
    "}"
   ]
  },
  {
   "cell_type": "markdown",
   "metadata": {},
   "source": [
    "+ ### Using for loop "
   ]
  },
  {
   "cell_type": "code",
   "execution_count": 7,
   "metadata": {},
   "outputs": [
    {
     "name": "stdout",
     "output_type": "stream",
     "text": [
      "2\n",
      "5\n",
      "6\n",
      "7\n",
      "10\n"
     ]
    }
   ],
   "source": [
    "for (int i = 0; i < 5; i++){\n",
    "    cout<<p[i]<<endl;\n",
    "}"
   ]
  },
  {
   "cell_type": "markdown",
   "metadata": {},
   "source": [
    "+ ### Using for loop "
   ]
  },
  {
   "cell_type": "code",
   "execution_count": 8,
   "metadata": {},
   "outputs": [
    {
     "name": "stdout",
     "output_type": "stream",
     "text": [
      "0x7f822ecf9030\n",
      "0x7f822ecf9034\n",
      "0x7f822ecf9038\n",
      "0x7f822ecf903c\n",
      "0x7f822ecf9040\n"
     ]
    }
   ],
   "source": [
    "for (int i = 0; i < 5; i++){\n",
    "    cout<<&p[i]<<endl;\n",
    "}"
   ]
  },
  {
   "cell_type": "code",
   "execution_count": 9,
   "metadata": {},
   "outputs": [
    {
     "name": "stdout",
     "output_type": "stream",
     "text": [
      "0x7f822ecf9034\n",
      "5\n",
      "0x7f822ecf9034\n",
      "5\n"
     ]
    },
    {
     "data": {
      "text/plain": [
       "@0x7f822b7d9b60"
      ]
     },
     "execution_count": 9,
     "metadata": {},
     "output_type": "execute_result"
    }
   ],
   "source": [
    "//back to arithmetic\n",
    "p++;\n",
    "cout<<p<<endl;       //0x7f7b9c771030 + 4 bytes = 0x7f1b91144034\n",
    "cout<<*p<<endl;      //Now it point to second element of A, =5 \n",
    "cout<<&(A[1])<<endl; //0x7f07d007f034 (same as p above)\n",
    "cout<<A[1]<<endl;    //=5"
   ]
  },
  {
   "cell_type": "markdown",
   "metadata": {},
   "source": [
    "+ ### Move Back "
   ]
  },
  {
   "cell_type": "code",
   "execution_count": 10,
   "metadata": {},
   "outputs": [
    {
     "name": "stdout",
     "output_type": "stream",
     "text": [
      "0x7f822ecf9030\n",
      "2\n",
      "0x7f822ecf9030\n",
      "2\n"
     ]
    },
    {
     "data": {
      "text/plain": [
       "@0x7f822b7d9b60"
      ]
     },
     "execution_count": 10,
     "metadata": {},
     "output_type": "execute_result"
    }
   ],
   "source": [
    "p--;\n",
    "cout<<p<<endl;       //0x7f7b9c771030 \n",
    "cout<<*p<<endl;      //points to 2 \n",
    "cout<<&(A[0])<<endl; //0x7f7b9c771030 (same as p above)\n",
    "cout<<A[0]<<endl;    //=2"
   ]
  },
  {
   "cell_type": "markdown",
   "metadata": {},
   "source": [
    "+ ### Move two address locations back "
   ]
  },
  {
   "cell_type": "code",
   "execution_count": 11,
   "metadata": {},
   "outputs": [
    {
     "name": "stdout",
     "output_type": "stream",
     "text": [
      "Add two\n",
      "0x7f822ecf9038\n",
      "6\n"
     ]
    },
    {
     "data": {
      "text/plain": [
       "@0x7f822b7d9b60"
      ]
     },
     "execution_count": 11,
     "metadata": {},
     "output_type": "execute_result"
    }
   ],
   "source": [
    "cout<<\"Add two\"<<endl; \n",
    "p=p+2;\n",
    "cout<<p<<endl;       //0x7f560cf90038 \n",
    "cout<<*p<<endl;      //points to 6 "
   ]
  },
  {
   "cell_type": "markdown",
   "metadata": {},
   "source": [
    "+ ### Subtract two address locations"
   ]
  },
  {
   "cell_type": "code",
   "execution_count": 12,
   "metadata": {},
   "outputs": [
    {
     "name": "stdout",
     "output_type": "stream",
     "text": [
      "Deduct two\n",
      "0x7f822ecf9030\n",
      "2\n"
     ]
    },
    {
     "data": {
      "text/plain": [
       "@0x7f822b7d9b60"
      ]
     },
     "execution_count": 12,
     "metadata": {},
     "output_type": "execute_result"
    }
   ],
   "source": [
    "cout<<\"Deduct two\"<<endl; \n",
    "p=p-2;\n",
    "cout<<p<<endl;       //0x7f28b7d54030 \n",
    "cout<<*p<<endl;      //points to 2 \n"
   ]
  },
  {
   "cell_type": "markdown",
   "metadata": {},
   "source": [
    "## Set another pointer q to point to 3rd element of A"
   ]
  },
  {
   "cell_type": "code",
   "execution_count": 13,
   "metadata": {},
   "outputs": [
    {
     "name": "stdout",
     "output_type": "stream",
     "text": [
      "New q pointer\n",
      "0x7f822ecf903c\n",
      "7\n"
     ]
    },
    {
     "data": {
      "text/plain": [
       "@0x7f822b7d9b60"
      ]
     },
     "execution_count": 13,
     "metadata": {},
     "output_type": "execute_result"
    }
   ],
   "source": [
    "//another pointer q, points to address of 3rd element of A,\n",
    "cout<<\"New q pointer\"<<endl;\n",
    "int *q = &A[3];\n",
    "cout<<q<<endl;       //0x7f28b7d5403c\n",
    "cout<<*q<<endl;       //0x7f28b7d5403c"
   ]
  },
  {
   "cell_type": "code",
   "execution_count": 14,
   "metadata": {},
   "outputs": [
    {
     "name": "stdout",
     "output_type": "stream",
     "text": [
      "3\n",
      "0x7f822ecf9068\n"
     ]
    },
    {
     "data": {
      "text/plain": [
       "@0x7f822b7d9b60"
      ]
     },
     "execution_count": 14,
     "metadata": {},
     "output_type": "execute_result"
    }
   ],
   "source": [
    "int d = q - p;     //= 3, 3 elements away from p\n",
    "cout<<d<<endl; \n",
    "cout<<&d<<endl;   //no relation"
   ]
  },
  {
   "cell_type": "code",
   "execution_count": 15,
   "metadata": {},
   "outputs": [
    {
     "name": "stdout",
     "output_type": "stream",
     "text": [
      "-3\n",
      "0x7f822ecf9068\n"
     ]
    },
    {
     "data": {
      "text/plain": [
       "@0x7f822b7d9b60"
      ]
     },
     "execution_count": 15,
     "metadata": {},
     "output_type": "execute_result"
    }
   ],
   "source": [
    "d = p - q;\n",
    "cout<<d<<endl;    //= -3, means q is further away  \n",
    "cout<<&d<<endl;   //no relation"
   ]
  },
  {
   "cell_type": "code",
   "execution_count": 16,
   "metadata": {},
   "outputs": [
    {
     "name": "stdout",
     "output_type": "stream",
     "text": [
      "More arith\n",
      "6\n"
     ]
    },
    {
     "data": {
      "text/plain": [
       "@0x7f822b7d9b60"
      ]
     },
     "execution_count": 16,
     "metadata": {},
     "output_type": "execute_result"
    }
   ],
   "source": [
    "//more arthmetic\n",
    "cout<<\"More arith\"<<endl;\n",
    "cout<<*(p+2)<<endl; //dereference and prints element 6"
   ]
  },
  {
   "cell_type": "markdown",
   "metadata": {},
   "source": [
    "+ ### Get data from data variable "
   ]
  },
  {
   "cell_type": "code",
   "execution_count": 17,
   "metadata": {},
   "outputs": [
    {
     "name": "stdout",
     "output_type": "stream",
     "text": [
      "2\n",
      "5\n",
      "6\n",
      "7\n",
      "10\n"
     ]
    }
   ],
   "source": [
    "for (int i = 0; i < 5; i++){\n",
    "    cout<<*(A+i)<<endl;\n",
    "}\n"
   ]
  },
  {
   "cell_type": "markdown",
   "metadata": {},
   "source": [
    "+ ### Get addresses from data variable "
   ]
  },
  {
   "cell_type": "code",
   "execution_count": 18,
   "metadata": {},
   "outputs": [
    {
     "name": "stdout",
     "output_type": "stream",
     "text": [
      "0x7f822ecf9030\n",
      "0x7f822ecf9034\n",
      "0x7f822ecf9038\n",
      "0x7f822ecf903c\n",
      "0x7f822ecf9040\n"
     ]
    }
   ],
   "source": [
    "for (int i = 0; i < 5; i++){\n",
    "    cout<<(A+i)<<endl;\n",
    "}"
   ]
  },
  {
   "cell_type": "markdown",
   "metadata": {},
   "source": [
    "+ ### Get data from pointer variable "
   ]
  },
  {
   "cell_type": "code",
   "execution_count": 19,
   "metadata": {},
   "outputs": [
    {
     "name": "stdout",
     "output_type": "stream",
     "text": [
      "2\n",
      "5\n",
      "6\n",
      "7\n",
      "10\n"
     ]
    }
   ],
   "source": [
    "for (int i = 0; i < 5; i++){\n",
    "    cout<<*(p+i)<<endl;\n",
    "}"
   ]
  },
  {
   "cell_type": "markdown",
   "metadata": {},
   "source": [
    "+ ### Get addresses from pointer variable "
   ]
  },
  {
   "cell_type": "code",
   "execution_count": 20,
   "metadata": {},
   "outputs": [
    {
     "name": "stdout",
     "output_type": "stream",
     "text": [
      "0x7f822ecf9030\n",
      "0x7f822ecf9034\n",
      "0x7f822ecf9038\n",
      "0x7f822ecf903c\n",
      "0x7f822ecf9040\n"
     ]
    }
   ],
   "source": [
    "for (int i = 0; i < 5; i++){\n",
    "    cout<<(p+i)<<endl;\n",
    "}\n",
    "\n"
   ]
  },
  {
   "cell_type": "code",
   "execution_count": null,
   "metadata": {},
   "outputs": [],
   "source": []
  }
 ],
 "metadata": {
  "kernelspec": {
   "display_name": "C++17",
   "language": "C++17",
   "name": "xcpp17"
  },
  "language_info": {
   "codemirror_mode": "text/x-c++src",
   "file_extension": ".cpp",
   "mimetype": "text/x-c++src",
   "name": "c++",
   "version": "-std=c++17"
  }
 },
 "nbformat": 4,
 "nbformat_minor": 2
}
