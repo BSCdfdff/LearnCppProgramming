{
 "cells": [
  {
   "cell_type": "markdown",
   "metadata": {},
   "source": [
    "# Function RETURN Parameter passing methods (*2)\n",
    "___\n",
    "\n",
    "## Pass by Reference"
   ]
  },
  {
   "attachments": {},
   "cell_type": "markdown",
   "metadata": {},
   "source": [
    "## <center>Return by Reference </center>\n",
    "___\n"
   ]
  },
  {
   "cell_type": "markdown",
   "metadata": {},
   "source": [
    "## How does it work\n",
    "\n",
    "How is the above possible return local stack addresses, wont it get de-allocated when the function fun finishes?\n",
    "\n",
    "Lets explore...\n",
    "\n",
    "```\n",
    "int x=10\n",
    "y=fun(x);\n",
    "```\n",
    "\n",
    "x is passed to fun, that is the value of x in main is passed to fun function. But the signature of fun, before it is used in fun says that the addess of x, will rather be used:\n",
    "\n",
    "int &fun(int &a)\n",
    "\n",
    "Remember the syntax if passing by reference: (the DECLARATION and INITIALISATION must happen at the same time)\n",
    "\n",
    "```\n",
    "int &y = x\n",
    "```\n",
    "\n",
    "So , by using &a in signature is similar to above syntax, as can be written as:\n",
    "\n",
    "&a = x\n",
    "\n",
    "So now we \"Obtained x\" as reference, i.e x and a is mates, infact x and s is same person.\n",
    "\n",
    "In fact, to not create a as a separate variable, i.e. create new address space, we add &a, so its same variable as x.\n",
    "\n",
    "But when we return, we need to return it by reference as well...takes what we doing here, don't forget...\n",
    "\n",
    "```\n",
    "int &fun(int &a)\n",
    "```\n",
    "\n",
    "So we have &fun as the return by reference...\n",
    "\n",
    "Also note, we always have the function on RH, such as :\n",
    "\n",
    "```\n",
    "y = fun(x)\n",
    "```\n",
    "\n",
    "\n",
    "But because \"by reference\" is nothing more than an alias of variable, fun is just variable, and we allowed to do:\n",
    "\n",
    "```\n",
    "fun(x) = 25;\n",
    "```"
   ]
  },
  {
   "cell_type": "markdown",
   "metadata": {},
   "source": [
    "## Return by Address"
   ]
  },
  {
   "cell_type": "code",
   "execution_count": 1,
   "metadata": {},
   "outputs": [],
   "source": [
    "#include <iostream>\n",
    "#include <climits>\n",
    "#include <math.h>\n",
    "using namespace std;"
   ]
  },
  {
   "cell_type": "code",
   "execution_count": 2,
   "metadata": {},
   "outputs": [],
   "source": [
    "int &fun(int &a){\n",
    "    //a++;\n",
    "    cout<<a<<endl;  //10\n",
    "    cout<<&a<<endl; //0x7f5caff53024\n",
    "    return a;\n",
    "}"
   ]
  },
  {
   "cell_type": "code",
   "execution_count": 3,
   "metadata": {},
   "outputs": [
    {
     "name": "stdout",
     "output_type": "stream",
     "text": [
      "10\n",
      "0x7f051c268024\n",
      "10\n",
      "0x7f051c268024\n",
      "10\n",
      "0x7f051c268028\n",
      "10\n",
      "0x7f051c268024\n",
      "25\n",
      "0x7f051c268024\n",
      "25\n",
      "0x7f051c268024\n",
      "25\n"
     ]
    },
    {
     "data": {
      "text/plain": [
       "@0x7f0518d48b60"
      ]
     },
     "execution_count": 3,
     "metadata": {},
     "output_type": "execute_result"
    }
   ],
   "source": [
    "int x=10, y;\n",
    "y=fun(x);\n",
    "cout<<x<<endl;  //10\n",
    "cout<<&x<<endl; //0x7f5caff53024\n",
    "cout<<y<<endl;  //10\n",
    "cout<<&y<<endl; //0x7f5caff53028\n",
    "fun(x)=25;\n",
    "cout<<x<<endl;    //25\n",
    "cout<<&x<<endl;   //0x7fc9be82b024\n",
    "y=fun(x);\n",
    "cout<<y<<endl;   //25"
   ]
  },
  {
   "cell_type": "code",
   "execution_count": null,
   "metadata": {},
   "outputs": [],
   "source": []
  }
 ],
 "metadata": {
  "kernelspec": {
   "display_name": "C++17",
   "language": "C++17",
   "name": "xcpp17"
  },
  "language_info": {
   "codemirror_mode": "text/x-c++src",
   "file_extension": ".cpp",
   "mimetype": "text/x-c++src",
   "name": "c++",
   "version": "-std=c++17"
  }
 },
 "nbformat": 4,
 "nbformat_minor": 2
}
