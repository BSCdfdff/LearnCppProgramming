{
 "cells": [
  {
   "cell_type": "markdown",
   "metadata": {},
   "source": [
    "# OOPS - Copy Constructor\n",
    "___\n",
    "\n",
    "+ Constructors - Function name is same name as Class Name\n",
    "+ Load defualt values whne object is DECLARED.\n",
    "+ Function that is AUTOMATICALLY called when function is DECLARED\n"
   ]
  },
  {
   "cell_type": "markdown",
   "metadata": {},
   "source": [
    "## Types of Constructors\n",
    "\n",
    "1. Default (by compiler; built-in)\n",
    "2. Non Parameterized \n",
    "3. Parameterized\n",
    "4. Copy Constructor"
   ]
  },
  {
   "cell_type": "code",
   "execution_count": 1,
   "metadata": {},
   "outputs": [],
   "source": [
    "#include <iostream>\n",
    "#include <climits>\n",
    "#include <math.h>\n",
    "using namespace std;"
   ]
  },
  {
   "cell_type": "markdown",
   "metadata": {},
   "source": [
    "##  Copy Constructor\n",
    "\n",
    "By taking a \"copy\" of an existing Rectangle, and using by Reference. But not by value (or address). \n",
    "\n",
    "But remember by Reference is just an alias, so a new Rectangle is **NOT** created.\n",
    "\n",
    "\n",
    "\n",
    "```\n",
    "  Rectangle(Rectangle &rect ){\n",
    "        length = rect.length;\n",
    "        breadth= rect.breadth;\n",
    "    }\n",
    "    \n",
    "```    \n",
    "\n",
    "And then to call it:\n",
    "\n",
    "```\n",
    "Rectangle r2 (r1);\n",
    "\n",
    "```    \n",
    "\n",
    "You can also have more than one constructor. This is called **Overloading Constructors**\n",
    "\n",
    "Remember the rules for overloading function:\n",
    "+ Name must be the same\n",
    "+ Arguments MUST be DIFFERENT:\n",
    "    1. Different ito Number and Type (of arguments)\n",
    "\n",
    "\n",
    "And Default arguments constructors is also allowed, e.g.:\n",
    "\n",
    "```\n",
    "Rectangle(int l=0, int b=0 ){\n",
    "        setlength (l);\n",
    "        setbreadth(b);\n",
    "}\n",
    "\n",
    "```\n",
    "\n",
    "Which means that we do not need, and may even result in name conflict error if we have:\n",
    "\n",
    "```\n",
    "Rectangle(){\n",
    "    length=0;\n",
    "    breadth = 0;\n",
    "}\n",
    "\n",
    "```"
   ]
  },
  {
   "cell_type": "code",
   "execution_count": 2,
   "metadata": {},
   "outputs": [],
   "source": [
    "class Rectangle{\n",
    "private:  \n",
    "    int length;\n",
    "    int breadth;\n",
    "public: \n",
    "    \n",
    "    Rectangle(int l, int b ){\n",
    "        setlength (l);\n",
    "        setbreadth(b);\n",
    "    }\n",
    "    \n",
    "    Rectangle(Rectangle &rect ){\n",
    "        length = rect.length;\n",
    "        breadth= rect.breadth;\n",
    "    }\n",
    "    \n",
    "    \n",
    "    void setlength(int l){\n",
    "        if (l <0){\n",
    "          length = 1;\n",
    "        }\n",
    "        else\n",
    "        {\n",
    "          length = l;       \n",
    "        }\n",
    "        \n",
    "    }\n",
    "    \n",
    "    void setbreadth(int b){\n",
    "        if (b <0){\n",
    "          breadth = 1;\n",
    "        }\n",
    "        else\n",
    "        {\n",
    "          breadth = b;       \n",
    "        }\n",
    "        \n",
    "    }\n",
    "    \n",
    "    int getlength(){\n",
    "        return length;\n",
    "    }\n",
    "        \n",
    "    int getbreadth(){\n",
    "        return breadth;\n",
    "    }\n",
    "    \n",
    "    int area(){\n",
    "        return length * breadth;\n",
    "    }\n",
    "    \n",
    "    int perimeter(){\n",
    "        return 2 *( length + breadth);\n",
    "    }\n",
    "    \n",
    "}"
   ]
  },
  {
   "cell_type": "code",
   "execution_count": 3,
   "metadata": {},
   "outputs": [],
   "source": [
    "Rectangle r1 (10,5);"
   ]
  },
  {
   "cell_type": "code",
   "execution_count": 4,
   "metadata": {},
   "outputs": [
    {
     "name": "stdout",
     "output_type": "stream",
     "text": [
      "10\n",
      "5\n"
     ]
    }
   ],
   "source": [
    "cout<<r1.getlength()<<endl;\n",
    "cout<<r1.getbreadth()<<endl;"
   ]
  },
  {
   "cell_type": "code",
   "execution_count": 5,
   "metadata": {},
   "outputs": [],
   "source": [
    "Rectangle r2 (r1);\n"
   ]
  },
  {
   "cell_type": "code",
   "execution_count": 6,
   "metadata": {},
   "outputs": [
    {
     "name": "stdout",
     "output_type": "stream",
     "text": [
      "10\n",
      "5\n"
     ]
    }
   ],
   "source": [
    "cout<<r2.getlength()<<endl;\n",
    "cout<<r2.getbreadth()<<endl;"
   ]
  },
  {
   "cell_type": "code",
   "execution_count": 7,
   "metadata": {},
   "outputs": [],
   "source": [
    "r1.setlength(50);\n",
    "r1.setbreadth(10);"
   ]
  },
  {
   "cell_type": "code",
   "execution_count": 8,
   "metadata": {},
   "outputs": [
    {
     "name": "stdout",
     "output_type": "stream",
     "text": [
      "50\n",
      "10\n"
     ]
    }
   ],
   "source": [
    "cout<<r1.getlength()<<endl;\n",
    "cout<<r1.getbreadth()<<endl;"
   ]
  },
  {
   "cell_type": "markdown",
   "metadata": {},
   "source": [
    "##Gets the initial copy, but does not get updated whrn r1 get new values\n",
    "\n",
    "So is ist really by Reference???"
   ]
  },
  {
   "cell_type": "code",
   "execution_count": 9,
   "metadata": {},
   "outputs": [
    {
     "name": "stdout",
     "output_type": "stream",
     "text": [
      "10\n",
      "5\n"
     ]
    }
   ],
   "source": [
    "cout<<r2.getlength()<<endl;\n",
    "cout<<r2.getbreadth()<<endl;"
   ]
  },
  {
   "cell_type": "code",
   "execution_count": 10,
   "metadata": {},
   "outputs": [],
   "source": [
    "r2.setlength(150);\n",
    "r2.setbreadth(110);"
   ]
  },
  {
   "cell_type": "code",
   "execution_count": 11,
   "metadata": {},
   "outputs": [
    {
     "name": "stdout",
     "output_type": "stream",
     "text": [
      "150\n",
      "110\n"
     ]
    }
   ],
   "source": [
    "cout<<r2.getlength()<<endl;\n",
    "cout<<r2.getbreadth()<<endl;"
   ]
  },
  {
   "cell_type": "code",
   "execution_count": 12,
   "metadata": {},
   "outputs": [
    {
     "name": "stdout",
     "output_type": "stream",
     "text": [
      "50\n",
      "10\n"
     ]
    }
   ],
   "source": [
    "cout<<r1.getlength()<<endl;\n",
    "cout<<r1.getbreadth()<<endl;"
   ]
  },
  {
   "cell_type": "code",
   "execution_count": null,
   "metadata": {},
   "outputs": [],
   "source": []
  }
 ],
 "metadata": {
  "kernelspec": {
   "display_name": "C++17",
   "language": "C++17",
   "name": "xcpp17"
  },
  "language_info": {
   "codemirror_mode": "text/x-c++src",
   "file_extension": ".cpp",
   "mimetype": "text/x-c++src",
   "name": "c++",
   "version": "-std=c++17"
  }
 },
 "nbformat": 4,
 "nbformat_minor": 2
}
