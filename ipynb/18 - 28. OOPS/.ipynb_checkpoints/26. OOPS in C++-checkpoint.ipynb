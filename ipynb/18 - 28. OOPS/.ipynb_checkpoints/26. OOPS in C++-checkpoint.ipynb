{
 "cells": [
  {
   "cell_type": "markdown",
   "metadata": {},
   "source": [
    "# OOPS - Types of Functions in Class\n",
    "___\n",
    "\n",
    "+ Deep Copy Constructor"
   ]
  },
  {
   "cell_type": "markdown",
   "metadata": {},
   "source": [
    "## Types of Functions that you can write in a Class\n",
    "\n",
    "These are guidelines, and not mandatory, bur if you write all these methods in a class then it may be 100% correct.\n",
    "\n",
    "### Constructors\n",
    "```\n",
    "Rectangle(int l, int b );\n",
    "Rectangle(Rectangle &rect );\n",
    "```\n",
    "\n",
    "### Mutators\n",
    "```\n",
    "void setlength(int l);\n",
    "void setbreadth(int b);\n",
    "```\n",
    "\n",
    "### Accessors\n",
    "```\n",
    "int getlength();\n",
    "int getbreadth();\n",
    "\n",
    "```\n",
    "\n",
    "### Facilitators\n",
    "```\n",
    "int area();\n",
    "int perimeter();\n",
    "\n",
    "```\n",
    "\n",
    "### Enquiry\n",
    "```\n",
    "int isSquare();\n",
    "\n",
    "```\n",
    "### Destructors\n",
    "```\n",
    "~Rectangle();\n",
    "\n",
    "```"
   ]
  },
  {
   "cell_type": "code",
   "execution_count": 1,
   "metadata": {},
   "outputs": [],
   "source": [
    "#include <iostream>\n",
    "#include <climits>\n",
    "#include <math.h>\n",
    "using namespace std;"
   ]
  },
  {
   "cell_type": "code",
   "execution_count": 2,
   "metadata": {},
   "outputs": [],
   "source": [
    "class Rectangle{\n",
    "private:  \n",
    "    int length;\n",
    "    int breadth;\n",
    "public: \n",
    "    \n",
    "    Rectangle(int l, int b );\n",
    "    Rectangle(Rectangle &rect );\n",
    "    void setlength(int l);\n",
    "    void setbreadth(int b);\n",
    "    int getlength();\n",
    "    int getbreadth();\n",
    "    int area();\n",
    "    int perimeter();\n",
    "    int isSquare();\n",
    "    ~Rectangle();       \n",
    "    \n",
    "}"
   ]
  },
  {
   "cell_type": "code",
   "execution_count": null,
   "metadata": {},
   "outputs": [],
   "source": []
  }
 ],
 "metadata": {
  "kernelspec": {
   "display_name": "C++17",
   "language": "C++17",
   "name": "xcpp17"
  },
  "language_info": {
   "codemirror_mode": "text/x-c++src",
   "file_extension": ".cpp",
   "mimetype": "text/x-c++src",
   "name": "c++",
   "version": "-std=c++17"
  }
 },
 "nbformat": 4,
 "nbformat_minor": 2
}
