{
 "cells": [
  {
   "cell_type": "markdown",
   "metadata": {},
   "source": [
    "# OOPS\n",
    "___\n",
    "\n",
    "+ Data Hiding\n",
    "+ Data variables should be private to class\n",
    "+ When data variables are private, then cannot read or write it. Must be done throught function\n",
    "+ Only functions should be public"
   ]
  },
  {
   "cell_type": "code",
   "execution_count": 1,
   "metadata": {},
   "outputs": [],
   "source": [
    "#include <iostream>\n",
    "#include <climits>\n",
    "#include <math.h>\n",
    "using namespace std;"
   ]
  },
  {
   "cell_type": "code",
   "execution_count": 2,
   "metadata": {},
   "outputs": [],
   "source": [
    "class Rectangle{\n",
    "private:  \n",
    "    int length;\n",
    "    int breadth;\n",
    "public:    \n",
    "    void setlength(int l){\n",
    "        if (l <0){\n",
    "          length = 1;\n",
    "        }\n",
    "        else\n",
    "        {\n",
    "          length = l;       \n",
    "        }\n",
    "        \n",
    "    }\n",
    "    \n",
    "    void setbreadth(int b){\n",
    "        if (b <0){\n",
    "          breadth = 1;\n",
    "        }\n",
    "        else\n",
    "        {\n",
    "          breadth = b;       \n",
    "        }\n",
    "        \n",
    "    }\n",
    "    \n",
    "    int getlength(){\n",
    "        return length;\n",
    "    }\n",
    "        \n",
    "    int getbreadth(){\n",
    "        return breadth;\n",
    "    }\n",
    "    \n",
    "    int area(){\n",
    "        return length * breadth;\n",
    "    }\n",
    "    \n",
    "    int perimeter(){\n",
    "        return 2 *( length + breadth);\n",
    "    }\n",
    "    \n",
    "}"
   ]
  },
  {
   "cell_type": "code",
   "execution_count": 3,
   "metadata": {},
   "outputs": [],
   "source": [
    "Rectangle r1;\n",
    "r1.setlength(10);\n",
    "r1.setbreadth(5);\n",
    "\n",
    "    "
   ]
  },
  {
   "cell_type": "code",
   "execution_count": 4,
   "metadata": {},
   "outputs": [
    {
     "name": "stdout",
     "output_type": "stream",
     "text": [
      "50\n",
      "30\n"
     ]
    }
   ],
   "source": [
    "cout<<r1.area()<<endl;\n",
    "cout<<r1.perimeter()<<endl;"
   ]
  },
  {
   "cell_type": "code",
   "execution_count": null,
   "metadata": {},
   "outputs": [],
   "source": []
  }
 ],
 "metadata": {
  "kernelspec": {
   "display_name": "C++17",
   "language": "C++17",
   "name": "xcpp17"
  },
  "language_info": {
   "codemirror_mode": "text/x-c++src",
   "file_extension": ".cpp",
   "mimetype": "text/x-c++src",
   "name": "c++",
   "version": "-std=c++17"
  }
 },
 "nbformat": 4,
 "nbformat_minor": 2
}
