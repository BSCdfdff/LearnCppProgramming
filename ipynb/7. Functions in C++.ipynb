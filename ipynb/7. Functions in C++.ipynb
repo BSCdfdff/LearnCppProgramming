{
 "cells": [
  {
   "cell_type": "markdown",
   "metadata": {},
   "source": [
    "# Function Overloading\n",
    "___\n",
    "\n",
    "## The Function Name must be the SAME, but:\n",
    "### 1.  Arguments (i.e datatype cannot be the same) (otherwise it will error on \"name conflict\")\n",
    "### 2.  Return type can be different\n",
    "### 3. Return type can be the same"
   ]
  },
  {
   "cell_type": "markdown",
   "metadata": {},
   "source": [
    "## Eg of signature, but NOT required anymore as its combined (below) with overloading function\n",
    "    \n",
    "    ### Examples of function overloading\n",
    "\n",
    "    int addition(int x, int y){\n",
    "      return x+y;    \n",
    "    }\n",
    "    \n",
    "    int addition(int x, int y, int z){\n",
    "     return x+y+z;    \n",
    "    }\n",
    "\n",
    "\n",
    "    float addition(float x, float y){\n",
    "     return x+y;    \n",
    "    }\n"
   ]
  },
  {
   "cell_type": "markdown",
   "metadata": {},
   "source": [
    "## NOT Function Overloading\n",
    "\n",
    "+  ### Arguments CANNOT be the same\n",
    "\n",
    "        long addition(int x, int y){\n",
    "           return x+y;    \n",
    "        }\n",
    "\n",
    "    "
   ]
  },
  {
   "cell_type": "markdown",
   "metadata": {},
   "source": [
    "## Combining DEFAULT values with Overloading"
   ]
  },
  {
   "cell_type": "markdown",
   "metadata": {},
   "source": [
    "+  ### Rules for defualt values:\n",
    "        1. Start from RHS to LHS\n",
    "        2. DO NOT skip arguments"
   ]
  },
  {
   "cell_type": "code",
   "execution_count": 1,
   "metadata": {},
   "outputs": [],
   "source": [
    "#include <iostream>\n",
    "#include <climits>\n",
    "#include <math.h>\n",
    "using namespace std;"
   ]
  },
  {
   "cell_type": "code",
   "execution_count": 2,
   "metadata": {},
   "outputs": [],
   "source": [
    "int addition(int x=0, int y=0, int z = 0){\n",
    " return x+y+z;    \n",
    "}"
   ]
  },
  {
   "cell_type": "code",
   "execution_count": 3,
   "metadata": {},
   "outputs": [],
   "source": [
    "float addition(float x, float y){\n",
    " return x+y;    \n",
    "}\n"
   ]
  },
  {
   "cell_type": "code",
   "execution_count": 4,
   "metadata": {},
   "outputs": [],
   "source": [
    "int a, b, c;\n",
    "float d;\n",
    "a= addition(1);\n",
    "b= addition(1,2);\n",
    "c= addition(1,2,3);\n",
    "d= addition(3.4f, 4.7f);"
   ]
  },
  {
   "cell_type": "code",
   "execution_count": null,
   "metadata": {},
   "outputs": [],
   "source": []
  }
 ],
 "metadata": {
  "kernelspec": {
   "display_name": "C++17",
   "language": "C++17",
   "name": "xcpp17"
  },
  "language_info": {
   "codemirror_mode": "text/x-c++src",
   "file_extension": ".cpp",
   "mimetype": "text/x-c++src",
   "name": "c++",
   "version": "-std=c++17"
  }
 },
 "nbformat": 4,
 "nbformat_minor": 2
}
