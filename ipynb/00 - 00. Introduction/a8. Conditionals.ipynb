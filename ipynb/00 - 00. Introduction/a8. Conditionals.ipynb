{
 "cells": [
  {
   "cell_type": "markdown",
   "metadata": {},
   "source": [
    "# Conditions\n",
    "\n",
    "Using relational operators"
   ]
  },
  {
   "cell_type": "markdown",
   "metadata": {},
   "source": [
    "## How does it work\n",
    "```\n",
    "<\n",
    "<=\n",
    ">\n",
    ">=\n",
    "==\n",
    "!=\n",
    "Combine using logical operators\n",
    "&& (and)\n",
    "|| (or)\n",
    "! (not)\n",
    "=====\n",
    "Dynamic Declaration\n",
    "```\n"
   ]
  },
  {
   "cell_type": "code",
   "execution_count": 1,
   "metadata": {},
   "outputs": [],
   "source": [
    "#include <iostream>\n",
    "#include <climits>\n",
    "using namespace std;"
   ]
  },
  {
   "cell_type": "code",
   "execution_count": 2,
   "metadata": {},
   "outputs": [
    {
     "name": "stdout",
     "output_type": "stream",
     "text": [
      "Yes\n"
     ]
    }
   ],
   "source": [
    "if (true)\n",
    "{\n",
    "    cout<<\"Yes\"<<endl;\n",
    "}\n",
    "else\n",
    "{\n",
    "    cout<<\"No\"<<endl;\n",
    "}"
   ]
  },
  {
   "cell_type": "code",
   "execution_count": 3,
   "metadata": {},
   "outputs": [
    {
     "name": "stdout",
     "output_type": "stream",
     "text": [
      "Enter roll:\n",
      "3\n"
     ]
    }
   ],
   "source": [
    "int roll;\n",
    "\n",
    "cout<<\"Enter roll:\"<<endl;\n",
    "cin>>roll;"
   ]
  },
  {
   "cell_type": "code",
   "execution_count": 4,
   "metadata": {},
   "outputs": [
    {
     "name": "stdout",
     "output_type": "stream",
     "text": [
      "Roll is 3\n"
     ]
    }
   ],
   "source": [
    "if (roll<=0)\n",
    "{\n",
    "    cout<<\"Invalid roll\";\n",
    "}\n",
    "else\n",
    "{\n",
    "    cout<<\"Roll is \"<<roll<<endl;\n",
    "}"
   ]
  },
  {
   "cell_type": "markdown",
   "metadata": {},
   "source": [
    "Compound conditional statement"
   ]
  },
  {
   "cell_type": "code",
   "execution_count": 5,
   "metadata": {},
   "outputs": [
    {
     "name": "stdout",
     "output_type": "stream",
     "text": [
      "Enter age:\n"
     ]
    }
   ],
   "source": [
    "int age;\n",
    "cout<<\"Enter age:\"<<endl;\n"
   ]
  },
  {
   "cell_type": "code",
   "execution_count": 6,
   "metadata": {},
   "outputs": [
    {
     "name": "stdout",
     "output_type": "stream",
     "text": [
      "Enjoy"
     ]
    }
   ],
   "source": [
    "if (age>=12 && age<=50)\n",
    "{\n",
    "    cout<<\"Young\";\n",
    "}\n",
    "else if (age>=7 && age <=11)\n",
    "{\n",
    "    cout<<\"You just a child\"<<endl;\n",
    "}\n",
    "else\n",
    "{\n",
    "    cout<<\"Enjoy\";\n",
    "}"
   ]
  },
  {
   "cell_type": "markdown",
   "metadata": {},
   "source": [
    "Dynamic Declaration\n",
    "\n",
    "Declaration happens inside if.\n",
    "\n",
    "Since, when the if exits, memoery space occupped by variable is removed"
   ]
  },
  {
   "cell_type": "code",
   "execution_count": 7,
   "metadata": {},
   "outputs": [
    {
     "name": "stdout",
     "output_type": "stream",
     "text": [
      "Not Found\n"
     ]
    }
   ],
   "source": [
    "int pp=20;\n",
    "if (int k=12; pp < 20) //(same as &&)(only available with -std=c++17 or -std=gnu++17)\n",
    "{\n",
    "    cout<<\"Found\"<<endl;\n",
    "}\n",
    "else\n",
    "{\n",
    "    cout<<\"Not Found\"<<endl;\n",
    "}"
   ]
  },
  {
   "cell_type": "markdown",
   "metadata": {},
   "source": [
    "switch case covered\n",
    "same, no issues"
   ]
  }
 ],
 "metadata": {
  "kernelspec": {
   "display_name": "C++17",
   "language": "C++17",
   "name": "xcpp17"
  },
  "language_info": {
   "codemirror_mode": "text/x-c++src",
   "file_extension": ".cpp",
   "mimetype": "text/x-c++src",
   "name": "c++",
   "version": "-std=c++17"
  }
 },
 "nbformat": 4,
 "nbformat_minor": 2
}
