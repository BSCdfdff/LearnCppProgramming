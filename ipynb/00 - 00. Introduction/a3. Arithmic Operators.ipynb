{
 "cells": [
  {
   "cell_type": "markdown",
   "metadata": {},
   "source": [
    "# Arithmic Operators\n"
   ]
  },
  {
   "cell_type": "code",
   "execution_count": 1,
   "metadata": {},
   "outputs": [],
   "source": [
    "#include <iostream>\n",
    "#include <climits>\n",
    "using namespace std;"
   ]
  },
  {
   "cell_type": "markdown",
   "metadata": {},
   "source": [
    "#### Order of precedence (), *, /, % (modules, ie remainder), + , -\n",
    "\n",
    "\n"
   ]
  },
  {
   "cell_type": "code",
   "execution_count": 2,
   "metadata": {},
   "outputs": [
    {
     "name": "stdout",
     "output_type": "stream",
     "text": [
      "3\n"
     ]
    }
   ],
   "source": [
    "int a = 13, b = 5, c;\n",
    "c=a/b;\n",
    "c=a%b;\n",
    "\n",
    "cout<<c<< endl;"
   ]
  },
  {
   "cell_type": "markdown",
   "metadata": {},
   "source": [
    "#### Float values"
   ]
  },
  {
   "cell_type": "code",
   "execution_count": 3,
   "metadata": {},
   "outputs": [
    {
     "data": {
      "text/plain": [
       "2.0492f"
      ]
     },
     "execution_count": 3,
     "metadata": {},
     "output_type": "execute_result"
    }
   ],
   "source": [
    "float aa = 12.5f, bb=6.1f, cc;\n",
    "cc=aa/bb; \n",
    "\n"
   ]
  },
  {
   "cell_type": "markdown",
   "metadata": {},
   "source": [
    "Cannot say ```cc=aa%bb``` (modulus)\n",
    "\n",
    "ONLY works with INT and CHARs"
   ]
  },
  {
   "cell_type": "markdown",
   "metadata": {},
   "source": [
    "#### Lets look at expressions\n",
    "\n",
    "Dont need parenthesis if you know order of precedence\n",
    "\n",
    "```k = (a+b)+(c*d)```"
   ]
  },
  {
   "cell_type": "code",
   "execution_count": 4,
   "metadata": {},
   "outputs": [],
   "source": [
    "int a1=10, b1=2, c1=3, d1=10, k1;"
   ]
  },
  {
   "cell_type": "markdown",
   "metadata": {},
   "source": [
    "### Get first into postfix form - Compiler\n",
    "\n",
    "Compiler will put brackets first (c*d), then (a+b), \n",
    "\n",
    "Then whole thing: ((a+b)+(c*d)), then order will be\n",
    "\n",
    "first (a+b), then (c*d), and (a+b)+(c*d)\n",
    "\n",
    "So (c*d) wont be first, but will get first()\n",
    "\n",
    "Idea here: must put brackets if result will be wrong"
   ]
  },
  {
   "cell_type": "code",
   "execution_count": 5,
   "metadata": {},
   "outputs": [
    {
     "name": "stdout",
     "output_type": "stream",
     "text": [
      "42\n"
     ]
    }
   ],
   "source": [
    "k1 = a1+b1+c1*d1;\n",
    "cout<<k1<< endl;"
   ]
  },
  {
   "cell_type": "markdown",
   "metadata": {},
   "source": [
    "#### Area of circle\n",
    "\n",
    "pi*r ^2\n",
    "\n",
    "3.1425*r*r"
   ]
  },
  {
   "cell_type": "code",
   "execution_count": 6,
   "metadata": {},
   "outputs": [
    {
     "name": "stdout",
     "output_type": "stream",
     "text": [
      "Enter Radius:\n",
      "5\n",
      "Area is:75\n"
     ]
    }
   ],
   "source": [
    "float r, area;\n",
    "cout<<\"Enter Radius:\"<< endl;\n",
    "cin>>r;\n",
    "area = float(22/7) * r * r;\n",
    "cout<<\"Area is:\"<< area<< endl;"
   ]
  },
  {
   "cell_type": "markdown",
   "metadata": {},
   "source": [
    "#### Root of quadratic equation\n",
    "\n",
    "Idea here: must put brackets if result wil be wrong (2*c)\n",
    "\n",
    "root1=(-b+sqrt(b*b-4*a*c))/(2*c)"
   ]
  },
  {
   "cell_type": "code",
   "execution_count": 7,
   "metadata": {},
   "outputs": [
    {
     "name": "stdout",
     "output_type": "stream",
     "text": [
      "Enter 3 values:\n",
      "12\n",
      "12\n",
      "12\n",
      "-nan -nan\n"
     ]
    }
   ],
   "source": [
    "int a3, b3, c3;\n",
    "float root1, root2;\n",
    "cout<<\"Enter 3 values:\"<<endl;\n",
    "cin>>a3>>b3>>c3;\n",
    "root1 = (-b3+sqrt(b3*b3-4*a3*c3))/(2*a3);\n",
    "root2 = (-b3-sqrt(b3*b3-4*a3*c3))/(2*a3);\n",
    "cout<<root1<<\" \"<<root2<<endl;\n"
   ]
  }
 ],
 "metadata": {
  "kernelspec": {
   "display_name": "C++17",
   "language": "C++17",
   "name": "xcpp17"
  },
  "language_info": {
   "codemirror_mode": "text/x-c++src",
   "file_extension": ".cpp",
   "mimetype": "text/x-c++src",
   "name": "c++",
   "version": "-std=c++17"
  }
 },
 "nbformat": 4,
 "nbformat_minor": 2
}
