{
 "cells": [
  {
   "cell_type": "markdown",
   "metadata": {},
   "source": [
    "# MyFirst C++"
   ]
  },
  {
   "cell_type": "markdown",
   "metadata": {},
   "source": [
    "#### This is the Input / Output stream directive \n",
    "To use cout, cin"
   ]
  },
  {
   "cell_type": "code",
   "execution_count": 1,
   "metadata": {},
   "outputs": [],
   "source": [
    "#include <iostream>"
   ]
  },
  {
   "cell_type": "markdown",
   "metadata": {},
   "source": [
    "#### Instead of writing std::cout\n",
    "You dont have to prefix it with std::"
   ]
  },
  {
   "cell_type": "code",
   "execution_count": 2,
   "metadata": {},
   "outputs": [],
   "source": [
    "using namespace std;"
   ]
  },
  {
   "cell_type": "markdown",
   "metadata": {},
   "source": [
    "#### Declare variables"
   ]
  },
  {
   "cell_type": "code",
   "execution_count": 3,
   "metadata": {},
   "outputs": [],
   "source": [
    "int a,b,c;\n",
    "string username, addressLine;"
   ]
  },
  {
   "cell_type": "markdown",
   "metadata": {},
   "source": [
    "#### cout is to display something on screen\n",
    "\n",
    "``<<``  called INSERTION operator\n",
    "\n",
    "To remember: Going to left, \"out\" of traffic\n"
   ]
  },
  {
   "cell_type": "markdown",
   "metadata": {},
   "source": [
    "#### cint is to READ from keyboard\n",
    "\n",
    "``>>``  called EXTRACTION operator\n",
    "\n",
    "To remember: Going to right, \"in\" to traffic"
   ]
  },
  {
   "cell_type": "code",
   "execution_count": 4,
   "metadata": {},
   "outputs": [
    {
     "name": "stdout",
     "output_type": "stream",
     "text": [
      "10\n",
      "10\n",
      "Sum is: 20\n"
     ]
    }
   ],
   "source": [
    "cin >> a >> b;\n",
    "c=a+b;\n",
    "cout<< \"Sum is: \"<<c<<endl;"
   ]
  },
  {
   "cell_type": "code",
   "execution_count": 5,
   "metadata": {},
   "outputs": [
    {
     "name": "stdout",
     "output_type": "stream",
     "text": [
      "Please enter your name:\n",
      "Robbie\n",
      "Hi there, Robbie\n"
     ]
    }
   ],
   "source": [
    "cout << \"Please enter your name:\" << endl;\n",
    "cin >> username;\n",
    "cout << \"Hi there, \" << username << endl;"
   ]
  },
  {
   "cell_type": "code",
   "execution_count": 6,
   "metadata": {},
   "outputs": [
    {
     "name": "stdout",
     "output_type": "stream",
     "text": [
      "Please enter your address:\n",
      "344 Kent\n",
      "You stay at:, 344 Kent\n"
     ]
    }
   ],
   "source": [
    "cout<< \"Please enter your address:\" << endl;\n",
    "getline(cin, addressLine);\n",
    "\n",
    "cout << \"You stay at:, \" << addressLine << endl;"
   ]
  },
  {
   "cell_type": "code",
   "execution_count": null,
   "metadata": {},
   "outputs": [],
   "source": []
  }
 ],
 "metadata": {
  "kernelspec": {
   "display_name": "C++17 [conda env:cling-test]",
   "language": "C++17",
   "name": "conda-env-cling-test-xcpp17"
  },
  "language_info": {
   "codemirror_mode": "text/x-c++src",
   "file_extension": ".cpp",
   "mimetype": "text/x-c++src",
   "name": "c++",
   "version": "17"
  }
 },
 "nbformat": 4,
 "nbformat_minor": 2
}
