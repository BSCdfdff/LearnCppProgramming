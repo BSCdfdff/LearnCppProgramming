{
 "cells": [
  {
   "cell_type": "markdown",
   "metadata": {},
   "source": [
    "# Compound assignments\n"
   ]
  },
  {
   "cell_type": "code",
   "execution_count": 1,
   "metadata": {},
   "outputs": [],
   "source": [
    "#include <iostream>\n",
    "#include <climits>\n",
    "using namespace std;"
   ]
  },
  {
   "cell_type": "markdown",
   "metadata": {},
   "source": [
    "#### Order of precedence (), *, /, % (modules, ie remainder), + , -\n",
    "\n",
    "\n"
   ]
  },
  {
   "cell_type": "code",
   "execution_count": 2,
   "metadata": {},
   "outputs": [],
   "source": [
    "int sum = 5, x = 2;"
   ]
  },
  {
   "cell_type": "markdown",
   "metadata": {},
   "source": [
    "sum = sum + x;\n",
    "\n",
    "+=, *=, /=, -=,%= "
   ]
  },
  {
   "cell_type": "code",
   "execution_count": 3,
   "metadata": {},
   "outputs": [],
   "source": [
    "sum+=\n",
    "x= x +1 ;\n",
    "x+=1;\n"
   ]
  },
  {
   "cell_type": "markdown",
   "metadata": {},
   "source": [
    "post increment\n",
    "\n",
    "very important\n",
    "\n",
    "x=5\n",
    "\n",
    "j=++x (x:6, j:6), not same as j=x++ (x:6, y:5)"
   ]
  },
  {
   "cell_type": "code",
   "execution_count": 4,
   "metadata": {},
   "outputs": [],
   "source": [
    "x++;"
   ]
  },
  {
   "cell_type": "markdown",
   "metadata": {},
   "source": [
    "same, but faster\n",
    "\n",
    "just order of precedence\n",
    "\n",
    "preincrement"
   ]
  },
  {
   "cell_type": "code",
   "execution_count": 5,
   "metadata": {},
   "outputs": [],
   "source": [
    "++x;"
   ]
  },
  {
   "cell_type": "markdown",
   "metadata": {},
   "source": [
    "#### Example\n",
    "\n"
   ]
  },
  {
   "cell_type": "code",
   "execution_count": 6,
   "metadata": {},
   "outputs": [],
   "source": [
    "int i=5, j;"
   ]
  },
  {
   "cell_type": "markdown",
   "metadata": {},
   "source": [
    "(2*6) + (2*5) = i=(5+1+1) j=(2*(5+1)=12 + (2*6)=12 =24 (??26)\n",
    "\n",
    "reason missing 2, is that after first ++i, need increment need use this value of i in next i++\n",
    "\n",
    "i=(5+1+1) j=(2*(5+1)=12 + (2*7)=14 =26"
   ]
  },
  {
   "cell_type": "code",
   "execution_count": 7,
   "metadata": {},
   "outputs": [
    {
     "name": "stderr",
     "output_type": "stream",
     "text": [
      "\u001b[1minput_line_14:2:9: \u001b[0m\u001b[0;1;35mwarning: \u001b[0m\u001b[1mmultiple unsequenced modifications to 'i' [-Wunsequenced]\u001b[0m\n",
      " j = 2* ++i +2 * i++;\n",
      "\u001b[0;1;32m        ^         ~~\n",
      "\u001b[0m"
     ]
    },
    {
     "name": "stdout",
     "output_type": "stream",
     "text": [
      "7 24\n"
     ]
    }
   ],
   "source": [
    "j = 2* ++i +2 * i++;\n",
    "cout<<i<<\" \"<<j<<endl;\n"
   ]
  },
  {
   "cell_type": "code",
   "execution_count": 8,
   "metadata": {},
   "outputs": [],
   "source": [
    "int ii=5, jj;"
   ]
  },
  {
   "cell_type": "markdown",
   "metadata": {},
   "source": [
    "(2*5) + (2*5) = ii=(5+1+1) jj=(2*(5)=10 + (2*5)=10 =20 (??22)\n",
    "\n",
    "reason missing 2, is that after first ++i, need increment need use this value of i in next i++\n",
    "\n",
    "ii=(5+1+1) jj=(2*(5)=10 + (2*6)=12 =22 (??22)"
   ]
  },
  {
   "cell_type": "code",
   "execution_count": 9,
   "metadata": {},
   "outputs": [
    {
     "name": "stderr",
     "output_type": "stream",
     "text": [
      "\u001b[1minput_line_16:3:11: \u001b[0m\u001b[0;1;35mwarning: \u001b[0m\u001b[1mmultiple unsequenced modifications to 'ii' [-Wunsequenced]\u001b[0m\n",
      "jj = 2* ii++ +2 * ii++;\n",
      "\u001b[0;1;32m          ^         ~~\n",
      "\u001b[0m"
     ]
    },
    {
     "name": "stdout",
     "output_type": "stream",
     "text": [
      "5 0\n",
      "7 22\n"
     ]
    }
   ],
   "source": [
    "cout<<ii<<\" \"<<jj<<endl;\n",
    "jj = 2* ii++ +2 * ii++;\n",
    "cout<<ii<<\" \"<<jj<<endl;"
   ]
  }
 ],
 "metadata": {
  "kernelspec": {
   "display_name": "C++17",
   "language": "C++17",
   "name": "xcpp17"
  },
  "language_info": {
   "codemirror_mode": "text/x-c++src",
   "file_extension": ".cpp",
   "mimetype": "text/x-c++src",
   "name": "c++",
   "version": "-std=c++17"
  }
 },
 "nbformat": 4,
 "nbformat_minor": 2
}
