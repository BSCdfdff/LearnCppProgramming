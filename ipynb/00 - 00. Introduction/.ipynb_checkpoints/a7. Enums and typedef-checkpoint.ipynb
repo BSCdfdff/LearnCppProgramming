{
 "cells": [
  {
   "cell_type": "markdown",
   "metadata": {},
   "source": [
    "# BitWise operators\n",
    "\n",
    "\n",
    "Where needed: Develop Device driver, system apps etc.\n",
    "\n",
    "Opeations on bits of data, not on data as whole"
   ]
  },
  {
   "cell_type": "markdown",
   "metadata": {},
   "source": [
    "## How does it work\n",
    "\n",
    "```\n",
    "&   and \n",
    "|   or\n",
    "^z  -or\n",
    "~   not\n",
    "<<  Left shift\n",
    ">> right shift\n",
    "------------\n",
    "bit 1 & bit 2 (same as logical and)\n",
    "0 0 =0\n",
    "1 0 =0\n",
    "0 1 =0\n",
    "1 1 =1\n",
    "--------\n",
    "bit 1 | bit 2 \n",
    "0 0 =0\n",
    "1 0 =0\n",
    "0 1 =0\n",
    "1 1 =1\n",
    "------\n",
    "bit 1 ^ bit 2  (if one bits are 1(different), is 1, but 0 if both bits same)\n",
    "0 0 =0\n",
    "1 0 =1\n",
    "0 1 =1\n",
    "1 1 =0\n",
    "------\n",
    "bit 1 ~ bit 2  ()\n",
    "0 0 =\n",
    "1 0 =\n",
    "0 1 =\n",
    "1 1 =\n",
    "------\n",
    "bit 1 << bit 2  ()\n",
    "0 0 =\n",
    "1 0 =\n",
    "0 1 =\n",
    "1 1 =\n",
    "------\n",
    "bit 1 >> bit 2  ()\n",
    "0 0 =\n",
    "1 0 =\n",
    "0 1 =\n",
    "1 1 =\n",
    "------\n",
    "\n",
    "&   and \n",
    "|   or\n",
    "^x  -or\n",
    "~   not\n",
    "<<  Left shift\n",
    ">>  right shift\n",
    "*/\n",
    "```"
   ]
  },
  {
   "cell_type": "code",
   "execution_count": 1,
   "metadata": {},
   "outputs": [],
   "source": [
    "#include <iostream>\n",
    "#include <climits>\n",
    "using namespace std;"
   ]
  },
  {
   "cell_type": "code",
   "execution_count": 2,
   "metadata": {},
   "outputs": [],
   "source": [
    "int x=11, y=5, z;"
   ]
  },
  {
   "cell_type": "markdown",
   "metadata": {},
   "source": [
    "#### Binary Form\n",
    "\n",
    "```\n",
    "x=00001011 (11)\n",
    "y 00000101 (3)\n",
    "----------\n",
    "z=00000001 (using & table above) (s)\n",
    "if y = 7, z = 3 (00000011)\n",
    "```\n"
   ]
  },
  {
   "cell_type": "code",
   "execution_count": 3,
   "metadata": {},
   "outputs": [
    {
     "name": "stdout",
     "output_type": "stream",
     "text": [
      "1\n"
     ]
    }
   ],
   "source": [
    "z = x & y;\n",
    "cout<<z<<endl;"
   ]
  },
  {
   "cell_type": "code",
   "execution_count": 4,
   "metadata": {},
   "outputs": [],
   "source": [
    "z = x | y;"
   ]
  },
  {
   "cell_type": "markdown",
   "metadata": {},
   "source": [
    "```\n",
    "x=00001011 (11)\n",
    "y 00000111 (7)\n",
    "----------\n",
    "z=00001111 (using & table above)(15)  \n",
    "=256-128-64-32-8-4-2-1 (how to add)\n",
    "```"
   ]
  },
  {
   "cell_type": "code",
   "execution_count": 5,
   "metadata": {},
   "outputs": [
    {
     "name": "stdout",
     "output_type": "stream",
     "text": [
      "15\n"
     ]
    }
   ],
   "source": [
    "cout<<z<<endl;"
   ]
  },
  {
   "cell_type": "code",
   "execution_count": 6,
   "metadata": {},
   "outputs": [],
   "source": [
    "z = x ^ y;  "
   ]
  },
  {
   "cell_type": "markdown",
   "metadata": {},
   "source": [
    "```\n",
    "x=00001011 (11)\n",
    "y 00000111 (7)\n",
    "----------s\n",
    "z=00001100 (using & table above)(12) \n",
    "```"
   ]
  },
  {
   "cell_type": "code",
   "execution_count": 7,
   "metadata": {},
   "outputs": [],
   "source": [
    "char xx=5, yy;"
   ]
  },
  {
   "cell_type": "markdown",
   "metadata": {},
   "source": [
    "```\n",
    "binary form\n",
    "5=00001101 (5)\n",
    "y= () (opposite of what it is)\n",
    "This is compliment or not of xs\n",
    "covert up to 2's compliment (to ger negative number)\n",
    "What is value in decimal form (conver to 2's compliment)\n",
    "11110010\n",
    "===========\n",
    "00001101(convert 1's to 0, and 0s to 1)\n",
    "       1(then add 1 to this number)\n",
    "---------\n",
    "00000110 (=-6) negative\n",
    "```"
   ]
  },
  {
   "cell_type": "code",
   "execution_count": 8,
   "metadata": {},
   "outputs": [
    {
     "data": {
      "text/plain": [
       "'0xfa'"
      ]
     },
     "execution_count": 8,
     "metadata": {},
     "output_type": "execute_result"
    }
   ],
   "source": [
    "yy=~xx"
   ]
  },
  {
   "cell_type": "code",
   "execution_count": 9,
   "metadata": {},
   "outputs": [],
   "source": [
    "cout<<yy<<endl;"
   ]
  },
  {
   "cell_type": "markdown",
   "metadata": {},
   "source": [
    "Left/Right shift"
   ]
  },
  {
   "cell_type": "code",
   "execution_count": 10,
   "metadata": {},
   "outputs": [],
   "source": [
    "int x10 = 5, y10;\n"
   ]
  },
  {
   "cell_type": "markdown",
   "metadata": {},
   "source": [
    "```\n",
    "x10 = 00000101\n",
    "      00001010 (shift 1 spot to left all bits, so last spot is zero)\n",
    "becomes 10 (i.e multiplied by 2)\n",
    "i.e x << i (muliplied by 2)\n",
    "or x << 2 *i (mulitplied by 4 etc)\n",
    "``` "
   ]
  },
  {
   "cell_type": "code",
   "execution_count": 11,
   "metadata": {},
   "outputs": [
    {
     "data": {
      "text/plain": [
       "10"
      ]
     },
     "execution_count": 11,
     "metadata": {},
     "output_type": "execute_result"
    }
   ],
   "source": [
    "y10 = x10<<1 //left shift by 1"
   ]
  },
  {
   "cell_type": "markdown",
   "metadata": {},
   "source": [
    "```\n",
    "simarily - x>>i\n",
    " x/(2*i) -s-bits will move to right\n",
    "But remember sign bit is not included\n",
    "if number is +ve, will remain so, or -ve will remain so\n",
    "```\n",
    "\n",
    "\n"
   ]
  }
 ],
 "metadata": {
  "kernelspec": {
   "display_name": "C++17",
   "language": "C++17",
   "name": "xcpp17"
  },
  "language_info": {
   "codemirror_mode": "text/x-c++src",
   "file_extension": ".cpp",
   "mimetype": "text/x-c++src",
   "name": "c++",
   "version": "-std=c++17"
  }
 },
 "nbformat": 4,
 "nbformat_minor": 2
}
