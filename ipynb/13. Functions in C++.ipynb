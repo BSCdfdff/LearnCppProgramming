{
 "cells": [
  {
   "cell_type": "markdown",
   "metadata": {},
   "source": [
    "# Function Templates\n",
    "___\n",
    "\n",
    "+ Used where we have same logic done by different functions\n",
    "+ And only the data types different\n",
    "\n",
    "### Then we can create a Base or Generic or Template  Function\n",
    "___\n"
   ]
  },
  {
   "cell_type": "markdown",
   "metadata": {},
   "source": [
    "## How does it work\n",
    "\n",
    "So we find ourselves having the following two functions:\n",
    "\n",
    "```\n",
    "int maxim(int x, int y){\n",
    "   return x>y?x:y;\n",
    "}\n",
    "\n",
    "float maxim(float x,float y){\n",
    "    return x<y?x:y;\n",
    "}\n",
    "\n",
    "```\n",
    "\n",
    "Which is an overloading function. Remember overloading occurs where parameters are of different types (return type does not matter). But from the above we can see that the internals of both functions are the same (only the data types are different, but the same for each procedure).\n",
    "\n",
    "We can use what is called Function Templates . In other words generic or generalized i.t.o of data.\n",
    "\n",
    "So we can write a template for these functions and them use it.\n",
    "\n",
    "\n",
    "```\n",
    "template<class T>\n",
    "T maxim (T a, T b){\n",
    "    return a>b?a:b;\n",
    "}\n",
    "\n",
    "```\n",
    "\n",
    "T refers to the datatype, i.e float or int. Note it must be the same for both parameters.\n",
    "\n",
    "But T can also refer to any object that can be passed (very powerful feature)\n",
    "\n",
    "Now we can say:\n",
    "\n",
    "```\n",
    "cout<<maxim(5.8f,7.8f)<<endl; \n",
    "cout<<maxim(12,7)<<endl; \n",
    "\n",
    "```\n",
    "If we do not have the f , then it is double by default.\n",
    "\n"
   ]
  },
  {
   "cell_type": "code",
   "execution_count": 1,
   "metadata": {},
   "outputs": [],
   "source": [
    "#include <iostream>\n",
    "#include <climits>\n",
    "#include <math.h>\n",
    "using namespace std;"
   ]
  },
  {
   "cell_type": "code",
   "execution_count": 2,
   "metadata": {},
   "outputs": [],
   "source": [
    "template<class T>\n",
    "T maxim (T a, T b){\n",
    "    return a>b?a:b;\n",
    "}   \n"
   ]
  },
  {
   "cell_type": "code",
   "execution_count": 3,
   "metadata": {},
   "outputs": [
    {
     "name": "stdout",
     "output_type": "stream",
     "text": [
      "7.8\n",
      "12\n"
     ]
    }
   ],
   "source": [
    "cout<<maxim(5.8f,7.8f)<<endl; \n",
    "cout<<maxim(12,7)<<endl; "
   ]
  },
  {
   "cell_type": "code",
   "execution_count": null,
   "metadata": {},
   "outputs": [],
   "source": []
  }
 ],
 "metadata": {
  "kernelspec": {
   "display_name": "C++17",
   "language": "C++17",
   "name": "xcpp17"
  },
  "language_info": {
   "codemirror_mode": "text/x-c++src",
   "file_extension": ".cpp",
   "mimetype": "text/x-c++src",
   "name": "c++",
   "version": "-std=c++17"
  }
 },
 "nbformat": 4,
 "nbformat_minor": 2
}
