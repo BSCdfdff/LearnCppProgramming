{
 "cells": [
  {
   "cell_type": "markdown",
   "metadata": {},
   "source": [
    "# Function RETURN Parameter passing methods (*1)\n",
    "___\n",
    "\n",
    "## Return by\n",
    "1. Value (Defualt) (**Not covered**)\n",
    "2. Address \n",
    "3. Reference"
   ]
  },
  {
   "cell_type": "markdown",
   "metadata": {},
   "source": [
    "## <center>Return by Address </center>\n",
    "___\n",
    "![](images/ReturnByAddress.png)"
   ]
  },
  {
   "cell_type": "markdown",
   "metadata": {},
   "source": [
    "## How does it work\n",
    "\n",
    "Looking at fun() first...\n",
    "\n",
    "We need to return a pointer, i.e. address of calling function (return parameter).\n",
    "\n",
    "Can we just not simply do the following:\n",
    "```\n",
    "int *funny(){\n",
    "    int x = 10;\n",
    "    return &x;\n",
    "}\n",
    "```\n",
    "\n",
    "Will will the above not work?\n",
    "\n",
    "It will not work as we returning an address of STACK (local), and when the function ends, everything will be deallocated\n",
    "\n",
    "So how can we make sure the address of return value is not destroyed? We need to create the address/pointer in HEAP. Those address is managed by the programmer, not the compiler.\n",
    "\n",
    "```\n",
    "int *funny(int b){\n",
    "    int *p = new int(b);\n",
    "    return p;\n",
    "}\n",
    "```\n",
    "\n",
    "We declare a new *pointer integer of array, that points to the address of that array.\n",
    "\n",
    "But where is that address created? Its will in the HEAP as the \"new\" keyword is used. Remember p, pointer will be in STACK, but the address if refers to will be in the HEAP\n",
    "\n",
    "But since we returning a pointer p, we MUST return a pointer as well, so we need to update the signature of fun function:\n",
    "\n",
    "```\n",
    "int *fun (int size)\n",
    "```\n",
    "In main , in order to call fun() we must declare a pointer, eg. *ptr as well, since the signature fun() expects pointer.\n",
    "\n",
    "```\n",
    "int x=10;\n",
    "int *ptr = funny(x);\n",
    "```\n",
    "\n",
    "But where will this pointer be created? Its does not have new, so its will be created in STACK.\n",
    "\n",
    "So, we have pointer to pointer, lets explore...\n",
    "\n",
    "*ptr will be pointer in stack created by activation record of main, and will contain the address of array created by fun()\n",
    "\n",
    "The *ptr will not point to 201 (address of b), but will point to 210 (address of *p), which in turn points to\n"
   ]
  },
  {
   "cell_type": "markdown",
   "metadata": {},
   "source": [
    "## <center>Return by Address (*)</center>\n",
    "___\n",
    "![](images/ReturnByAddress2.png)"
   ]
  },
  {
   "cell_type": "markdown",
   "metadata": {},
   "source": [
    "## How does it work (2)\n",
    "\n",
    "#### UPDATE: // ADDENDUM\n",
    "\n",
    "The *ptr and *p pointers point to the same address:\n",
    "From drawing, both points to 201.\n",
    "From code the address is :\n",
    "0x55eb40fd7800\n",
    "0x55eb40fd7800\n",
    "\n",
    "ptr and p will me sharing memory addresses."
   ]
  },
  {
   "cell_type": "markdown",
   "metadata": {},
   "source": [
    "## Return by Address"
   ]
  },
  {
   "cell_type": "code",
   "execution_count": 1,
   "metadata": {},
   "outputs": [],
   "source": [
    "#include <iostream>\n",
    "#include <climits>\n",
    "#include <math.h>\n",
    "using namespace std;"
   ]
  },
  {
   "cell_type": "code",
   "execution_count": 2,
   "metadata": {},
   "outputs": [],
   "source": [
    "int *funny(int b){\n",
    "    int *p = new int(b);\n",
    "    cout<<p<<endl;\n",
    "    return p;\n",
    "}"
   ]
  },
  {
   "cell_type": "code",
   "execution_count": 3,
   "metadata": {},
   "outputs": [
    {
     "name": "stdout",
     "output_type": "stream",
     "text": [
      "0x5587a8a631a0\n",
      "0x5587a8a631a0\n",
      "10\n"
     ]
    }
   ],
   "source": [
    "int x=10;\n",
    "int *ptr = funny(x);\n",
    "cout<<ptr<<endl;\n",
    "cout<<*ptr<<endl;"
   ]
  },
  {
   "cell_type": "markdown",
   "metadata": {},
   "source": [
    "### Return by Address (additional Example)"
   ]
  },
  {
   "cell_type": "code",
   "execution_count": 4,
   "metadata": {},
   "outputs": [],
   "source": [
    "int *fun (int size){\n",
    "    int *pp = new int [size];\n",
    "    for (int i = 0; i < size; i++)\n",
    "    {\n",
    "        pp[i]=i + 1;\n",
    "    }\n",
    "    return pp;\n",
    "}    \n"
   ]
  },
  {
   "cell_type": "code",
   "execution_count": 5,
   "metadata": {},
   "outputs": [
    {
     "name": "stdout",
     "output_type": "stream",
     "text": [
      "1\n",
      "2\n",
      "3\n",
      "4\n",
      "5\n"
     ]
    }
   ],
   "source": [
    "int *q = fun(5);\n",
    "for (int i = 0; i < 5; i++)\n",
    "{\n",
    "  cout<<q[i]<<endl;\n",
    "}\n"
   ]
  },
  {
   "cell_type": "code",
   "execution_count": 6,
   "metadata": {},
   "outputs": [
    {
     "name": "stdout",
     "output_type": "stream",
     "text": [
      "0x5587a82925f0\n"
     ]
    }
   ],
   "source": [
    "cout<<q<<endl;"
   ]
  }
 ],
 "metadata": {
  "kernelspec": {
   "display_name": "C++17",
   "language": "C++17",
   "name": "xcpp17"
  },
  "language_info": {
   "codemirror_mode": "text/x-c++src",
   "file_extension": ".cpp",
   "mimetype": "text/x-c++src",
   "name": "c++",
   "version": "-std=c++17"
  }
 },
 "nbformat": 4,
 "nbformat_minor": 2
}
