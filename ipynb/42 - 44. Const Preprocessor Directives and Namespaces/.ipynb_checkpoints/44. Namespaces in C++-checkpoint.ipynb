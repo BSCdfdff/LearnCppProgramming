{
 "cells": [
  {
   "cell_type": "markdown",
   "metadata": {},
   "source": [
    "# Const, Preprocessor Directives and Namespaces\n",
    "___\n",
    "\n",
    "+ Constants\n",
    "+ Preprocessor Directives\n",
    "+ Namespaces\n",
    "\n"
   ]
  },
  {
   "cell_type": "markdown",
   "metadata": {},
   "source": [
    "##  Preprocessor Directives\n",
    "\n",
    "Also called macros or called symbolic constants.\n",
    "\n",
    "These are instructions given to compiler, to be followed, before compiling the program.\n",
    "\n",
    "Most famous one:\n",
    "\n",
    "```#define``` to define some constant\n",
    "\n",
    "```\n",
    "#define pi 3.1425\n",
    "\n",
    "cout<<pi<<endl;\n",
    "3.1425\n",
    "\n",
    "```\n",
    "\n",
    "Format\n",
    "\n",
    "```\n",
    "#define <searchstring> <replacestring>\n",
    "```\n",
    "\n",
    "So before the program compiles, the values is alreay replaced. So the compiler does not see pi. It sees 3.1425.\n",
    "\n",
    "Another one...\n",
    "\n",
    "```\n",
    "#define c cout\n",
    "c<<pi<<endl;\n",
    "3.145\n",
    "```\n",
    "\n",
    "### We can also write functions...\n",
    "\n",
    "The function expression must be within brackets ()\n",
    "\n",
    "```\n",
    "#define c cout\n",
    "#define e endl\n",
    "#define sqrt(x) (x*x)\n",
    "c<<sqrt(5)<<e;\n",
    "25\n",
    "```\n",
    "\n",
    "### Convert text into string\n",
    "\n",
    "using # symbol\n",
    "\n",
    "\n",
    "```\n",
    "#define msg(x) #x\n",
    "c<<msg(chesney)<<e;\n",
    "chesney\n",
    "```\n",
    "\n",
    "### If not defined\n",
    "\n",
    "Says if ```define pi 3.145``` is not defined, then define\n",
    "\n",
    "```\n",
    "#ifndef pi\n",
    "#define pi 3.145\n",
    "#endif\n",
    "```\n",
    "\n"
   ]
  },
  {
   "cell_type": "code",
   "execution_count": 1,
   "metadata": {},
   "outputs": [],
   "source": [
    "#include <iostream>\n",
    "#include <climits>\n",
    "#include <math.h>\n",
    "#define pi 3.145\n",
    "#define c cout\n",
    "#define e endl\n",
    "#define sqrt(x) (x*x)\n",
    "#define msg(x) #x\n",
    "#ifndef pi\n",
    "#define pi 3.145\n",
    "#endif\n",
    "using namespace std;"
   ]
  },
  {
   "cell_type": "code",
   "execution_count": 2,
   "metadata": {},
   "outputs": [
    {
     "name": "stdout",
     "output_type": "stream",
     "text": [
      "3.145\n"
     ]
    }
   ],
   "source": [
    "c<<pi<<endl;"
   ]
  },
  {
   "cell_type": "code",
   "execution_count": 3,
   "metadata": {},
   "outputs": [
    {
     "name": "stdout",
     "output_type": "stream",
     "text": [
      "25\n"
     ]
    }
   ],
   "source": [
    "c<<sqrt(5)<<e;"
   ]
  },
  {
   "cell_type": "code",
   "execution_count": 4,
   "metadata": {},
   "outputs": [
    {
     "name": "stdout",
     "output_type": "stream",
     "text": [
      "chesney\n"
     ]
    }
   ],
   "source": [
    "c<<msg(chesney)<<e;"
   ]
  }
 ],
 "metadata": {
  "kernelspec": {
   "display_name": "C++17",
   "language": "C++17",
   "name": "xcpp17"
  },
  "language_info": {
   "codemirror_mode": "text/x-c++src",
   "file_extension": ".cpp",
   "mimetype": "text/x-c++src",
   "name": "c++",
   "version": "-std=c++17"
  }
 },
 "nbformat": 4,
 "nbformat_minor": 2
}
