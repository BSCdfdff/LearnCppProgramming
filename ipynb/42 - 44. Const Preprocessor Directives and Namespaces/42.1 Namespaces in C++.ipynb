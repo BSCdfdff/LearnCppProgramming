{
 "cells": [
  {
   "cell_type": "code",
   "execution_count": 1,
   "metadata": {},
   "outputs": [],
   "source": [
    "#include <iostream>\n",
    "#include <climits>\n",
    "#include <math.h>\n",
    "#define c cout\n",
    "#define e endl\n",
    "#include<string>\n",
    "using namespace std;"
   ]
  },
  {
   "cell_type": "code",
   "execution_count": 2,
   "metadata": {},
   "outputs": [],
   "source": [
    "int x = 20;\n",
    "int y = 50;\n",
    "int s = 70;\n",
    "int t = 40;\n",
    "int t2 = 80;\n",
    "int randomval=100;"
   ]
  },
  {
   "cell_type": "code",
   "execution_count": 3,
   "metadata": {},
   "outputs": [],
   "source": [
    "int *ptr = &x;"
   ]
  },
  {
   "cell_type": "code",
   "execution_count": 4,
   "metadata": {},
   "outputs": [
    {
     "name": "stdout",
     "output_type": "stream",
     "text": [
      "20\n",
      "0x7f482b0fe030\n"
     ]
    }
   ],
   "source": [
    "cout<<*ptr<<endl;\n",
    "cout<<ptr<<endl;"
   ]
  },
  {
   "cell_type": "markdown",
   "metadata": {},
   "source": [
    "## We allowed to [DEFAULT ]:\n",
    "+ Update the data vartiable\n",
    "+ Update the pointer (address) to some other random address [pointer arthmetic]\n",
    "+ Assign the pointer to some other data variable address"
   ]
  },
  {
   "cell_type": "code",
   "execution_count": 5,
   "metadata": {},
   "outputs": [],
   "source": [
    "++*ptr;\n",
    "++ptr;"
   ]
  },
  {
   "cell_type": "code",
   "execution_count": 6,
   "metadata": {},
   "outputs": [
    {
     "name": "stdout",
     "output_type": "stream",
     "text": [
      "50\n",
      "0x7f482b0fe034\n"
     ]
    }
   ],
   "source": [
    "cout<<*ptr<<endl;\n",
    "cout<<ptr<<endl;"
   ]
  },
  {
   "cell_type": "code",
   "execution_count": 7,
   "metadata": {},
   "outputs": [],
   "source": [
    "ptr = &randomval;"
   ]
  },
  {
   "cell_type": "code",
   "execution_count": 8,
   "metadata": {},
   "outputs": [
    {
     "name": "stdout",
     "output_type": "stream",
     "text": [
      "100\n",
      "0x7f482b0fe044\n"
     ]
    }
   ],
   "source": [
    "cout<<*ptr<<endl;\n",
    "cout<<ptr<<endl;"
   ]
  },
  {
   "cell_type": "markdown",
   "metadata": {},
   "source": [
    "___\n",
    "\n",
    "## Making the Data variable CONSTANT\n",
    "\n",
    "___\n",
    "\n",
    "**[data type] [const] [*pointer] = [address][data variable]**\n",
    "\n",
    "int const *qtr = &y;\n",
    "\n",
    "___\n",
    "\n"
   ]
  },
  {
   "cell_type": "code",
   "execution_count": 9,
   "metadata": {},
   "outputs": [],
   "source": [
    "int const *qtr = &y;"
   ]
  },
  {
   "cell_type": "code",
   "execution_count": 10,
   "metadata": {},
   "outputs": [
    {
     "name": "stdout",
     "output_type": "stream",
     "text": [
      "50\n",
      "0x7f482b0fe034\n"
     ]
    }
   ],
   "source": [
    "cout<<*qtr<<endl;\n",
    "cout<<qtr<<endl;"
   ]
  },
  {
   "cell_type": "markdown",
   "metadata": {},
   "source": [
    "## We NOT allowed to \n",
    "+ Update the data vartiable:\n",
    "\n",
    "\n",
    "## We allowed to \n",
    "+ Update the pointer (address) to some other random address\n",
    "+ Assign the pointer to some other data variable address\n",
    "\n",
    "\n",
    "--> Not allowed\n",
    "\n",
    "(1) ++*qtr;\n",
    "\n",
    "--> Allowed\n",
    "\n",
    "(1) ++qtr;\n",
    "\n",
    "(2) qtr = &randomval;\n"
   ]
  },
  {
   "cell_type": "code",
   "execution_count": 11,
   "metadata": {},
   "outputs": [
    {
     "name": "stderr",
     "output_type": "stream",
     "text": [
      "\u001b[1minput_line_20:2:2: \u001b[0m\u001b[0;1;31merror: \u001b[0m\u001b[1mread-only variable is not assignable\u001b[0m\n",
      " ++*qtr;\n",
      "\u001b[0;1;32m ^ ~~~~\n",
      "\u001b[0m"
     ]
    },
    {
     "ename": "Interpreter Error",
     "evalue": "",
     "output_type": "error",
     "traceback": [
      "Interpreter Error: "
     ]
    }
   ],
   "source": [
    "++*qtr;"
   ]
  },
  {
   "cell_type": "code",
   "execution_count": 12,
   "metadata": {},
   "outputs": [],
   "source": [
    "++qtr;"
   ]
  },
  {
   "cell_type": "code",
   "execution_count": 13,
   "metadata": {},
   "outputs": [
    {
     "name": "stdout",
     "output_type": "stream",
     "text": [
      "70\n",
      "0x7f482b0fe038\n"
     ]
    }
   ],
   "source": [
    "cout<<*qtr<<endl;\n",
    "cout<<qtr<<endl;"
   ]
  },
  {
   "cell_type": "code",
   "execution_count": 14,
   "metadata": {},
   "outputs": [],
   "source": [
    "qtr = &randomval;"
   ]
  },
  {
   "cell_type": "code",
   "execution_count": 15,
   "metadata": {},
   "outputs": [
    {
     "name": "stdout",
     "output_type": "stream",
     "text": [
      "100\n",
      "0x7f482b0fe044\n"
     ]
    }
   ],
   "source": [
    "cout<<*qtr<<endl;\n",
    "cout<<qtr<<endl;"
   ]
  },
  {
   "cell_type": "markdown",
   "metadata": {},
   "source": [
    "___\n",
    "\n",
    "## Making the Pointer CONSTANT [Address]\n",
    "\n",
    "___\n",
    "\n",
    "**[data type] [*const] [pointer] = [address][data variable]**\n",
    "\n",
    "int *const ttr = &y;\n",
    "\n",
    "___\n",
    "\n"
   ]
  },
  {
   "cell_type": "markdown",
   "metadata": {},
   "source": [
    "## Making the Pointer CONSTANT [Address]"
   ]
  },
  {
   "cell_type": "code",
   "execution_count": 16,
   "metadata": {},
   "outputs": [],
   "source": [
    "int *const ttr = &s;"
   ]
  },
  {
   "cell_type": "code",
   "execution_count": 17,
   "metadata": {},
   "outputs": [
    {
     "name": "stdout",
     "output_type": "stream",
     "text": [
      "70\n",
      "0x7f482b0fe038\n"
     ]
    }
   ],
   "source": [
    "cout<<*ttr<<endl;\n",
    "cout<<ttr<<endl;"
   ]
  },
  {
   "cell_type": "markdown",
   "metadata": {},
   "source": [
    "## We NOT allowed to \n",
    "+ Assign the pointer to some other data variable address\n",
    "+ Update the pointer (address) to some other random address\n",
    "\n",
    "\n",
    "## We allowed to \n",
    "+ Update the data vartiable:\n",
    "\n",
    "\n",
    "--> Not allowed\n",
    "\n",
    "(1) ttr = &randomval;\n",
    "(2) ++ttr;\n",
    "\n",
    "--> Allowed\n",
    "\n",
    "(1) ++*ttr;\n",
    "\n",
    "\n",
    "\n",
    "\n"
   ]
  },
  {
   "cell_type": "code",
   "execution_count": 18,
   "metadata": {},
   "outputs": [],
   "source": [
    "++*ttr;"
   ]
  },
  {
   "cell_type": "code",
   "execution_count": 19,
   "metadata": {},
   "outputs": [
    {
     "name": "stderr",
     "output_type": "stream",
     "text": [
      "\u001b[1minput_line_28:2:2: \u001b[0m\u001b[0;1;31merror: \u001b[0m\u001b[1mcannot assign to variable 'ttr' with const-qualified type 'int *const'\u001b[0m\n",
      " ++ttr;\n",
      "\u001b[0;1;32m ^ ~~~\n",
      "\u001b[0m\u001b[1minput_line_25:2:13: \u001b[0m\u001b[0;1;30mnote: \u001b[0mvariable 'ttr' declared const here\u001b[0m\n",
      " int *const ttr = &s;\n",
      "\u001b[0;1;32m ~~~~~~~~~~~^~~~~~~~\n",
      "\u001b[0m"
     ]
    },
    {
     "ename": "Interpreter Error",
     "evalue": "",
     "output_type": "error",
     "traceback": [
      "Interpreter Error: "
     ]
    }
   ],
   "source": [
    "++ttr;"
   ]
  },
  {
   "cell_type": "code",
   "execution_count": 20,
   "metadata": {},
   "outputs": [
    {
     "name": "stdout",
     "output_type": "stream",
     "text": [
      "71\n",
      "0x7f482b0fe038\n"
     ]
    }
   ],
   "source": [
    "cout<<*ttr<<endl;\n",
    "cout<<ttr<<endl;"
   ]
  },
  {
   "cell_type": "code",
   "execution_count": 21,
   "metadata": {},
   "outputs": [
    {
     "name": "stderr",
     "output_type": "stream",
     "text": [
      "\u001b[1minput_line_30:2:6: \u001b[0m\u001b[0;1;31merror: \u001b[0m\u001b[1mcannot assign to variable 'ttr' with const-qualified type 'int *const'\u001b[0m\n",
      " ttr = &randomval;\n",
      "\u001b[0;1;32m ~~~ ^\n",
      "\u001b[0m\u001b[1minput_line_25:2:13: \u001b[0m\u001b[0;1;30mnote: \u001b[0mvariable 'ttr' declared const here\u001b[0m\n",
      " int *const ttr = &s;\n",
      "\u001b[0;1;32m ~~~~~~~~~~~^~~~~~~~\n",
      "\u001b[0m"
     ]
    },
    {
     "ename": "Interpreter Error",
     "evalue": "",
     "output_type": "error",
     "traceback": [
      "Interpreter Error: "
     ]
    }
   ],
   "source": [
    "ttr = &randomval;"
   ]
  },
  {
   "cell_type": "markdown",
   "metadata": {},
   "source": [
    "___\n",
    "\n",
    "## Making the Pointer and Data variable CONSTANT \n",
    "___\n",
    "\n",
    "**[const][data type] [*const] [pointer] = [address][data variable]**\n",
    "\n",
    "const int *const ttr2 = &t2;\n",
    "\n",
    "___\n"
   ]
  },
  {
   "cell_type": "code",
   "execution_count": 22,
   "metadata": {},
   "outputs": [],
   "source": [
    "const int *const ttr2 = &t2;"
   ]
  },
  {
   "cell_type": "code",
   "execution_count": 23,
   "metadata": {},
   "outputs": [
    {
     "name": "stdout",
     "output_type": "stream",
     "text": [
      "80\n",
      "0x7f482b0fe040\n"
     ]
    }
   ],
   "source": [
    "cout<<*ttr2<<endl;\n",
    "cout<<ttr2<<endl;"
   ]
  },
  {
   "cell_type": "markdown",
   "metadata": {},
   "source": [
    "## We NOT allowed to \n",
    "+ Update the data vartiable:\n",
    "+ Assign the pointer to some other data variable address\n",
    "+ Update the pointer (address) to some other random address\n",
    "\n",
    "\n",
    "## We allowed to \n",
    "***(None)***\n",
    "\n",
    "\n",
    "--> Not allowed\n",
    "\n",
    "(1) ++*ttr2;\n",
    "(2) ttr2 = &randomval;\n",
    "(3) ++ttr2;\n",
    "\n",
    "--> Allowed\n",
    "(None)\n",
    "\n",
    "\n"
   ]
  },
  {
   "cell_type": "code",
   "execution_count": 24,
   "metadata": {},
   "outputs": [
    {
     "name": "stderr",
     "output_type": "stream",
     "text": [
      "\u001b[1minput_line_33:2:2: \u001b[0m\u001b[0;1;31merror: \u001b[0m\u001b[1mread-only variable is not assignable\u001b[0m\n",
      " ++*ttr2;\n",
      "\u001b[0;1;32m ^ ~~~~~\n",
      "\u001b[0m"
     ]
    },
    {
     "ename": "Interpreter Error",
     "evalue": "",
     "output_type": "error",
     "traceback": [
      "Interpreter Error: "
     ]
    }
   ],
   "source": [
    "++*ttr2;"
   ]
  },
  {
   "cell_type": "code",
   "execution_count": 25,
   "metadata": {},
   "outputs": [
    {
     "name": "stderr",
     "output_type": "stream",
     "text": [
      "\u001b[1minput_line_34:2:2: \u001b[0m\u001b[0;1;31merror: \u001b[0m\u001b[1mcannot assign to variable 'ttr2' with const-qualified type 'const int *const'\u001b[0m\n",
      " ++ttr2;\n",
      "\u001b[0;1;32m ^ ~~~~\n",
      "\u001b[0m\u001b[1minput_line_31:2:19: \u001b[0m\u001b[0;1;30mnote: \u001b[0mvariable 'ttr2' declared const here\u001b[0m\n",
      " const int *const ttr2 = &t2;\n",
      "\u001b[0;1;32m ~~~~~~~~~~~~~~~~~^~~~~~~~~~\n",
      "\u001b[0m"
     ]
    },
    {
     "ename": "Interpreter Error",
     "evalue": "",
     "output_type": "error",
     "traceback": [
      "Interpreter Error: "
     ]
    }
   ],
   "source": [
    "++ttr2;"
   ]
  },
  {
   "cell_type": "code",
   "execution_count": 26,
   "metadata": {},
   "outputs": [
    {
     "name": "stderr",
     "output_type": "stream",
     "text": [
      "\u001b[1minput_line_35:2:7: \u001b[0m\u001b[0;1;31merror: \u001b[0m\u001b[1mcannot assign to variable 'ttr2' with const-qualified type 'const int *const'\u001b[0m\n",
      " ttr2 = &randomval;\n",
      "\u001b[0;1;32m ~~~~ ^\n",
      "\u001b[0m\u001b[1minput_line_31:2:19: \u001b[0m\u001b[0;1;30mnote: \u001b[0mvariable 'ttr2' declared const here\u001b[0m\n",
      " const int *const ttr2 = &t2;\n",
      "\u001b[0;1;32m ~~~~~~~~~~~~~~~~~^~~~~~~~~~\n",
      "\u001b[0m"
     ]
    },
    {
     "ename": "Interpreter Error",
     "evalue": "",
     "output_type": "error",
     "traceback": [
      "Interpreter Error: "
     ]
    }
   ],
   "source": [
    "ttr2 = &randomval;"
   ]
  },
  {
   "cell_type": "code",
   "execution_count": null,
   "metadata": {},
   "outputs": [],
   "source": []
  },
  {
   "cell_type": "code",
   "execution_count": null,
   "metadata": {},
   "outputs": [],
   "source": []
  }
 ],
 "metadata": {
  "kernelspec": {
   "display_name": "C++17",
   "language": "C++17",
   "name": "xcpp17"
  },
  "language_info": {
   "codemirror_mode": "text/x-c++src",
   "file_extension": ".cpp",
   "mimetype": "text/x-c++src",
   "name": "c++",
   "version": "-std=c++17"
  }
 },
 "nbformat": 4,
 "nbformat_minor": 2
}
