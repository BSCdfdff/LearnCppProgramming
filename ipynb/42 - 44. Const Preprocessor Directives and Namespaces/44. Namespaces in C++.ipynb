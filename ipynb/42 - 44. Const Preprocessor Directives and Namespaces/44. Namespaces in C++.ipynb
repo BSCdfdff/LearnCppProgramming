{
 "cells": [
  {
   "cell_type": "markdown",
   "metadata": {},
   "source": [
    "# Const, Preprocessor Directives and Namespaces\n",
    "___\n",
    "\n",
    "+ Constants\n",
    "+ Preprocessor Directives\n",
    "+ Namespaces\n",
    "\n"
   ]
  },
  {
   "cell_type": "markdown",
   "metadata": {},
   "source": [
    "##  Namespaces\n",
    "\n",
    "Used for removing name conflicts, classes/functions with same name, and you need same name, then use namespaces\n",
    "\n",
    "\n",
    "So we encapsulate the function/class into namespace\n",
    "\n",
    "```\n",
    "namespace First{\n",
    "    void fun(){\n",
    "        c<<\"first\"<<e;\n",
    "    }\n",
    "}\n",
    "```\n",
    "\n",
    "Then use the scope resolution.\n",
    "\n",
    "```\n",
    "First::fun();\n",
    "```\n",
    "\n",
    "\n",
    "Instead of using First::, we can write:\n",
    "\n",
    "```\n",
    "using namespace First;\n",
    "```\n",
    "\n",
    "Can also keep namespaces in separte header file.\n"
   ]
  },
  {
   "cell_type": "code",
   "execution_count": null,
   "metadata": {},
   "outputs": [],
   "source": [
    "#include <iostream>\n",
    "#define c cout\n",
    "#define e endl\n",
    "using namespace std;"
   ]
  },
  {
   "cell_type": "code",
   "execution_count": null,
   "metadata": {},
   "outputs": [],
   "source": [
    "namespace Second{\n",
    "    void fun(){\n",
    "        c<<\"Second\"<<e;\n",
    "    }\n",
    "}"
   ]
  },
  {
   "cell_type": "code",
   "execution_count": null,
   "metadata": {},
   "outputs": [],
   "source": [
    "using namespace Second;"
   ]
  },
  {
   "cell_type": "code",
   "execution_count": null,
   "metadata": {},
   "outputs": [],
   "source": [
    "namespace First{\n",
    "    void fun(){\n",
    "        c<<\"first\"<<e;\n",
    "    }\n",
    "}"
   ]
  },
  {
   "cell_type": "code",
   "execution_count": null,
   "metadata": {},
   "outputs": [],
   "source": [
    "First::fun();\n",
    "fun();"
   ]
  },
  {
   "cell_type": "code",
   "execution_count": null,
   "metadata": {},
   "outputs": [],
   "source": []
  }
 ],
 "metadata": {
  "kernelspec": {
   "display_name": "C++17",
   "language": "C++17",
   "name": "xcpp17"
  },
  "language_info": {
   "codemirror_mode": "text/x-c++src",
   "file_extension": ".cpp",
   "mimetype": "text/x-c++src",
   "name": "c++",
   "version": "-std=c++17"
  }
 },
 "nbformat": 4,
 "nbformat_minor": 2
}
