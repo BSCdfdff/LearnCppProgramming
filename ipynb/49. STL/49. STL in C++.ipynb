{
 "cells": [
  {
   "cell_type": "markdown",
   "metadata": {},
   "source": [
    "# STL (Standard Template Library)\n",
    "___\n",
    "\n",
    "+ \n",
    "\n"
   ]
  },
  {
   "cell_type": "markdown",
   "metadata": {},
   "source": [
    "###  Standard Template Library\n",
    "\n",
    "C++ Built in **classes** for:\n",
    "\n",
    "1. Algorithms (Functions):\n",
    "    + Searching\n",
    "    + Sorting\n",
    "    + Copying\n",
    "    + Concatenation\n",
    "    + Union\n",
    "    + Merge\n",
    "    + Heap\n",
    "    + Intersection\n",
    "    \n",
    "2. Container (Data Structures):\n",
    "    + Array\n",
    "    + List\n",
    "    + Deque\n",
    "    + Stack\n",
    "    + Vectors (dynamically manages size of old type array)\n",
    "    + Map\n",
    "    + List\n",
    "    + Set\n",
    "    \n",
    "3. Iterators:\n",
    "    + Iterating through Collection of Values\n",
    "    + Accessing the containers\n",
    "\n",
    "\n",
    "The container classes are generic, ie.Its a template for any data type\n",
    "\n",
    "So we dont have to write down the code, c++ already did every for us.\n",
    "\n",
    "#### Vectors\n",
    "\n",
    "Must include the vector header file.\n",
    "\n",
    "```\n",
    "#include <vector>\n",
    "\n",
    "```\n",
    "\n",
    "Remember we dealing with template (class), so following the class name, we need to write the type, can be primitive or my own class object here.\n",
    "\n",
    "And define the initial size of the vector\n",
    "\n",
    "```\n",
    "vector<int> v(10);\n",
    "```\n",
    "\n",
    "or store initial values:\n",
    "\n",
    "```\n",
    "vector<int> v={10, 20,40,90};\n",
    "\n",
    "```\n",
    "\n",
    "#### Maps\n",
    "\n",
    "Contain key/value pairs\n",
    "\n"
   ]
  },
  {
   "cell_type": "code",
   "execution_count": 1,
   "metadata": {},
   "outputs": [],
   "source": [
    "#include <iostream>\n",
    "#include <vector>\n",
    "#include <list>\n",
    "#include <map>\n",
    "#define c cout\n",
    "#define e endl\n",
    "using namespace std;"
   ]
  },
  {
   "cell_type": "code",
   "execution_count": 2,
   "metadata": {},
   "outputs": [],
   "source": [
    "vector<int> v={10, 20,40,90};"
   ]
  },
  {
   "cell_type": "markdown",
   "metadata": {},
   "source": [
    "#### 25 will be added after 90"
   ]
  },
  {
   "cell_type": "code",
   "execution_count": 3,
   "metadata": {},
   "outputs": [],
   "source": [
    "v.push_back(25);"
   ]
  },
  {
   "cell_type": "markdown",
   "metadata": {},
   "source": [
    "#### 70 will be added after 25"
   ]
  },
  {
   "cell_type": "code",
   "execution_count": 4,
   "metadata": {},
   "outputs": [],
   "source": [
    "v.push_back(70);"
   ]
  },
  {
   "cell_type": "markdown",
   "metadata": {},
   "source": [
    "#### pop always work on lifo basis, so 70 will be removed"
   ]
  },
  {
   "cell_type": "code",
   "execution_count": 5,
   "metadata": {},
   "outputs": [],
   "source": [
    "v.pop_back();"
   ]
  },
  {
   "cell_type": "markdown",
   "metadata": {},
   "source": [
    "#### How do we iterate:\n",
    "+ Use the For Each Loop (most simplist)\n",
    "+ Intro C++ 11"
   ]
  },
  {
   "cell_type": "code",
   "execution_count": 6,
   "metadata": {
    "scrolled": true
   },
   "outputs": [
    {
     "name": "stdout",
     "output_type": "stream",
     "text": [
      "10\n",
      "20\n",
      "40\n",
      "90\n",
      "25\n"
     ]
    }
   ],
   "source": [
    "for (int x:v){\n",
    "    c<<x<<e;\n",
    "}"
   ]
  },
  {
   "cell_type": "markdown",
   "metadata": {},
   "source": [
    "#### But there are also more specific iterator classes available\n",
    "\n",
    "vector<int>::iterator itr=v.begin();\n",
    "    "
   ]
  },
  {
   "cell_type": "code",
   "execution_count": 7,
   "metadata": {},
   "outputs": [],
   "source": [
    "vector<int>::iterator itr;"
   ]
  },
  {
   "cell_type": "markdown",
   "metadata": {},
   "source": [
    "#### We need to use *itr (to dereference), as itr is like a pointer to elements inside vector\n",
    "\n",
    "If you want to start from front:\n",
    "```\n",
    "for(itr=v.begin(); itr!=v.end(); itr++){\n",
    "    c<<*itr<<e;\n",
    "}\n",
    "```\n"
   ]
  },
  {
   "cell_type": "code",
   "execution_count": 8,
   "metadata": {},
   "outputs": [
    {
     "name": "stdout",
     "output_type": "stream",
     "text": [
      "70\n",
      "25\n",
      "90\n",
      "40\n",
      "20\n"
     ]
    }
   ],
   "source": [
    "for(itr=v.end(); itr!=v.begin(); itr--){\n",
    "    c<<*itr<<e;\n",
    "}"
   ]
  },
  {
   "cell_type": "markdown",
   "metadata": {},
   "source": [
    "#### In order to use a ```list``` now, we simply have to replace ```vector``` with ```list```\n",
    "\n",
    "All the code remains the same\n",
    "\n",
    "Now the program will be using linked list\n"
   ]
  },
  {
   "cell_type": "code",
   "execution_count": 9,
   "metadata": {},
   "outputs": [
    {
     "name": "stdout",
     "output_type": "stream",
     "text": [
      "10\n",
      "20\n",
      "40\n",
      "90\n",
      "25\n"
     ]
    }
   ],
   "source": [
    "list<int> l={10, 20,40,90};\n",
    "l.push_back(25);\n",
    "l.push_back(70);\n",
    "l.pop_back();\n",
    "list<int>::iterator ltr;\n",
    "for(ltr=l.begin(); ltr!=l.end(); ltr++){\n",
    "    c<<*ltr<<e;\n",
    "}"
   ]
  },
  {
   "cell_type": "markdown",
   "metadata": {},
   "source": [
    "#### we can also swticth to ```set```, but set uses different iterator functions/methods\n",
    "\n",
    "So its good to know the differences."
   ]
  },
  {
   "cell_type": "markdown",
   "metadata": {},
   "source": [
    "### Lets have a look at Maps\n",
    "They contain key/value pairs"
   ]
  },
  {
   "cell_type": "code",
   "execution_count": 10,
   "metadata": {},
   "outputs": [],
   "source": [
    "map<int, string> m;"
   ]
  },
  {
   "cell_type": "code",
   "execution_count": 11,
   "metadata": {},
   "outputs": [],
   "source": [
    "m.insert(pair<int,string>(1,\"Chesney\"));"
   ]
  },
  {
   "cell_type": "code",
   "execution_count": 12,
   "metadata": {},
   "outputs": [],
   "source": [
    "m.insert(pair<int,string>(2,\"John\"));"
   ]
  },
  {
   "cell_type": "code",
   "execution_count": 13,
   "metadata": {},
   "outputs": [],
   "source": [
    "m.insert(pair<int,string>(3,\"Conrad\"));"
   ]
  },
  {
   "cell_type": "markdown",
   "metadata": {},
   "source": [
    "#### Then iterate through the map\n",
    "\n",
    "But this iterator will give  pair, so the syntax is different"
   ]
  },
  {
   "cell_type": "code",
   "execution_count": 14,
   "metadata": {
    "scrolled": true
   },
   "outputs": [
    {
     "name": "stdout",
     "output_type": "stream",
     "text": [
      "1   Chesney\n",
      "2   John\n",
      "3   Conrad\n"
     ]
    }
   ],
   "source": [
    "map<int,string>::iterator mp;\n",
    "for(mp=m.begin(); mp!=m.end(); mp++){\n",
    "    c<<mp->first<<\"   \"<<mp->second<<e;\n",
    "}"
   ]
  },
  {
   "cell_type": "markdown",
   "metadata": {},
   "source": [
    "#### To search anything in map, we can use key\n",
    "\n",
    "Using Find"
   ]
  },
  {
   "cell_type": "code",
   "execution_count": 15,
   "metadata": {},
   "outputs": [],
   "source": [
    "map<int,string>::iterator mp1;"
   ]
  },
  {
   "cell_type": "code",
   "execution_count": 16,
   "metadata": {
    "scrolled": true
   },
   "outputs": [],
   "source": [
    "mp1=m.find(2);"
   ]
  },
  {
   "cell_type": "code",
   "execution_count": 17,
   "metadata": {},
   "outputs": [
    {
     "name": "stdout",
     "output_type": "stream",
     "text": [
      "2   John\n"
     ]
    }
   ],
   "source": [
    "c<<mp1->first<<\"   \"<<mp1->second<<e;"
   ]
  }
 ],
 "metadata": {
  "kernelspec": {
   "display_name": "C++17",
   "language": "C++17",
   "name": "xcpp17"
  },
  "language_info": {
   "codemirror_mode": "text/x-c++src",
   "file_extension": ".cpp",
   "mimetype": "text/x-c++src",
   "name": "c++",
   "version": "-std=c++17"
  }
 },
 "nbformat": 4,
 "nbformat_minor": 2
}
