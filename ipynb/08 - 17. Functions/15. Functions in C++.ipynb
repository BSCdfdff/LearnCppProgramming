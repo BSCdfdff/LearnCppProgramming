{
 "cells": [
  {
   "cell_type": "markdown",
   "metadata": {},
   "source": [
    "# Scoping and Block Levels\n",
    "___\n",
    "\n",
    "+ Brackets {} in C++ defines block level scope\n",
    "+ Variables inside {} will take precedence over global (outside block) variables\n",
    "+ Meaning variables inside {}, will be treated as local to the brackets\n"
   ]
  },
  {
   "cell_type": "code",
   "execution_count": 1,
   "metadata": {},
   "outputs": [],
   "source": [
    "#include <iostream>\n",
    "#include <climits>\n",
    "#include <math.h>\n",
    "using namespace std;"
   ]
  },
  {
   "cell_type": "code",
   "execution_count": 2,
   "metadata": {},
   "outputs": [],
   "source": [
    "int x=10;\n",
    "int y = 100"
   ]
  },
  {
   "cell_type": "code",
   "execution_count": 3,
   "metadata": {},
   "outputs": [],
   "source": [
    "void fun(){\n",
    "int x = 20;\n",
    "    {\n",
    "        int x = 30;\n",
    "        y++;\n",
    "        cout<<x<<endl;\n",
    "        cout<<y<<endl;\n",
    "    }\n",
    "cout<<x<<endl; \n",
    "cout<<::x<<endl; \n",
    "}"
   ]
  },
  {
   "cell_type": "markdown",
   "metadata": {},
   "source": [
    "## Access Global variable from within function\n",
    "+ Need to use scope resolution=> ::\n",
    "\n",
    "```\n",
    "cout<<::x<<endl; \n",
    "\n",
    "```\n",
    "+ Here x = 10"
   ]
  },
  {
   "cell_type": "code",
   "execution_count": 4,
   "metadata": {},
   "outputs": [
    {
     "name": "stdout",
     "output_type": "stream",
     "text": [
      "30\n",
      "101\n",
      "20\n",
      "10\n",
      "10\n"
     ]
    }
   ],
   "source": [
    "fun();\n",
    "cout<<x<<endl;  "
   ]
  },
  {
   "cell_type": "code",
   "execution_count": null,
   "metadata": {},
   "outputs": [],
   "source": []
  }
 ],
 "metadata": {
  "kernelspec": {
   "display_name": "C++17",
   "language": "C++17",
   "name": "xcpp17"
  },
  "language_info": {
   "codemirror_mode": "text/x-c++src",
   "file_extension": ".cpp",
   "mimetype": "text/x-c++src",
   "name": "c++",
   "version": "-std=c++17"
  }
 },
 "nbformat": 4,
 "nbformat_minor": 2
}
