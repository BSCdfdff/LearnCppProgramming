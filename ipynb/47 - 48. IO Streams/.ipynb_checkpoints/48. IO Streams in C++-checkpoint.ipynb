{
 "cells": [
  {
   "cell_type": "markdown",
   "metadata": {},
   "source": [
    "# IO Streams\n",
    "___\n",
    "\n",
    "+ Text files and Binary Files\n",
    "+ Manupulators\n",
    "\n"
   ]
  },
  {
   "attachments": {},
   "cell_type": "markdown",
   "metadata": {},
   "source": [
    "###  Binary and Text Files\n",
    "\n",
    "Text files human readable, and Binary files are machine readable.\n",
    "\n",
    "We want to write the number 23 to:\n",
    "\n",
    "+ Text File\n",
    "+ Binary File\n",
    "\n",
    "How is it represented in T/B Files?\n",
    "\n",
    "Lets explore the **Binary** file (first)\n",
    "\n",
    "\n",
    "Binary value = 10111\n",
    "\n",
    "But int datatype = 0000000000010111\n",
    "\n",
    "\n",
    "#### Binary file\n",
    "0000000000010111\n",
    "\n",
    "\n",
    "Lets explore the **Text** file\n",
    "\n",
    "So 23 needs to be converted into ASCII\n",
    "\n",
    "2 = 50 and binary format = 110010\n",
    "3 = 51 and binary format = 110011\n",
    "\n",
    "And how many bits that ASCII codes take:\n",
    "110010 = 00110010  \n",
    "110010 = 00110010\n",
    "\n",
    "\n",
    "#### Text file\n",
    "00110010 00110010\n",
    "\n",
    "\n",
    "So when Notepad reads the **text file**, it takes the 8 bits per char and converts it to readable ASCI\n",
    "\n",
    "So when Notepad reads the **binary file**, it takes first 8 bits per char and converts it to ASCI which may/may not be readble. Then takes the next 8 bit. Thats wehy we get those funny char when reading a binary file. \n",
    "It will show junk chars, which is not meaningfull.\n",
    "\n",
    "And we have specific function in C++ for reading and writing bininary files, e.g mode ```ios::binary```\n",
    "\n",
    "Which are faster? Binary is faster, as text files needs conversion.\n",
    "Which takes less space? Binary\n",
    "\n",
    "###  Manipulators\n",
    "\n",
    "Instead of \"\\n\", we use ```endl```. This is a manipulator\n",
    "\n"
   ]
  },
  {
   "cell_type": "code",
   "execution_count": null,
   "metadata": {},
   "outputs": [],
   "source": []
  },
  {
   "cell_type": "code",
   "execution_count": 1,
   "metadata": {},
   "outputs": [],
   "source": [
    "#include <iostream>\n",
    "#include <fstream>\n",
    "#define c cout\n",
    "#define e endl\n",
    "#define INSERTION_OPERATOR operator<<\n",
    "#define EXTRACTION_OPERATOR operator>>\n",
    "using namespace std;"
   ]
  }
 ],
 "metadata": {
  "kernelspec": {
   "display_name": "C++17",
   "language": "C++17",
   "name": "xcpp17"
  },
  "language_info": {
   "codemirror_mode": "text/x-c++src",
   "file_extension": ".cpp",
   "mimetype": "text/x-c++src",
   "name": "c++",
   "version": "-std=c++17"
  }
 },
 "nbformat": 4,
 "nbformat_minor": 2
}
