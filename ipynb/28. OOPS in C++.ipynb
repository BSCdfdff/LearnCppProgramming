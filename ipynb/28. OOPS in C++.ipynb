{
 "cells": [
  {
   "cell_type": "markdown",
   "metadata": {},
   "source": [
    "# OOPS \n",
    "___\n",
    "\n",
    "+ Difference between Struct and Class"
   ]
  },
  {
   "cell_type": "markdown",
   "metadata": {},
   "source": [
    "## Difference between Struct and Class\n",
    "\n",
    "Struct is like a Class, can have data members and functions\n",
    "\n",
    "For Struct, by default, all members are PUBLIC, whereas for Class, by default, all members are PIRVATE\n",
    "\n",
    "That is the only difference."
   ]
  },
  {
   "cell_type": "code",
   "execution_count": null,
   "metadata": {},
   "outputs": [],
   "source": []
  },
  {
   "cell_type": "code",
   "execution_count": 1,
   "metadata": {},
   "outputs": [],
   "source": [
    "#include <iostream>\n",
    "#include <climits>\n",
    "#include <math.h>\n",
    "using namespace std;"
   ]
  },
  {
   "cell_type": "code",
   "execution_count": 2,
   "metadata": {},
   "outputs": [],
   "source": [
    "struct Demo{\n",
    "    int x;\n",
    "    int y;\n",
    "  \n",
    "    void Display(){\n",
    "        cout<<x<<\" \"<<y<<endl;\n",
    "    }\n",
    "    \n",
    "};"
   ]
  },
  {
   "cell_type": "code",
   "execution_count": 3,
   "metadata": {},
   "outputs": [
    {
     "name": "stdout",
     "output_type": "stream",
     "text": [
      "10 20\n"
     ]
    }
   ],
   "source": [
    "Demo t;\n",
    "t.x = 10;\n",
    "t.y=20;\n",
    "t.Display();"
   ]
  },
  {
   "cell_type": "code",
   "execution_count": 4,
   "metadata": {},
   "outputs": [],
   "source": [
    "class Toss{\n",
    "    int x;\n",
    "    int y;\n",
    "  \n",
    "    void Display(){\n",
    "        cout<<x<<\" \"<<y<<endl;\n",
    "    }\n",
    "    \n",
    "};"
   ]
  },
  {
   "cell_type": "code",
   "execution_count": 5,
   "metadata": {},
   "outputs": [
    {
     "name": "stderr",
     "output_type": "stream",
     "text": [
      "\u001b[1minput_line_12:3:3: \u001b[0m\u001b[0;1;31merror: \u001b[0m\u001b[1m'x' is a private member of 'Toss'\u001b[0m\n",
      "d.x = 10;\n",
      "\u001b[0;1;32m  ^\n",
      "\u001b[0m\u001b[1minput_line_11:2:9: \u001b[0m\u001b[0;1;30mnote: \u001b[0mimplicitly declared private here\u001b[0m\n",
      "    int x;\n",
      "\u001b[0;1;32m        ^\n",
      "\u001b[0m\u001b[1minput_line_12:4:3: \u001b[0m\u001b[0;1;31merror: \u001b[0m\u001b[1m'y' is a private member of 'Toss'\u001b[0m\n",
      "d.y=20;\n",
      "\u001b[0;1;32m  ^\n",
      "\u001b[0m\u001b[1minput_line_11:3:9: \u001b[0m\u001b[0;1;30mnote: \u001b[0mimplicitly declared private here\u001b[0m\n",
      "    int y;\n",
      "\u001b[0;1;32m        ^\n",
      "\u001b[0m\u001b[1minput_line_12:5:3: \u001b[0m\u001b[0;1;31merror: \u001b[0m\u001b[1m'Display' is a private member of 'Toss'\u001b[0m\n",
      "d.Display();\n",
      "\u001b[0;1;32m  ^\n",
      "\u001b[0m\u001b[1minput_line_11:5:10: \u001b[0m\u001b[0;1;30mnote: \u001b[0mimplicitly declared private here\u001b[0m\n",
      "    void Display(){\n",
      "\u001b[0;1;32m         ^\n",
      "\u001b[0m"
     ]
    },
    {
     "ename": "Interpreter Error",
     "evalue": "",
     "output_type": "error",
     "traceback": [
      "Interpreter Error: "
     ]
    }
   ],
   "source": [
    "Toss d;\n",
    "d.x = 10;\n",
    "d.y=20;\n",
    "d.Display();"
   ]
  }
 ],
 "metadata": {
  "kernelspec": {
   "display_name": "C++17",
   "language": "C++17",
   "name": "xcpp17"
  },
  "language_info": {
   "codemirror_mode": "text/x-c++src",
   "file_extension": ".cpp",
   "mimetype": "text/x-c++src",
   "name": "c++",
   "version": "-std=c++17"
  }
 },
 "nbformat": 4,
 "nbformat_minor": 2
}
