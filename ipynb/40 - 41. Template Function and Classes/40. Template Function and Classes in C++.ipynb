{
 "cells": [
  {
   "cell_type": "markdown",
   "metadata": {},
   "source": [
    "# Template Function and Classes\n",
    "___\n",
    "\n",
    "+ Template Functions\n",
    "+ Template Classes\n"
   ]
  },
  {
   "cell_type": "markdown",
   "metadata": {},
   "source": [
    "##  Template Function\n",
    "\n",
    "Considered the most important topic in c++..Lets explore.\n",
    "\n",
    "Templates are used to generic programming, that is generalised **data types**\n",
    "\n",
    "\n",
    "Given the function, I want to make it generic (i.e. charastic relating to class of things; something that does not have unique features) for any type of data:\n",
    "\n",
    "```\n",
    "int maximum (int x, int y){\n",
    "    return x > y?x:y\n",
    "}\n",
    "\n",
    "```\n",
    "To make it generic, i.e to apply to a group of datatype:\n",
    "\n",
    "```\n",
    "template <class T>\n",
    "T maximum (T x, T y){\n",
    "    return x > y?x:y\n",
    "}\n",
    "\n",
    "```\n",
    "\n",
    "So the above can now apply to and primitive types (**or even user defined classes**):\n",
    "\n",
    "+ int\n",
    "+ float\n",
    "+ double\n",
    "+ etc\n",
    "\n",
    "But the data types are the **SAME**\n",
    "\n",
    "And we can call:\n",
    "\n",
    "```\n",
    "maximum (12,16);        [int]\n",
    "maximum (12.5,16.6);    [doubles]\n",
    "maximum (12.5F,16.6F);  [floats]\n",
    "\n",
    "```\n",
    "\n",
    "From the above we passed the same type of arguments. Can we pass multiple or different type of arguments?\n",
    "\n",
    "Yes we can?\n",
    "\n",
    "The class determine the type, so we can separate it with comma:\n",
    "\n",
    "```\n",
    "template <class T, class R>\n",
    "void add (T x, R y){\n",
    "    cout<<x+ y<<endl;\n",
    "}    \n",
    "add(10,10.1F);\n",
    "20.1\n",
    "```\n",
    "\n",
    "So T becomes int\n",
    "And R becomes float\n",
    "\n",
    "So yes, to can pass arguments of **DIFFERENT** Data types\n"
   ]
  },
  {
   "cell_type": "code",
   "execution_count": 1,
   "metadata": {},
   "outputs": [],
   "source": [
    "#include <iostream>\n",
    "#include <climits>\n",
    "#include <math.h>\n",
    "using namespace std;"
   ]
  },
  {
   "cell_type": "code",
   "execution_count": 2,
   "metadata": {},
   "outputs": [],
   "source": [
    "template <class T>\n",
    "T maximum (T x, T y){\n",
    "    return x > y?x:y;\n",
    "}"
   ]
  },
  {
   "cell_type": "code",
   "execution_count": 3,
   "metadata": {},
   "outputs": [],
   "source": [
    "maximum (12,16);       \n",
    "maximum (12.5,16.6);   \n",
    "maximum (12.5F,16.6F); "
   ]
  },
  {
   "cell_type": "code",
   "execution_count": 4,
   "metadata": {},
   "outputs": [],
   "source": [
    "template <class T, class R>\n",
    "void add (T x, R y){\n",
    "    cout<<x+ y<<endl;\n",
    "}    "
   ]
  },
  {
   "cell_type": "code",
   "execution_count": 5,
   "metadata": {},
   "outputs": [
    {
     "name": "stdout",
     "output_type": "stream",
     "text": [
      "20.1\n"
     ]
    }
   ],
   "source": [
    "add(10,10.1F);"
   ]
  },
  {
   "cell_type": "code",
   "execution_count": null,
   "metadata": {},
   "outputs": [],
   "source": []
  }
 ],
 "metadata": {
  "kernelspec": {
   "display_name": "C++17",
   "language": "C++17",
   "name": "xcpp17"
  },
  "language_info": {
   "codemirror_mode": "text/x-c++src",
   "file_extension": ".cpp",
   "mimetype": "text/x-c++src",
   "name": "c++",
   "version": "-std=c++17"
  }
 },
 "nbformat": 4,
 "nbformat_minor": 2
}
