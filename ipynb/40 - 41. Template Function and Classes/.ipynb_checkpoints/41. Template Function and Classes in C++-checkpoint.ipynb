{
 "cells": [
  {
   "cell_type": "markdown",
   "metadata": {},
   "source": [
    "# Template Function and Classes\n",
    "___\n",
    "\n",
    "+ Template Functions\n",
    "+ Template Classes\n"
   ]
  },
  {
   "cell_type": "markdown",
   "metadata": {},
   "source": [
    "##  Template Classes\n",
    "\n",
    "Here we have Class, i.e Stack class using **integer**. \n",
    "\n",
    "But we need make it generic so it can deal with any other data type:\n",
    "\n",
    "```\n",
    "class Stack{\n",
    "private:\n",
    "    int s[10];\n",
    "    int top;\n",
    "public:\n",
    "    void push(int x);\n",
    "    int pop()\n",
    "}\n",
    "\n",
    "```\n",
    "The above is an integer stack, it wont work for char, float, etc.\n",
    "\n",
    "So the logic inside the class will be the **SAME** for any other datatype, its just the data type that is different\n",
    "\n",
    "And instead of writing the the same function for all other different types, we can use template class:\n",
    "\n",
    "Procedure:\n",
    "1. Gets normal template heading\n",
    "2. Replace the int with T\n",
    "\n",
    "\n",
    "\n",
    "```\n",
    "template <class T>\n",
    "class Stack{\n",
    "private:\n",
    "    T s[10];\n",
    "    int top;\n",
    "public:\n",
    "    void push(T x);\n",
    "    T pop()\n",
    "}\n",
    "\n",
    "```\n",
    "Since the above functions are prototypes, the body need to be defined outside using **scope resolution**\n",
    "\n",
    "Procedure (for body function):\n",
    "1. Gets normal template heading(as well)\n",
    "2. **But whenever you write the class name, you must write type ```<T>```, after the class name ```Stack<T>```:** \n",
    "\n",
    "```\n",
    "template <class T>\n",
    "void Stack<T>::push(T x){\n",
    "....\n",
    "}\n",
    "```\n",
    "\n",
    "Do the same for pop function:\n",
    "\n",
    "```\n",
    "template <class T>\n",
    "T Stack<T>::pop(T x){\n",
    "....\n",
    "}\n",
    "```\n",
    "\n",
    "So for each function outside the class, you **MUST** write the template syntax everytime.\n",
    "\n",
    "When we call it how do we now indicate its a **int/float/char** STACK. That is where do we write the **data type**\n",
    "\n",
    "As per point 2, above we write the type next to the name of class, ```Stack<int>```\n",
    "\n",
    "\n",
    "```\n",
    "Stack<int> s1;\n",
    "Stack<float> s2;\n",
    "Stack<string> s3;\n",
    "\n",
    "```\n",
    "\n",
    "See more detailed example below. \n"
   ]
  },
  {
   "cell_type": "code",
   "execution_count": 1,
   "metadata": {},
   "outputs": [],
   "source": [
    "#include <iostream>\n",
    "#include <climits>\n",
    "#include <math.h>\n",
    "using namespace std;"
   ]
  },
  {
   "cell_type": "code",
   "execution_count": 2,
   "metadata": {},
   "outputs": [],
   "source": [
    "class Stack{\n",
    "private:\n",
    "    int *stk;\n",
    "    int top;\n",
    "    int size;\n",
    "public:\n",
    "    Stack(int sz){\n",
    "        top = -1;\n",
    "        size =sz;\n",
    "        stk = new int[size];\n",
    "    }\n",
    "    void push(int x);\n",
    "    int pop();\n",
    "}"
   ]
  },
  {
   "cell_type": "code",
   "execution_count": 3,
   "metadata": {},
   "outputs": [],
   "source": [
    "void Stack::push(int x){\n",
    "    if(top == size - 1){\n",
    "        cout<<\"Stack is full\"<<endl;\n",
    "    }\n",
    "    else{\n",
    "        cout<<\"Item ADDED to Stack\"<<endl;\n",
    "        top++;\n",
    "        stk[top] = x;\n",
    "    }\n",
    "}"
   ]
  },
  {
   "cell_type": "code",
   "execution_count": 4,
   "metadata": {},
   "outputs": [],
   "source": [
    "int Stack::pop(){\n",
    "    int x= 0;\n",
    "    if (top ==-1){\n",
    "        cout<<\"Stack is EMPTY\"<<endl;\n",
    "        \n",
    "    }\n",
    "    else{\n",
    "        cout<<\"Item REMOVED from Stack\"<<endl;\n",
    "        x=stk[top];\n",
    "        top--;\n",
    "    }\n",
    "    return x;\n",
    "}"
   ]
  },
  {
   "cell_type": "code",
   "execution_count": 5,
   "metadata": {},
   "outputs": [],
   "source": [
    "Stack s1(3);"
   ]
  },
  {
   "cell_type": "code",
   "execution_count": 6,
   "metadata": {},
   "outputs": [
    {
     "name": "stdout",
     "output_type": "stream",
     "text": [
      "Item ADDED to Stack\n",
      "Item ADDED to Stack\n",
      "Item ADDED to Stack\n",
      "Stack is full\n"
     ]
    }
   ],
   "source": [
    "s1.push(1);\n",
    "s1.push(2);\n",
    "s1.push(3);\n",
    "s1.push(4);\n"
   ]
  },
  {
   "cell_type": "code",
   "execution_count": 7,
   "metadata": {},
   "outputs": [
    {
     "name": "stdout",
     "output_type": "stream",
     "text": [
      "Item REMOVED from Stack\n",
      "Item REMOVED from Stack\n",
      "Item REMOVED from Stack\n",
      "Stack is EMPTY\n"
     ]
    }
   ],
   "source": [
    "s1.pop();\n",
    "s1.pop();\n",
    "s1.pop();\n",
    "s1.pop();\n"
   ]
  },
  {
   "cell_type": "code",
   "execution_count": null,
   "metadata": {},
   "outputs": [],
   "source": []
  },
  {
   "cell_type": "code",
   "execution_count": null,
   "metadata": {},
   "outputs": [],
   "source": []
  }
 ],
 "metadata": {
  "kernelspec": {
   "display_name": "C++17",
   "language": "C++17",
   "name": "xcpp17"
  },
  "language_info": {
   "codemirror_mode": "text/x-c++src",
   "file_extension": ".cpp",
   "mimetype": "text/x-c++src",
   "name": "c++",
   "version": "-std=c++17"
  }
 },
 "nbformat": 4,
 "nbformat_minor": 2
}
