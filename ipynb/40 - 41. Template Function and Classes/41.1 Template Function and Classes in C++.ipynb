{
 "cells": [
  {
   "cell_type": "markdown",
   "metadata": {},
   "source": [
    "# Template Function and Classes\n",
    "___\n",
    "\n",
    "+ Template Functions\n",
    "+ Template Classes\n"
   ]
  },
  {
   "cell_type": "markdown",
   "metadata": {},
   "source": [
    "##  Template Classes\n",
    "\n",
    "**Does not work**\n",
    "\n",
    "```\n",
    "Stack <string> s3;\n",
    "\n",
    "```"
   ]
  },
  {
   "cell_type": "code",
   "execution_count": 1,
   "metadata": {},
   "outputs": [],
   "source": [
    "#include <iostream>\n",
    "#include <climits>\n",
    "#include <math.h>\n",
    "#define c cout\n",
    "#define e endl\n",
    "#include<string>\n",
    "using namespace std;"
   ]
  },
  {
   "cell_type": "code",
   "execution_count": 2,
   "metadata": {},
   "outputs": [],
   "source": [
    "template <class T>\n",
    "\n",
    "class Stack{\n",
    "private:\n",
    "    T *stk;\n",
    "    int top;\n",
    "    int size;\n",
    "public:\n",
    "    Stack(T sz){\n",
    "        top = -1;\n",
    "        size =sz;\n",
    "        stk = new T[size];\n",
    "    }\n",
    "    void push(T x);\n",
    "    T pop();\n",
    "};"
   ]
  },
  {
   "cell_type": "code",
   "execution_count": 3,
   "metadata": {},
   "outputs": [],
   "source": [
    "template <class T>\n",
    "void Stack<T>::push(T x){\n",
    "    if(top == size - 1){\n",
    "        cout<<\"Stack is full\"<<endl;\n",
    "    }\n",
    "    else{\n",
    "        cout<<\"Item \"<<x<<\" ADDED to Stack\"<<endl;\n",
    "        top++;\n",
    "        stk[top] = x;\n",
    "    }\n",
    "};"
   ]
  },
  {
   "cell_type": "code",
   "execution_count": 4,
   "metadata": {},
   "outputs": [],
   "source": [
    "template <class T>\n",
    "T Stack<T>::pop(){\n",
    "    T x= 0;\n",
    "    if (top ==-1){\n",
    "        cout<<\"Stack is EMPTY\"<<endl;\n",
    "        \n",
    "    }\n",
    "    else{\n",
    "        x=stk[top];\n",
    "        top--;\n",
    "        cout<<\"Item \"<<x<<\" REMOVED from Stack\"<<endl;\n",
    "    }\n",
    "    return x;\n",
    "};"
   ]
  },
  {
   "cell_type": "code",
   "execution_count": 5,
   "metadata": {},
   "outputs": [],
   "source": [
    "Stack<int> s1(3);"
   ]
  },
  {
   "cell_type": "code",
   "execution_count": 6,
   "metadata": {},
   "outputs": [
    {
     "name": "stdout",
     "output_type": "stream",
     "text": [
      "Item 1 ADDED to Stack\n",
      "Item 2 ADDED to Stack\n",
      "Item 3 ADDED to Stack\n",
      "Stack is full\n"
     ]
    }
   ],
   "source": [
    "s1.push(1);\n",
    "s1.push(2);\n",
    "s1.push(3);\n",
    "s1.push(4);"
   ]
  },
  {
   "cell_type": "code",
   "execution_count": 7,
   "metadata": {},
   "outputs": [
    {
     "name": "stdout",
     "output_type": "stream",
     "text": [
      "Item 3 REMOVED from Stack\n",
      "Item 2 REMOVED from Stack\n",
      "Item 1 REMOVED from Stack\n",
      "Stack is EMPTY\n"
     ]
    }
   ],
   "source": [
    "s1.pop();\n",
    "s1.pop();\n",
    "s1.pop();\n",
    "s1.pop();\n"
   ]
  },
  {
   "cell_type": "code",
   "execution_count": 8,
   "metadata": {},
   "outputs": [],
   "source": [
    "Stack<char> s2(3);"
   ]
  },
  {
   "cell_type": "code",
   "execution_count": 9,
   "metadata": {},
   "outputs": [
    {
     "name": "stdout",
     "output_type": "stream",
     "text": [
      "Item C ADDED to Stack\n",
      "Item J ADDED to Stack\n",
      "Item C ADDED to Stack\n",
      "Stack is full\n"
     ]
    }
   ],
   "source": [
    "s2.push('C');\n",
    "s2.push('J');\n",
    "s2.push('C');\n",
    "s2.push('N');"
   ]
  },
  {
   "cell_type": "code",
   "execution_count": 10,
   "metadata": {},
   "outputs": [],
   "source": [
    "Stack<float> s3(3);"
   ]
  },
  {
   "cell_type": "code",
   "execution_count": 11,
   "metadata": {},
   "outputs": [
    {
     "name": "stdout",
     "output_type": "stream",
     "text": [
      "Item 12.5 ADDED to Stack\n",
      "Item 2.5 ADDED to Stack\n",
      "Item 3.5 ADDED to Stack\n",
      "Stack is full\n"
     ]
    }
   ],
   "source": [
    "s3.push(12.5F);\n",
    "s3.push(2.5F);\n",
    "s3.push(3.5F);\n",
    "s3.push(7.5F);"
   ]
  },
  {
   "cell_type": "code",
   "execution_count": 12,
   "metadata": {},
   "outputs": [
    {
     "name": "stdout",
     "output_type": "stream",
     "text": [
      "Item 3.5 REMOVED from Stack\n",
      "Item 2.5 REMOVED from Stack\n",
      "Item 12.5 REMOVED from Stack\n",
      "Stack is EMPTY\n"
     ]
    }
   ],
   "source": [
    "s3.pop();\n",
    "s3.pop();\n",
    "s3.pop();\n",
    "s3.pop();"
   ]
  }
 ],
 "metadata": {
  "kernelspec": {
   "display_name": "C++17",
   "language": "C++17",
   "name": "xcpp17"
  },
  "language_info": {
   "codemirror_mode": "text/x-c++src",
   "file_extension": ".cpp",
   "mimetype": "text/x-c++src",
   "name": "c++",
   "version": "-std=c++17"
  }
 },
 "nbformat": 4,
 "nbformat_minor": 2
}
