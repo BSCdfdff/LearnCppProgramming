{
 "cells": [
  {
   "cell_type": "markdown",
   "metadata": {},
   "source": [
    "## Why do we need pointers?\n",
    "\n",
    "___\n",
    "\n",
    "\n",
    "## Reason 1: Scope outside the function. \n",
    "\n",
    "No need for return statement of you leave the scope of the function where it was defined.\n",
    "\n",
    "## Reason 2: Access to variables from outside function. \n",
    "\n",
    "## Reason 3: Dynamic Memory Allocation.\n",
    "\n",
    "## Reason 4: Need large part of Memory.\n",
    "\n",
    "## Reason 5: Polymorphism.\n",
    "\n",
    "## Reason 6: To accommodate objects thats optional\n",
    "\n",
    "## Reason 7: Fine grain lifetime control...scope\n",
    "\n",
    "## Reason 8: Fine grain lifetime control...scope\n",
    "\n",
    "## Reason 9: ....? DeclaFine grain lifetime control...scope"
   ]
  },
  {
   "cell_type": "code",
   "execution_count": null,
   "metadata": {},
   "outputs": [],
   "source": []
  }
 ],
 "metadata": {
  "kernelspec": {
   "display_name": "C++17",
   "language": "C++17",
   "name": "xcpp17"
  },
  "language_info": {
   "codemirror_mode": "text/x-c++src",
   "file_extension": ".cpp",
   "mimetype": "text/x-c++src",
   "name": "c++",
   "version": "-std=c++17"
  }
 },
 "nbformat": 4,
 "nbformat_minor": 2
}
