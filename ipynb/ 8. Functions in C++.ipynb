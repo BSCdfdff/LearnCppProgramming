{
 "cells": [
  {
   "cell_type": "markdown",
   "metadata": {},
   "source": [
    "# Function Parameter passing methods (*1)\n",
    "___\n",
    "\n",
    "## Pass by:\n",
    "     1. Value\n",
    "     2. Address\n",
    "     3. Reference"
   ]
  },
  {
   "cell_type": "markdown",
   "metadata": {},
   "source": [
    "## <center>Pass by Value</center>\n",
    "___\n",
    "![](images/PassByValue.png)"
   ]
  },
  {
   "cell_type": "markdown",
   "metadata": {},
   "source": [
    "## How does it work?\n",
    "\n",
    "x and y are called **Actual Parameters** (Arguments)\n",
    "a and b are called **Formal Parameters** (Arguments)\n",
    "\n",
    "When pass by value, formal paremeters cannot change actual parameters\n",
    "\n",
    "x,y has its own memory space\n",
    "\n",
    "When do we use Call by value: When you need to do some work in swap (called procedure), and then just return. If you do return woth a vlaue, then then that value is returned.\n",
    "But as soon as \"swap\" finishes, all memory (a, b) gets dealllocated."
   ]
  },
  {
   "cell_type": "code",
   "execution_count": 1,
   "metadata": {},
   "outputs": [],
   "source": [
    "#include <iostream>\n",
    "#include <climits>\n",
    "#include <math.h>\n",
    "using namespace std;"
   ]
  },
  {
   "cell_type": "markdown",
   "metadata": {},
   "source": [
    "## Pass by Value"
   ]
  },
  {
   "cell_type": "code",
   "execution_count": 2,
   "metadata": {},
   "outputs": [],
   "source": [
    "void swap(int a, int b){\n",
    "    int temp;\n",
    "    a= temp;\n",
    "    a=b;\n",
    "    b=temp;\n",
    "}"
   ]
  },
  {
   "cell_type": "markdown",
   "metadata": {},
   "source": [
    "### No change to output"
   ]
  },
  {
   "cell_type": "code",
   "execution_count": 3,
   "metadata": {},
   "outputs": [
    {
     "name": "stdout",
     "output_type": "stream",
     "text": [
      "10 20\n",
      "10 20\n"
     ]
    }
   ],
   "source": [
    "int x = 10, y = 20;\n",
    "cout<<x<< \" \" <<y<<endl;\n",
    "swap(x,y);\n",
    "cout<<x<< \" \" <<y<<endl;"
   ]
  },
  {
   "cell_type": "code",
   "execution_count": null,
   "metadata": {},
   "outputs": [],
   "source": []
  }
 ],
 "metadata": {
  "kernelspec": {
   "display_name": "C++17",
   "language": "C++17",
   "name": "xcpp17"
  },
  "language_info": {
   "codemirror_mode": "text/x-c++src",
   "file_extension": ".cpp",
   "mimetype": "text/x-c++src",
   "name": "c++",
   "version": "-std=c++17"
  }
 },
 "nbformat": 4,
 "nbformat_minor": 2
}
