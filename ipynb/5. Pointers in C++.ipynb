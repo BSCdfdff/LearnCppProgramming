{
 "cells": [
  {
   "cell_type": "markdown",
   "metadata": {},
   "source": [
    "# Pointer Reference\n",
    "___\n",
    "+ ### Reference is nothing more than an alias or nickname\n",
    "+ ### Reference does not consume additional memory (main advantage)\n",
    "+ ### Remember: Defining a normal (data) pointer, requires additional memory for the pointer itself"
   ]
  },
  {
   "cell_type": "code",
   "execution_count": 1,
   "metadata": {},
   "outputs": [],
   "source": [
    "#include <iostream>\n",
    "#include <climits>\n",
    "#include <math.h>\n",
    "using namespace std;"
   ]
  },
  {
   "cell_type": "code",
   "execution_count": 2,
   "metadata": {
    "scrolled": true
   },
   "outputs": [
    {
     "name": "stdout",
     "output_type": "stream",
     "text": [
      "10\n"
     ]
    },
    {
     "data": {
      "text/plain": [
       "@0x7f0c73946b60"
      ]
     },
     "execution_count": 2,
     "metadata": {},
     "output_type": "execute_result"
    }
   ],
   "source": [
    "int x = 10;\n",
    "//int y;\n",
    "cout<<x<<endl;    //10\n",
    "//cout<<y<<endl;    //random"
   ]
  },
  {
   "cell_type": "markdown",
   "metadata": {},
   "source": [
    "## Declaration and Initialization MUST happen at same time\n",
    "+ ### Here we use & on LHS, e.g. &y+ \n",
    "+ ### This is how we define a Pointer by Reference"
   ]
  },
  {
   "cell_type": "code",
   "execution_count": 3,
   "metadata": {},
   "outputs": [
    {
     "name": "stdout",
     "output_type": "stream",
     "text": [
      "10\n",
      "11\n",
      "11\n",
      "12\n",
      "12\n"
     ]
    },
    {
     "data": {
      "text/plain": [
       "@0x7f0c73946b60"
      ]
     },
     "execution_count": 3,
     "metadata": {},
     "output_type": "execute_result"
    }
   ],
   "source": [
    "int &y = x;\n",
    "cout<<y<<endl;    //10\n",
    "x++;\n",
    "cout<<y<<endl;    //11, as if we dealig with x    \n",
    "cout<<x<<endl;    //11\n",
    "y++;\n",
    "cout<<y<<endl;    //12, as if we dealig with x    \n",
    "cout<<x<<endl;    //12"
   ]
  },
  {
   "cell_type": "code",
   "execution_count": null,
   "metadata": {},
   "outputs": [],
   "source": []
  }
 ],
 "metadata": {
  "kernelspec": {
   "display_name": "C++17",
   "language": "C++17",
   "name": "xcpp17"
  },
  "language_info": {
   "codemirror_mode": "text/x-c++src",
   "file_extension": ".cpp",
   "mimetype": "text/x-c++src",
   "name": "c++",
   "version": "-std=c++17"
  }
 },
 "nbformat": 4,
 "nbformat_minor": 2
}
